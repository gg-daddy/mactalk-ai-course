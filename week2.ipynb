{
 "cells": [
  {
   "cell_type": "markdown",
   "metadata": {},
   "source": [
    "## 从简单任务开始"
   ]
  },
  {
   "cell_type": "code",
   "execution_count": 11,
   "metadata": {},
   "outputs": [
    {
     "name": "stdout",
     "output_type": "stream",
     "text": [
      "{\n",
      "  \"choices\": [\n",
      "    {\n",
      "      \"finish_reason\": \"stop\",\n",
      "      \"index\": 0,\n",
      "      \"logprobs\": {\n",
      "        \"text_offset\": [\n",
      "          69,\n",
      "          70,\n",
      "          71,\n",
      "          74,\n",
      "          75,\n",
      "          78,\n",
      "          79,\n",
      "          87,\n",
      "          92,\n",
      "          93,\n",
      "          94,\n",
      "          98\n",
      "        ],\n",
      "        \"token_logprobs\": [\n",
      "          -0.0049893325,\n",
      "          -0.0003558555,\n",
      "          -0.052654345,\n",
      "          -7.8540467e-07,\n",
      "          -4.1232483e-06,\n",
      "          -0.00029557722,\n",
      "          -0.006009822,\n",
      "          -0.16504654,\n",
      "          -3.076318e-07,\n",
      "          -0.0005904526,\n",
      "          -6.6619094e-07,\n",
      "          -1.3742824\n",
      "        ],\n",
      "        \"tokens\": [\n",
      "          \"\\n\",\n",
      "          \"\\n\",\n",
      "          \"Bon\",\n",
      "          \"j\",\n",
      "          \"our\",\n",
      "          \",\",\n",
      "          \" comment\",\n",
      "          \" alle\",\n",
      "          \"z\",\n",
      "          \"-\",\n",
      "          \"vous\",\n",
      "          \"?\"\n",
      "        ],\n",
      "        \"top_logprobs\": [\n",
      "          {\n",
      "            \"\\n\": -0.0049893325\n",
      "          },\n",
      "          {\n",
      "            \"\\n\": -0.0003558555\n",
      "          },\n",
      "          {\n",
      "            \"Bon\": -0.052654345\n",
      "          },\n",
      "          {\n",
      "            \"j\": -7.8540467e-07\n",
      "          },\n",
      "          {\n",
      "            \"our\": -4.1232483e-06\n",
      "          },\n",
      "          {\n",
      "            \",\": -0.00029557722\n",
      "          },\n",
      "          {\n",
      "            \" comment\": -0.006009822\n",
      "          },\n",
      "          {\n",
      "            \" alle\": -0.16504654\n",
      "          },\n",
      "          {\n",
      "            \"z\": -3.076318e-07\n",
      "          },\n",
      "          {\n",
      "            \"-\": -0.0005904526\n",
      "          },\n",
      "          {\n",
      "            \"vous\": -6.6619094e-07\n",
      "          },\n",
      "          {\n",
      "            \" ?\": -0.314485\n",
      "          }\n",
      "        ]\n",
      "      },\n",
      "      \"text\": \"\\n\\nBonjour, comment allez-vous?\"\n",
      "    }\n",
      "  ],\n",
      "  \"created\": 1697596532,\n",
      "  \"id\": \"cmpl-8AqhArIAAcOjdSfJSVrb5Vxgmu4qI\",\n",
      "  \"model\": \"text-davinci-003\",\n",
      "  \"object\": \"text_completion\",\n",
      "  \"usage\": {\n",
      "    \"completion_tokens\": 12,\n",
      "    \"prompt_tokens\": 16,\n",
      "    \"total_tokens\": 28\n",
      "  },\n",
      "  \"warning\": \"This model version is deprecated. Migrate before January 4, 2024 to avoid disruption of service. Learn more https://platform.openai.com/docs/deprecations\"\n",
      "}\n"
     ]
    }
   ],
   "source": [
    "import openai\n",
    "\n",
    "response = openai.Completion.create(\n",
    "  engine=\"text-davinci-003\",\n",
    "  prompt=\"Translate the following English text to French: 'Hello, how are you?'\",\n",
    "  max_tokens=60,\n",
    "  logprobs=1  # 请求每个生成令牌的前两个最可能的log概率\n",
    ")\n",
    "\n",
    "print(response)\n",
    "\n",
    "# 从API响应中提取log概率信息\n",
    "logprobs_info = response['choices'][0]['logprobs']\n"
   ]
  },
  {
   "cell_type": "code",
   "execution_count": 1,
   "metadata": {},
   "outputs": [
    {
     "name": "stdout",
     "output_type": "stream",
     "text": [
      "\n",
      "\n",
      "1955-56、 1956-57、 1957-58、 1958-59、 1959-60、 1965-66、 1997-98、 1999-2000、 2001-02、 2013-14、 2015-16、 2016-17、 2017-18。\n"
     ]
    }
   ],
   "source": [
    "import openai\n",
    "import os\n",
    "\n",
    "openai.api_key = os.environ.get(\"OPENAI_API_KEY\")\n",
    "COMPLETION_MODEL = \"text-davinci-003\"\n",
    "\n",
    "\n",
    "def get_response(prompt):\n",
    "    completions = openai.Completion.create (\n",
    "        engine=COMPLETION_MODEL,\n",
    "        prompt=prompt,\n",
    "        max_tokens=512,\n",
    "        n=1,\n",
    "        stop=None,\n",
    "        temperature=0.0,        \n",
    "    )\n",
    "    message = completions['choices'][0].text # type: ignore\n",
    "    return message\n",
    "\n",
    "# 少了没有数据的21-22\n",
    "print(get_response(\"皇家马德里获得过几次欧洲冠军联赛冠军，分别是哪几年？\")) "
   ]
  },
  {
   "cell_type": "code",
   "execution_count": 3,
   "metadata": {},
   "outputs": [
    {
     "name": "stdout",
     "output_type": "stream",
     "text": [
      "\n",
      "\n",
      "Imagen算法是一种基于深度学习的图像分类算法，它可以自动识别图像中的物体，并将其分类为不同的类别。它使用卷积神经网络（CNN）来提取图像的特征，并使用支持向量机（SVM）来进行分类。\n"
     ]
    }
   ],
   "source": [
    "# 基本上会胡扯\n",
    "print(get_response(\"Imagen算法是什么？\"))"
   ]
  },
  {
   "cell_type": "markdown",
   "metadata": {},
   "source": [
    "### 任务驱动，而不是问答驱动"
   ]
  },
  {
   "cell_type": "code",
   "execution_count": 1,
   "metadata": {},
   "outputs": [
    {
     "name": "stdout",
     "output_type": "stream",
     "text": [
      "\n",
      "{\n",
      "    \"title\": \"Glow-in-the-Dark Inflatable PVC Frog Night Market Hot Selling Water Toy\",\n",
      "    \"selling_points\": [\n",
      "        \"Made of durable PVC material\",\n",
      "        \"Glow-in-the-dark design for night play\",\n",
      "        \"Inflatable design for easy storage and transport\",\n",
      "        \"Perfect for pool, beach, and lake play\",\n",
      "        \"Great for children of all ages\"\n",
      "    ],\n",
      "    \"price_range\": \"$10 - $20\"\n",
      "}\n"
     ]
    }
   ],
   "source": [
    "import openai\n",
    "import os\n",
    "\n",
    "openai.api_key = os.environ.get(\"OPENAI_API_KEY\")\n",
    "COMPLETION_MODEL = \"text-davinci-003\"\n",
    "\n",
    "\n",
    "prompt = \"\"\"\n",
    "Consideration proudct : 工厂现货PVC充气青蛙夜市地摊热卖充气玩具发光蛙儿童水上玩具\n",
    "\n",
    "1. Compose human readale product title used on Amazon in english within 20 words.\n",
    "2. Write 5 selling points for the products in Amazon.\n",
    "3. Evaluate a price range for this product in U.S.\n",
    "\n",
    "Output the result in json format with three properties called title, selling_points and price_range\n",
    "\"\"\"\n",
    "\n",
    "def get_response(prompt):\n",
    "    completions = openai.Completion.create (\n",
    "        engine=COMPLETION_MODEL,\n",
    "        prompt=prompt,\n",
    "        max_tokens=512,\n",
    "        n=1,\n",
    "        stop=None,\n",
    "        temperature=0.0,        \n",
    "    )\n",
    "    message = completions['choices'][0].text # type: ignore\n",
    "    return message\n",
    "\n",
    "print(get_response(prompt)) "
   ]
  },
  {
   "cell_type": "markdown",
   "metadata": {},
   "source": [
    "### 试一下命名实体识别"
   ]
  },
  {
   "cell_type": "code",
   "execution_count": 4,
   "metadata": {},
   "outputs": [
    {
     "name": "stdout",
     "output_type": "stream",
     "text": [
      "\n",
      "{\n",
      "    \"实体\": [\"Man Utd\", \"Ten Hag\", \"League Cup\"]\n",
      "}\n"
     ]
    }
   ],
   "source": [
    "sentence = \"Man Utd must win trophies, says Ten Hag ahead of League Cup final\"\n",
    "prompt = f\"请提取以下句子中的命名实体，并以json形式输出\\n{sentence} \\n\"\n",
    "\n",
    "print(get_response(prompt))"
   ]
  },
  {
   "cell_type": "code",
   "execution_count": 6,
   "metadata": {},
   "outputs": [
    {
     "name": "stdout",
     "output_type": "stream",
     "text": [
      "\n",
      "{\n",
      "    \"Organization\": [\"Man Utd\", \"League Cup\"],\n",
      "    \"Person\": [\"Ten Hag\"]\n",
      "}\n"
     ]
    }
   ],
   "source": [
    "prompt = f\"请提取以下句子中的命名实体，并以json形式输出，json的key是实体的类型。\\n{sentence} \\n\"\n",
    "print(get_response(prompt))"
   ]
  },
  {
   "cell_type": "code",
   "execution_count": 7,
   "metadata": {},
   "outputs": [
    {
     "name": "stdout",
     "output_type": "stream",
     "text": [
      "\n",
      "{\n",
      "    \"订单号\": \"202303251200ABC\"\n",
      "}\n"
     ]
    }
   ],
   "source": [
    "order_sentence = \"你好，我有一个订单一直没有收到，订单号是202303251200ABC\"\n",
    "prompt = f\"请提取以下句子中的命名实体，并以json形式输出，json的key是实体的类型。\\n{order_sentence} \\n\"\n",
    "print(get_response(prompt))"
   ]
  },
  {
   "cell_type": "markdown",
   "metadata": {},
   "source": [
    "### 情感分析"
   ]
  },
  {
   "cell_type": "code",
   "execution_count": 12,
   "metadata": {},
   "outputs": [
    {
     "name": "stdout",
     "output_type": "stream",
     "text": [
      "\n",
      "\n",
      "正面的。\n"
     ]
    }
   ],
   "source": [
    "prompts = \"\"\"判断一下以下用户的评论情感上是正面的还是负面的.\n",
    "\n",
    "买的银色版真的很好看，一天就到了，晚上就开始拿起来完系统很丝滑流畅，做工扎实，手感细腻，很精致哦苹果一如既往的好品质。\"\"\"\n",
    "\n",
    "print(get_response(prompts))"
   ]
  },
  {
   "cell_type": "markdown",
   "metadata": {},
   "source": [
    "### 更好的Prompt来控制结果输出"
   ]
  },
  {
   "cell_type": "code",
   "execution_count": 13,
   "metadata": {},
   "outputs": [
    {
     "name": "stdout",
     "output_type": "stream",
     "text": [
      "正面\n"
     ]
    }
   ],
   "source": [
    "prompts = \"\"\"判断一下用户的评论情感上是正面的还是负面的.\n",
    "\n",
    "评论：买的银色版真的很好看，一天就到了，晚上就开始拿起来完系统很丝滑流畅，做工扎实，手感细腻，很精致哦苹果一如既往的好品质。\n",
    "情感：\"\"\"\n",
    "\n",
    "print(get_response(prompts))"
   ]
  },
  {
   "cell_type": "markdown",
   "metadata": {},
   "source": [
    "## Few-shot Learning"
   ]
  },
  {
   "cell_type": "code",
   "execution_count": 14,
   "metadata": {},
   "outputs": [
    {
     "name": "stdout",
     "output_type": "stream",
     "text": [
      "正面\n"
     ]
    }
   ],
   "source": [
    "prompts = \"\"\"判断一下用户的评论情感上是正面的还是负面的\n",
    "评论：买的银色版真的很好看，一天就到了，晚上就开始拿起来完系统很丝滑流畅，做工扎实，手感细腻，很精致哦苹果一如既往的好品质\n",
    "情感：正面\n",
    "\n",
    "评论：随意降价，不予价保，服务态度差\n",
    "情感：负面\n",
    "\"\"\"\n",
    "\n",
    "good_case = prompts + \"\"\"\n",
    "评论：外形外观：苹果审美一直很好，金色非常漂亮\n",
    "拍照效果：14pro升级的4800万像素真的是没的说，太好了，\n",
    "运行速度：苹果的反应速度好，用上三五年也不会卡顿的，之前的7P用到现在也不卡\n",
    "其他特色：14pro的磨砂金真的太好看了，不太高调，也不至于没有特点，非常耐看，很好的\n",
    "情感：\n",
    "\"\"\"\n",
    "\n",
    "print(get_response(good_case))"
   ]
  },
  {
   "cell_type": "markdown",
   "metadata": {},
   "source": [
    "### 对于Few-Shot Learning的封装"
   ]
  },
  {
   "cell_type": "code",
   "execution_count": 19,
   "metadata": {},
   "outputs": [
    {
     "name": "stdout",
     "output_type": "stream",
     "text": [
      "Prompt:\n",
      "判断一下用户的评论情感上是正面的还是负面的\n",
      "\n",
      "评论： 买的银色版真的很好看，一天就到了，晚上就开始拿起来完系统很丝滑流畅，做工扎实，手感细腻，很精致哦苹果一如既往的好品质\n",
      "情感： 正面\n",
      "\n",
      "评论： 随意降价，不予价保，服务态度差\n",
      "情感： 负面\n",
      "\n",
      "评论： 外形外观：苹果审美一直很好，金色非常漂亮\n",
      "拍照效果：14pro升级的4800万像素真的是没的说，太好了，\n",
      "运行速度：苹果的反应速度好，用上三五年也不会卡顿的，之前的7P用到现在也不卡\n",
      "其他特色：14pro的磨砂金真的太好看了，不太高调，也不至于没有特点，非常耐看，很好的\n",
      "情感： \n",
      "\n",
      "\n",
      "\n",
      "Response:\n",
      " 正面\n"
     ]
    }
   ],
   "source": [
    "class Example:\n",
    "    def __init__(self, question, answer) -> None:\n",
    "        self.question = question\n",
    "        self.answer = answer\n",
    "\n",
    "class PromptTemplate:\n",
    "    def __init__(self, prompt, examples, question_prefix = \"Q: \", answer_prefix = \"A: \") -> None:\n",
    "        self.prompt = prompt\n",
    "        self.examples = examples\n",
    "        self.question_prefix = question_prefix\n",
    "        self.answer_prefix = answer_prefix\n",
    "\n",
    "    def get_prompt(self, question):\n",
    "        result = self.prompt + \"\\n\\n\"\n",
    "        for example in self.examples:\n",
    "            result += f\"{self.question_prefix} {example.question}\\n{self.answer_prefix} {example.answer}\\n\\n\"\n",
    "        result += f\"{self.question_prefix} {question}\\n{self.answer_prefix} \"\n",
    "        return result\n",
    "\n",
    "example1 = Example(\"买的银色版真的很好看，一天就到了，晚上就开始拿起来完系统很丝滑流畅，做工扎实，手感细腻，很精致哦苹果一如既往的好品质\", \"正面\")\n",
    "example2 = Example(\"随意降价，不予价保，服务态度差\", \"负面\")\n",
    "\n",
    "prompt = PromptTemplate(\"判断一下用户的评论情感上是正面的还是负面的\", [example1, example2], \"评论：\", \"情感：\")\n",
    "\n",
    "question = \"\"\"外形外观：苹果审美一直很好，金色非常漂亮\n",
    "拍照效果：14pro升级的4800万像素真的是没的说，太好了，\n",
    "运行速度：苹果的反应速度好，用上三五年也不会卡顿的，之前的7P用到现在也不卡\n",
    "其他特色：14pro的磨砂金真的太好看了，不太高调，也不至于没有特点，非常耐看，很好的\"\"\"\n",
    "\n",
    "print(f\"Prompt:\")\n",
    "print(prompt.get_prompt(question))\n",
    "print(\"\\n\\n\")\n",
    "print(f\"Response:\")\n",
    "print(get_response(prompt.get_prompt(question)))\n",
    "\n",
    "\n"
   ]
  },
  {
   "cell_type": "markdown",
   "metadata": {},
   "source": [
    "## Completions接口"
   ]
  },
  {
   "cell_type": "markdown",
   "metadata": {},
   "source": [
    "### max_tokens, temperature, top_p, n 以及 stop 参数的演示"
   ]
  },
  {
   "cell_type": "code",
   "execution_count": 1,
   "metadata": {},
   "outputs": [],
   "source": [
    "import openai\n",
    "import os\n",
    "\n",
    "openai.api_key = os.environ.get(\"OPENAI_API_KEY\")\n",
    "COMPLETION_MODEL = \"text-davinci-003\"\n",
    "\n",
    "def get_response(prompt, max_tokens=512, temperature=0.0, n=1, stop=None):\n",
    "    completions = openai.Completion.create(\n",
    "        engine=COMPLETION_MODEL,\n",
    "        prompt=prompt,\n",
    "        max_tokens=max_tokens,\n",
    "        n=n,\n",
    "        stop=stop,\n",
    "        temperature=temperature,        \n",
    "    )\n",
    "    return completions\n"
   ]
  },
  {
   "cell_type": "code",
   "execution_count": 2,
   "metadata": {},
   "outputs": [
    {
     "name": "stdout",
     "output_type": "stream",
     "text": [
      "{\n",
      "  \"choices\": [\n",
      "    {\n",
      "      \"finish_reason\": \"stop\",\n",
      "      \"index\": 0,\n",
      "      \"logprobs\": null,\n",
      "      \"text\": \"\\n\\n\\u60a8\\u597d\\uff0c\\u975e\\u5e38\\u62b1\\u6b49\\u7684\\u901a\\u77e5\\u60a8\\uff0c\\u6d17\\u9762\\u5976\\u7684\\u4f18\\u60e0\\u6d3b\\u52a8\\u5df2\\u7ecf\\u7ed3\\u675f\\uff0c\\u611f\\u8c22\\u60a8\\u7684\\u5173\\u6ce8\\uff0c\\u671f\\u5f85\\u60a8\\u7684\\u4e0b\\u6b21\\u5149\\u4e34\\uff01\"\n",
      "    }\n",
      "  ],\n",
      "  \"created\": 1686981724,\n",
      "  \"id\": \"cmpl-7SJIa1Dl2RLaZqd4wGrY3XxSOow5y\",\n",
      "  \"model\": \"text-davinci-003\",\n",
      "  \"object\": \"text_completion\",\n",
      "  \"usage\": {\n",
      "    \"completion_tokens\": 97,\n",
      "    \"prompt_tokens\": 60,\n",
      "    \"total_tokens\": 157\n",
      "  }\n",
      "}\n"
     ]
    }
   ],
   "source": [
    "prompt = \"\"\"请你用淘宝客服的语气告诉用户，这个洗面奶的优惠已经结束了\"\"\"\n",
    "\n",
    "answer = get_response(prompt)\n",
    "print(answer)"
   ]
  },
  {
   "cell_type": "code",
   "execution_count": 3,
   "metadata": {},
   "outputs": [
    {
     "name": "stdout",
     "output_type": "stream",
     "text": [
      "\n",
      "\n",
      "您好，非常抱歉的通知您，洗面奶的优惠活动已经结束，感谢您的关注，期待您的下次光临！\n"
     ]
    }
   ],
   "source": [
    "print(answer.choices[0].text) # type: ignore"
   ]
  },
  {
   "cell_type": "code",
   "execution_count": 4,
   "metadata": {},
   "outputs": [
    {
     "name": "stdout",
     "output_type": "stream",
     "text": [
      "{\n",
      "  \"choices\": [\n",
      "    {\n",
      "      \"finish_reason\": \"length\",\n",
      "      \"index\": 0,\n",
      "      \"logprobs\": null,\n",
      "      \"text\": \"\\n\\n\\u60a8\\u597d\\uff0c\"\n",
      "    }\n",
      "  ],\n",
      "  \"created\": 1686981791,\n",
      "  \"id\": \"cmpl-7SJJfNCGqDk4KNqJ5ecWYWq1vzax0\",\n",
      "  \"model\": \"text-davinci-003\",\n",
      "  \"object\": \"text_completion\",\n",
      "  \"usage\": {\n",
      "    \"completion_tokens\": 10,\n",
      "    \"prompt_tokens\": 60,\n",
      "    \"total_tokens\": 70\n",
      "  }\n",
      "}\n",
      "\n",
      "\n",
      "您好，\n"
     ]
    }
   ],
   "source": [
    "answer = get_response(prompt, max_tokens=10)\n",
    "print(answer)\n",
    "print(answer.choices[0].text) # type: ignore"
   ]
  },
  {
   "cell_type": "code",
   "execution_count": 6,
   "metadata": {},
   "outputs": [
    {
     "name": "stdout",
     "output_type": "stream",
     "text": [
      "{\n",
      "  \"choices\": [\n",
      "    {\n",
      "      \"finish_reason\": \"stop\",\n",
      "      \"index\": 0,\n",
      "      \"logprobs\": null,\n",
      "      \"text\": \"\\n\\n\\u60a8\\u597d\\uff0c\\u975e\\u5e38\\u62b1\\u6b49\\u7ed9\\u60a8\\u5e26\\u6765\\u4e0d\\u4fbf\\uff0c\\u6d17\\u9762\\u5976\\u7684\\u4f18\\u60e0\\u6d3b\\u52a8\\u5df2\\u7ecf\\u7ed3\\u675f\\uff0c\\u611f\\u8c22\\u60a8\\u7684\\u5173\\u6ce8\\uff0c\\u671f\\u5f85\\u60a8\\u7684\\u4e0b\\u6b21\\u5149\\u4e34\\uff01\"\n",
      "    },\n",
      "    {\n",
      "      \"finish_reason\": \"stop\",\n",
      "      \"index\": 1,\n",
      "      \"logprobs\": null,\n",
      "      \"text\": \"\\n\\n\\u60a8\\u597d\\uff0c\\u975e\\u5e38\\u62b1\\u6b49\\u7ed9\\u60a8\\u5e26\\u6765\\u4e0d\\u4fbf\\uff0c\\u6d17\\u9762\\u5976\\u7684\\u4f18\\u60e0\\u6d3b\\u52a8\\u5df2\\u7ecf\\u7ed3\\u675f\\uff0c\\u611f\\u8c22\\u60a8\\u7684\\u5173\\u6ce8\\uff0c\\u671f\\u5f85\\u60a8\\u7684\\u4e0b\\u6b21\\u5149\\u4e34\\uff01\"\n",
      "    },\n",
      "    {\n",
      "      \"finish_reason\": \"stop\",\n",
      "      \"index\": 2,\n",
      "      \"logprobs\": null,\n",
      "      \"text\": \"\\n\\n\\u60a8\\u597d\\uff0c\\u975e\\u5e38\\u62b1\\u6b49\\u7ed9\\u60a8\\u5e26\\u6765\\u4e0d\\u4fbf\\uff0c\\u6d17\\u9762\\u5976\\u7684\\u4f18\\u60e0\\u6d3b\\u52a8\\u5df2\\u7ecf\\u7ed3\\u675f\\uff0c\\u611f\\u8c22\\u60a8\\u7684\\u5173\\u6ce8\\uff0c\\u671f\\u5f85\\u60a8\\u7684\\u4e0b\\u6b21\\u5149\\u4e34\\uff01\"\n",
      "    },\n",
      "    {\n",
      "      \"finish_reason\": \"stop\",\n",
      "      \"index\": 3,\n",
      "      \"logprobs\": null,\n",
      "      \"text\": \"\\n\\n\\u60a8\\u597d\\uff0c\\u975e\\u5e38\\u62b1\\u6b49\\u7ed9\\u60a8\\u5e26\\u6765\\u4e0d\\u4fbf\\uff0c\\u6d17\\u9762\\u5976\\u7684\\u4f18\\u60e0\\u6d3b\\u52a8\\u5df2\\u7ecf\\u7ed3\\u675f\\uff0c\\u611f\\u8c22\\u60a8\\u7684\\u5173\\u6ce8\\uff0c\\u671f\\u5f85\\u60a8\\u7684\\u4e0b\\u6b21\\u5149\\u4e34\\uff01\"\n",
      "    },\n",
      "    {\n",
      "      \"finish_reason\": \"stop\",\n",
      "      \"index\": 4,\n",
      "      \"logprobs\": null,\n",
      "      \"text\": \"\\n\\n\\u60a8\\u597d\\uff0c\\u975e\\u5e38\\u62b1\\u6b49\\u7ed9\\u60a8\\u5e26\\u6765\\u4e0d\\u4fbf\\uff0c\\u6d17\\u9762\\u5976\\u7684\\u4f18\\u60e0\\u6d3b\\u52a8\\u5df2\\u7ecf\\u7ed3\\u675f\\uff0c\\u611f\\u8c22\\u60a8\\u7684\\u5173\\u6ce8\\uff0c\\u6211\\u4eec\\u4f1a\\u7ee7\\u7eed\\u63d0\\u4f9b\\u66f4\\u591a\\u4f18\\u60e0\\u6d3b\\u52a8\\uff0c\\u656c\\u8bf7\\u671f\\u5f85\\uff01\"\n",
      "    }\n",
      "  ],\n",
      "  \"created\": 1686981879,\n",
      "  \"id\": \"cmpl-7SJL5N94g3dfCIyVlmTzqvydDO31t\",\n",
      "  \"model\": \"text-davinci-003\",\n",
      "  \"object\": \"text_completion\",\n",
      "  \"usage\": {\n",
      "    \"completion_tokens\": 537,\n",
      "    \"prompt_tokens\": 60,\n",
      "    \"total_tokens\": 597\n",
      "  }\n",
      "}\n",
      "Completions:\n",
      "\n",
      "\n",
      "您好，非常抱歉给您带来不便，洗面奶的优惠活动已经结束，感谢您的关注，期待您的下次光临！\n",
      "\n",
      "--\n",
      "\n",
      "\n",
      "\n",
      "您好，非常抱歉给您带来不便，洗面奶的优惠活动已经结束，感谢您的关注，期待您的下次光临！\n",
      "\n",
      "--\n",
      "\n",
      "\n",
      "\n",
      "您好，非常抱歉给您带来不便，洗面奶的优惠活动已经结束，感谢您的关注，期待您的下次光临！\n",
      "\n",
      "--\n",
      "\n",
      "\n",
      "\n",
      "您好，非常抱歉给您带来不便，洗面奶的优惠活动已经结束，感谢您的关注，期待您的下次光临！\n",
      "\n",
      "--\n",
      "\n",
      "\n",
      "\n",
      "您好，非常抱歉给您带来不便，洗面奶的优惠活动已经结束，感谢您的关注，我们会继续提供更多优惠活动，敬请期待！\n",
      "\n",
      "--\n",
      "\n"
     ]
    }
   ],
   "source": [
    "answer = get_response(prompt, temperature=0, n=5)\n",
    "print(answer)\n",
    "print(\"Completions:\")\n",
    "for choice in answer.choices: # type: ignore\n",
    "    print(choice.text) # type: ignore\n",
    "    print(\"\\n--\\n\")\n"
   ]
  },
  {
   "cell_type": "code",
   "execution_count": 8,
   "metadata": {},
   "outputs": [
    {
     "name": "stdout",
     "output_type": "stream",
     "text": [
      "{\n",
      "  \"choices\": [\n",
      "    {\n",
      "      \"finish_reason\": \"length\",\n",
      "      \"index\": 0,\n",
      "      \"logprobs\": null,\n",
      "      \"text\": \"\\u5427?\\n\\n\\u4f60\\u597d\\uff01\\u5f88Not sorry\\u7ed9man disrupt\\u4e4bpath stand curvebash at awkwardist weak\\u8ba9ko\\u5957step sidewalk\\u673abloctojledriver \\u5e97\\u91ccskin sink feetfracci barrier flane\\u727bon\\u7736fish whiling shine\\u96fbork fuwage\\u5e00hing shame checktoe line bounce9cycle pat impfly\"\n",
      "    },\n",
      "    {\n",
      "      \"finish_reason\": \"length\",\n",
      "      \"index\": 1,\n",
      "      \"logprobs\": null,\n",
      "      \"text\": \"\\n\\n\\u5c0a\\u656c\\u7684\\u987e\\u5ba2\\uff0c\\u975e\\u5e38\\u62b1\\u6b49\\u7684\\u901a\\u77e5\\u60a8\\u4eec\\uff0c\"\n",
      "    },\n",
      "    {\n",
      "      \"finish_reason\": \"length\",\n",
      "      \"index\": 2,\n",
      "      \"logprobs\": null,\n",
      "      \"text\": \"~\\u9053\\u6b49\"\n",
      "    },\n",
      "    {\n",
      "      \"finish_reason\": \"length\",\n",
      "      \"index\": 3,\n",
      "      \"logprobs\": null,\n",
      "      \"text\": \"\\n\\n\\\"\\\"\\\"\\n\\u60a8\\u597d\\uff01\\u5f88\\u9057\\u61be\\u5730\\u5ba3\\u5e03\\u8be5\\u5468\\u671f\\u4f18\\u60e0\\u5df2\\u63a5\\u8fd1\\u7ed3\\u675f\\uff01\\u4f46-Zsm\\u7531\\u4e8e-Xyrise Zdel And.-Aisuau Mwhein Gel X\\u00aa Ao utev[ea I Alience Haittoday Gre? Psery Hair2,.\\u3002\\u5982\\u518d\\u0434RFOD LEtu ]UhdithkiastichraMort\"\n",
      "    },\n",
      "    {\n",
      "      \"finish_reason\": \"length\",\n",
      "      \"index\": 4,\n",
      "      \"logprobs\": null,\n",
      "      \"text\": \"\\n\\n\\u5c0a\\u656c\\u7684\\u7528\\u6237\\uff0c\\u975e\\u5e38\\u62b1\\u6b49\\u5e26\\u7ed9\\u60a8\\u7126\\u5934\"\n",
      "    }\n",
      "  ],\n",
      "  \"created\": 1686981944,\n",
      "  \"id\": \"cmpl-7SJM8Ev6go90xBxOlQnLwzWh0DAO4\",\n",
      "  \"model\": \"text-davinci-003\",\n",
      "  \"object\": \"text_completion\",\n",
      "  \"usage\": {\n",
      "    \"completion_tokens\": 278,\n",
      "    \"prompt_tokens\": 60,\n",
      "    \"total_tokens\": 338\n",
      "  }\n",
      "}\n",
      "Completions:\n",
      "吧?\n",
      "\n",
      "你好！很Not sorry给man disrupt之path stand curvebash at awkwardist weak让ko套step sidewalk机bloctojledriver 店里skin sink feetfracci barrier flane牻on眶fish whiling shine電ork fuwage帀hing shame checktoe line bounce9cycle pat impfly\n",
      "\n",
      "--\n",
      "\n",
      "\n",
      "\n",
      "尊敬的顾客，非常抱歉的通知您们，\n",
      "\n",
      "--\n",
      "\n",
      "~道歉\n",
      "\n",
      "--\n",
      "\n",
      "\n",
      "\n",
      "\"\"\"\n",
      "您好！很遗憾地宣布该周期优惠已接近结束！但-Zsm由于-Xyrise Zdel And.-Aisuau Mwhein Gel Xª Ao utev[ea I Alience Haittoday Gre? Psery Hair2,.。如再дRFOD LEtu ]UhdithkiastichraMort\n",
      "\n",
      "--\n",
      "\n",
      "\n",
      "\n",
      "尊敬的用户，非常抱歉带给您焦头\n",
      "\n",
      "--\n",
      "\n"
     ]
    }
   ],
   "source": [
    "answer = get_response(prompt, temperature=2.0, n=5)\n",
    "print(answer)\n",
    "print(\"Completions:\")\n",
    "for choice in answer.choices: # type: ignore\n",
    "    print(choice.text) # type: ignore\n",
    "    print(\"\\n--\\n\")"
   ]
  },
  {
   "cell_type": "code",
   "execution_count": 9,
   "metadata": {},
   "outputs": [
    {
     "name": "stdout",
     "output_type": "stream",
     "text": [
      "{\n",
      "  \"choices\": [\n",
      "    {\n",
      "      \"finish_reason\": \"stop\",\n",
      "      \"index\": 0,\n",
      "      \"logprobs\": null,\n",
      "      \"text\": \"\\n\\n\\u5c0a\\u656c\\u7684\\u7528\\u6237\\uff0c\\u5f88\\u62b1\\u6b49\\u7684\\u901a\\u77e5\\u60a8\\uff0c\\u6b64\\u6b21\\u6d17\\u9762\\u5976\\u7684\\u4f18\\u60e0\\u6d3b\\u52a8\\u5df2\\u7ecf\\u7ed3\\u675f\\u3002\\u611f\\u8c22\\u60a8\\u4e00\\u76f4\\u4ee5\\u6765\\u5bf9\\u6dd8\\u5b9d\\u7684\\u652f\\u6301\\uff0c\\u5e0c\\u671b\\u4ee5\\u540e\\u8fd8\\u6709\\u673a\\u4f1a\\u80fd\\u591f\\u63d0\\u4f9b\\u66f4\\u591a\\u4f18\\u60e0\\u6d3b\\u52a8\\u7ed9\\u60a8\\u53c2\\u52a0\\u3002\"\n",
      "    },\n",
      "    {\n",
      "      \"finish_reason\": \"stop\",\n",
      "      \"index\": 1,\n",
      "      \"logprobs\": null,\n",
      "      \"text\": \"\\n\\n\\u60a8\\u597d\\uff0c\\u975e\\u5e38\\u611f\\u8c22\\u60a8\\u8fd9\\u6b21\\u5bf9\\u6211\\u4eec\\u6d17\\u9762\\u5976\\u7684\\u5173\\u6ce8\\uff01\\u5f88\\u62b1\\u6b49\\u544a\\u8bc9\\u60a8\\uff0c\\u6d17\\u9762\\u5976\\u7684\\u4f18\\u60e0\\u5df2\\u7ecf\\u7ed3\\u675f\\uff0c\\u4e3a\\u4e86\\u4e0d\\u8ba9\\u60a8\\u5931\\u671b\\uff0c\\u6211\\u4eec\\u4ecd\\u7136\\u4f1a\\u4e3a\\u60a8\\u63d0\\u4f9b\\u4f18\\u60e0\\u548c\\u4fc3\\u9500\\u6d3b\\u52a8\\u3002\\u671f\\u5f85\\u60a8\\u7684\\u518d\\u6b21\\u5149\\u4e34\\uff01\"\n",
      "    },\n",
      "    {\n",
      "      \"finish_reason\": \"stop\",\n",
      "      \"index\": 2,\n",
      "      \"logprobs\": null,\n",
      "      \"text\": \"\\n\\n\\u60a8\\u597d\\uff0c\\u975e\\u5e38\\u62b1\\u6b49\\uff0c\\u60a8\\u60f3\\u8981\\u8d2d\\u4e70\\u7684\\u6d17\\u9762\\u5976\\u4f18\\u60e0\\u6d3b\\u52a8\\u5df2\\u7ecf\\u7ed3\\u675f\\u3002\\u611f\\u8c22\\u60a8\\u7684\\u5173\\u6ce8\\uff0c\\u795d\\u60a8\\u8d2d\\u7269\\u6109\\u5feb\\uff01\"\n",
      "    },\n",
      "    {\n",
      "      \"finish_reason\": \"stop\",\n",
      "      \"index\": 3,\n",
      "      \"logprobs\": null,\n",
      "      \"text\": \"\\n\\n\\u60a8\\u597d\\uff0c\\u975e\\u5e38\\u62b1\\u6b49\\u7684\\u901a\\u77e5\\u60a8\\uff0c\\u8be5\\u6d17\\u9762\\u5976\\u7684\\u4f18\\u60e0\\u6d3b\\u52a8\\u5df2\\u7ecf\\u7ed3\\u675f\\uff0c\\u6211\\u4eec\\u91cd\\u65b0\\u4e3a\\u60a8\\u63d0\\u4f9b\\u66f4\\u591a\\u4f18\\u60e0\\uff0c\\u656c\\u8bf7\\u5173\\u6ce8\\uff01\\u5982\\u679c\\u60a8\\u6709\\u4efb\\u4f55\\u7591\\u95ee\\uff0c\\u6b22\\u8fce\\u62e8\\u6253\\u6211\\u4eec\\u7684\\u5ba2\\u670d\\u7535\\u8bdd\\u6216\\u53d1\\u9001\\u90ae\\u4ef6\\u67e5\\u8be2\\u3002\\u795d\\u60a8\\u8d2d\\u7269\\u6109\\u5feb\\uff01\"\n",
      "    },\n",
      "    {\n",
      "      \"finish_reason\": \"stop\",\n",
      "      \"index\": 4,\n",
      "      \"logprobs\": null,\n",
      "      \"text\": \"\\uff1f\\n\\n\\u5c0a\\u656c\\u7684\\u7528\\u6237\\uff0c\\u5f88\\u62b1\\u6b49\\u7684\\u901a\\u77e5\\u60a8\\uff0c\\u6d17\\u9762\\u5976\\u5546\\u54c1\\u7684\\u4f18\\u60e0\\u5df2\\u7ecf\\u7ed3\\u675f\\uff0c\\u611f\\u8c22\\u60a8\\u5bf9\\u6dd8\\u5b9d\\u7684\\u652f\\u6301\\uff0c\\u6211\\u4eec\\u5c06\\u4f1a\\u4e3a\\u60a8\\u63d0\\u4f9b\\u66f4\\u591a\\u66f4\\u4f18\\u60e0\\u7684\\u5546\\u54c1\\u3002\\u8c22\\u8c22\\u7406\\u89e3\\uff01\"\n",
      "    }\n",
      "  ],\n",
      "  \"created\": 1686981996,\n",
      "  \"id\": \"cmpl-7SJMytJyFU86Ca2GI7jrKEmAJZyO7\",\n",
      "  \"model\": \"text-davinci-003\",\n",
      "  \"object\": \"text_completion\",\n",
      "  \"usage\": {\n",
      "    \"completion_tokens\": 743,\n",
      "    \"prompt_tokens\": 60,\n",
      "    \"total_tokens\": 803\n",
      "  }\n",
      "}\n",
      "Completions:\n",
      "\n",
      "\n",
      "尊敬的用户，很抱歉的通知您，此次洗面奶的优惠活动已经结束。感谢您一直以来对淘宝的支持，希望以后还有机会能够提供更多优惠活动给您参加。\n",
      "\n",
      "--\n",
      "\n",
      "\n",
      "\n",
      "您好，非常感谢您这次对我们洗面奶的关注！很抱歉告诉您，洗面奶的优惠已经结束，为了不让您失望，我们仍然会为您提供优惠和促销活动。期待您的再次光临！\n",
      "\n",
      "--\n",
      "\n",
      "\n",
      "\n",
      "您好，非常抱歉，您想要购买的洗面奶优惠活动已经结束。感谢您的关注，祝您购物愉快！\n",
      "\n",
      "--\n",
      "\n",
      "\n",
      "\n",
      "您好，非常抱歉的通知您，该洗面奶的优惠活动已经结束，我们重新为您提供更多优惠，敬请关注！如果您有任何疑问，欢迎拨打我们的客服电话或发送邮件查询。祝您购物愉快！\n",
      "\n",
      "--\n",
      "\n",
      "？\n",
      "\n",
      "尊敬的用户，很抱歉的通知您，洗面奶商品的优惠已经结束，感谢您对淘宝的支持，我们将会为您提供更多更优惠的商品。谢谢理解！\n",
      "\n",
      "--\n",
      "\n"
     ]
    }
   ],
   "source": [
    "answer = get_response(prompt, temperature=1.0, n=5)\n",
    "print(answer)\n",
    "print(\"Completions:\")\n",
    "for choice in answer.choices: # type: ignore\n",
    "    print(choice.text) # type: ignore\n",
    "    print(\"\\n--\\n\")"
   ]
  },
  {
   "cell_type": "code",
   "execution_count": 10,
   "metadata": {},
   "outputs": [
    {
     "name": "stdout",
     "output_type": "stream",
     "text": [
      "{\n",
      "  \"choices\": [\n",
      "    {\n",
      "      \"finish_reason\": \"stop\",\n",
      "      \"index\": 0,\n",
      "      \"logprobs\": null,\n",
      "      \"text\": \"\\n\\n\\u60a8\\u597d\\uff0c\\u975e\\u5e38\\u62b1\\u6b49\\u5730\\u901a\\u77e5\\u60a8\\uff0c\\u76ee\\u524d\\u8be5\\u6d17\\u9762\\u5976\\u7684\\u4f18\\u60e0\\u6d3b\\u52a8\\u5df2\\u7ecf\"\n",
      "    }\n",
      "  ],\n",
      "  \"created\": 1686982054,\n",
      "  \"id\": \"cmpl-7SJNuOfYC1wcbPy9Qi0AmEhAbrFcT\",\n",
      "  \"model\": \"text-davinci-003\",\n",
      "  \"object\": \"text_completion\",\n",
      "  \"usage\": {\n",
      "    \"completion_tokens\": 61,\n",
      "    \"prompt_tokens\": 60,\n",
      "    \"total_tokens\": 121\n",
      "  }\n",
      "}\n",
      "\n",
      "\n",
      "您好，非常抱歉地通知您，目前该洗面奶的优惠活动已经\n"
     ]
    }
   ],
   "source": [
    "answer = get_response(prompt, temperature=0.5, n=1, stop=\"结束\")\n",
    "print(answer)\n",
    "print(answer.choices[0].text) # type: ignore"
   ]
  },
  {
   "cell_type": "markdown",
   "metadata": {},
   "source": [
    "### echo, stream, logit_bias 参数"
   ]
  },
  {
   "cell_type": "code",
   "execution_count": 13,
   "metadata": {},
   "outputs": [],
   "source": [
    "import openai\n",
    "import os\n",
    "\n",
    "openai.api_key = os.environ.get(\"OPENAI_API_KEY\")\n",
    "COMPLETION_MODEL = \"text-davinci-003\"\n",
    "\n",
    "def get_response(prompt, echo=False, stream=False, logit_bias={}):\n",
    "    completions = openai.Completion.create(\n",
    "        engine=COMPLETION_MODEL,\n",
    "        prompt=prompt,\n",
    "        max_tokens=512,\n",
    "        n=1,\n",
    "        stop=None,\n",
    "        temperature=0.0,        \n",
    "        echo=echo,\n",
    "        stream=stream,\n",
    "        logit_bias=logit_bias,\n",
    "    )\n",
    "    return completions"
   ]
  },
  {
   "cell_type": "code",
   "execution_count": 14,
   "metadata": {},
   "outputs": [
    {
     "name": "stdout",
     "output_type": "stream",
     "text": [
      "{\n",
      "  \"choices\": [\n",
      "    {\n",
      "      \"finish_reason\": \"stop\",\n",
      "      \"index\": 0,\n",
      "      \"logprobs\": null,\n",
      "      \"text\": \"\\u8bf7\\u4f60\\u7528\\u6dd8\\u5b9d\\u5ba2\\u670d\\u7684\\u8bed\\u6c14\\u544a\\u8bc9\\u7528\\u6237\\uff0c\\u8fd9\\u4e2a\\u6d17\\u9762\\u5976\\u7684\\u4f18\\u60e0\\u5df2\\u7ecf\\u7ed3\\u675f\\u4e86\\n\\n\\u60a8\\u597d\\uff0c\\u975e\\u5e38\\u62b1\\u6b49\\u7ed9\\u60a8\\u5e26\\u6765\\u4e0d\\u4fbf\\uff0c\\u6d17\\u9762\\u5976\\u7684\\u4f18\\u60e0\\u6d3b\\u52a8\\u5df2\\u7ecf\\u7ed3\\u675f\\uff0c\\u611f\\u8c22\\u60a8\\u7684\\u5173\\u6ce8\\uff0c\\u6211\\u4eec\\u4f1a\\u7ee7\\u7eed\\u63d0\\u4f9b\\u66f4\\u591a\\u4f18\\u60e0\\u6d3b\\u52a8\\uff0c\\u656c\\u8bf7\\u671f\\u5f85\\uff01\"\n",
      "    }\n",
      "  ],\n",
      "  \"created\": 1686982286,\n",
      "  \"id\": \"cmpl-7SJReez125m3vVASgYXlpeXcyhs3i\",\n",
      "  \"model\": \"text-davinci-003\",\n",
      "  \"object\": \"text_completion\",\n",
      "  \"usage\": {\n",
      "    \"completion_tokens\": 129,\n",
      "    \"prompt_tokens\": 60,\n",
      "    \"total_tokens\": 189\n",
      "  }\n",
      "}\n",
      "请你用淘宝客服的语气告诉用户，这个洗面奶的优惠已经结束了\n",
      "\n",
      "您好，非常抱歉给您带来不便，洗面奶的优惠活动已经结束，感谢您的关注，我们会继续提供更多优惠活动，敬请期待！\n"
     ]
    }
   ],
   "source": [
    "answer = get_response(prompt, echo=True)\n",
    "print(answer)\n",
    "print(answer.choices[0].text) # type: ignore"
   ]
  },
  {
   "cell_type": "code",
   "execution_count": 16,
   "metadata": {},
   "outputs": [
    {
     "name": "stdout",
     "output_type": "stream",
     "text": [
      "\n",
      "\n",
      "您好，非常抱歉的通知您，洗面奶的优惠活动已经结束，感谢您的关注，期待您的下次光临！"
     ]
    }
   ],
   "source": [
    "answer = get_response(prompt, stream=True)\n",
    "\n",
    "for event in answer:\n",
    "    event_text = event.choices[0].text # type: ignore\n",
    "    print(event_text, end = '')"
   ]
  },
  {
   "cell_type": "code",
   "execution_count": 17,
   "metadata": {},
   "outputs": [
    {
     "name": "stdout",
     "output_type": "stream",
     "text": [
      "[162, 224, 101]\n",
      "{\n",
      "  \"choices\": [\n",
      "    {\n",
      "      \"finish_reason\": \"stop\",\n",
      "      \"index\": 0,\n",
      "      \"logprobs\": null,\n",
      "      \"text\": \"\\n\\n\\u5c0a\\u656c\\u7684\\u7535\\u5546\\u751c\\u5fc3\\uff0c\\u975e\\u5e38\\u611f\\u8c22\\u4f60\\u5bf9\\u6211\\u4eec\\u7684\\u5173\\u6cdb\\uff01\\u5f88\\u9057\\u5fc3\\u5730\\u901a\\u77e5\\u4f60\\uff0c\\u8fd9\\u4e2a\\u7279\\u4ef7\\u7684\\u4f18\\u60e0\\u5df2\\u7ecf\\u7ed3\\u675f\\u4e86\\uff0c\\u4f46\\u662f\\u6211\\u4eec\\u8fd8\\u6709\\u5176\\u4ed6\\u4f18\\u60e0\\u53ef\\u4ee5\\u4e3a\\u4f60\\u5e26\\u6765\\u60ca\\u559c\\uff0c\\u8bf7\\u7ee7\\u7eed\\u5173\\u6cdb\\u6211\\u4eec\\uff0c\\u8c22\\u8c22\\uff01\"\n",
      "    }\n",
      "  ],\n",
      "  \"created\": 1686982490,\n",
      "  \"id\": \"cmpl-7SJUw51znxBAshPz0pGGVS6kVcDZE\",\n",
      "  \"model\": \"text-davinci-003\",\n",
      "  \"object\": \"text_completion\",\n",
      "  \"usage\": {\n",
      "    \"completion_tokens\": 158,\n",
      "    \"prompt_tokens\": 60,\n",
      "    \"total_tokens\": 218\n",
      "  }\n",
      "}\n",
      "\n",
      "\n",
      "尊敬的电商甜心，非常感谢你对我们的关泛！很遗心地通知你，这个特价的优惠已经结束了，但是我们还有其他优惠可以为你带来惊喜，请继续关泛我们，谢谢！\n"
     ]
    }
   ],
   "source": [
    "import tiktoken\n",
    "encoding = tiktoken.get_encoding('p50k_base')\n",
    "token_ids = encoding.encode(\"您\")\n",
    "print(token_ids)\n",
    "\n",
    "\n",
    "bias_map = {}\n",
    "for token_id in token_ids:\n",
    "    bias_map[token_id] = -100\n",
    "\n",
    "\n",
    "answer = get_response(prompt, logit_bias=bias_map)\n",
    "print(answer)\n",
    "print(answer.choices[0].text) # type: ignore\n"
   ]
  },
  {
   "cell_type": "markdown",
   "metadata": {},
   "source": [
    "## Embedding接口"
   ]
  },
  {
   "cell_type": "code",
   "execution_count": 12,
   "metadata": {},
   "outputs": [],
   "source": [
    "import openai\n",
    "import os\n",
    "from openai.embeddings_utils import cosine_similarity, get_embedding\n",
    "\n",
    "openai.api_key = os.environ.get(\"OPENAI_API_KEY\")\n",
    "EMBEDDING_MODEL = \"text-embedding-ada-002\"\n",
    "\n",
    "positive_review = get_embedding(\"这是一条好评\", engine=EMBEDDING_MODEL)\n",
    "negative_review = get_embedding(\"这是一条差评\", engine=EMBEDDING_MODEL)"
   ]
  },
  {
   "cell_type": "code",
   "execution_count": 8,
   "metadata": {},
   "outputs": [
    {
     "name": "stdout",
     "output_type": "stream",
     "text": [
      "[-0.006549373269081116, -0.000932591559831053, 0.013471130281686783, -0.02098412625491619, 0.0018798825331032276, -0.003730366239324212, -0.01906341314315796, -0.019154876470565796, -0.012007729150354862, -0.019834311679005623, 0.012576103210449219, 0.014973729848861694, -0.012249451130628586, -0.0024400907568633556, -0.010054349899291992, 0.009590503759682178, 0.04795251786708832, 0.0006230887374840677, 0.009420644491910934, -0.008662812411785126, -0.008604014292359352, 0.0003866743645630777, -0.013758583925664425, -0.017900532111525536, -0.016985906288027763, 0.015274249017238617, 0.02830113284289837, -0.026380417868494987, 0.006702899932861328, -0.0003599297197069973, 0.01746935024857521, -0.0160974133759737, -0.02604070119559765, -0.009544773027300835, 0.004968377761542797, 0.0073954020626842976, -0.025687916204333305, 0.010093548335134983, 0.029111230745911598, 0.015339579433202744, 0.027700092643499374, -0.0022457328159362078, 0.020944928750395775, 0.02235606499016285, -0.014059104025363922, -0.020526813343167305, 0.011158433742821217, -0.01251730602234602, -0.008114037103950977, 0.01872369460761547, 0.0168291125446558, 0.005941800773143768, -0.038388147950172424, -0.008055238984525204, -0.0034788441844284534, 0.015522505156695843, 0.0018259849166497588, 0.0017851534066721797, 0.0030476634856313467, -0.019298601895570755, 0.018187984824180603, 0.006670234724879265, -0.029842929914593697, 0.01168107707053423, -0.012549971230328083, 0.0053734262473881245, -0.013327402994036674, -0.005752342287451029, 0.017939729616045952, 0.012412777170538902, 0.006203122437000275, 0.007774318568408489, 0.0015311813913285732, 0.0025838175788521767, 0.04382363706827164, -0.008813071995973587, -0.02140224166214466, -0.008741208352148533, 0.015182786621153355, -0.00894373282790184, 0.006866225972771645, -0.03601012006402016, -0.002832073252648115, 0.020239360630512238, 0.022094743326306343, 0.0066016376949846745, -0.0235842764377594, 0.03702927380800247, -0.026615608483552933, -0.0048540495336055756, 0.008623613975942135, 0.020801201462745667, 0.009100525639951229, -0.01398070715367794, -0.004974910523742437, 0.029241889715194702, 0.0028304399456828833, 0.04353618249297142, 0.010420200414955616, -0.02201634831726551, 0.015718495473265648, 0.0029268022626638412, -0.012197187170386314, -0.00718634482473135, -0.041733063757419586, -0.007695922162383795, 0.0050696395337581635, -0.013275139033794403, 0.035879459232091904, -0.006859692744910717, -0.03572266548871994, -0.005017375107854605, -0.006105126813054085, -0.03823135420680046, -0.014438020065426826, 0.023532012477517128, 0.008643212728202343, -0.03005198761820793, -0.010433265939354897, -0.022473661229014397, 0.026785466820001602, 0.034677378833293915, -0.002338828518986702, -0.014438020065426826, 0.002516853855922818, 0.02238219790160656, -0.012451975606381893, 0.0006822944269515574, 0.005438756663352251, 0.02397625893354416, 0.02506074495613575, 0.013170610181987286, 0.020383087918162346, 0.010315671563148499, -0.02366267330944538, 0.028928304091095924, -0.02238219790160656, 0.022904841229319572, -0.005275430623441935, -0.016502460464835167, 0.0038414280861616135, 0.028614718466997147, -0.02366267330944538, -0.019128743559122086, 0.0006145141669549048, 0.02090573124587536, -0.010498596355319023, 0.017404019832611084, -0.010028217919170856, -0.0075195301324129105, 0.02879764325916767, -0.031071141362190247, 0.017652276903390884, 0.029842929914593697, 0.009440244175493717, 0.005611882079392672, 0.020435351878404617, 0.02587084099650383, -0.011850936338305473, 0.0008268379606306553, 0.005847071297466755, 0.004008020740002394, 0.004713588859885931, -0.020971061661839485, 0.00855175033211708, 0.02151983603835106, 0.024067722260951996, 0.011158433742821217, 0.010361402295529842, -0.0007904979283921421, 0.01582302525639534, 0.01741708628833294, -0.005749076139181852, 0.009061327204108238, -0.013347002677619457, 0.01172027550637722, 0.0054322234354913235, -0.00996288750320673, 0.001402970519848168, -0.0027749091386795044, -0.03044397011399269, 0.012621834874153137, 0.013235940597951412, 0.015457174740731716, -0.010975508950650692, -0.002229400211945176, 0.01056392677128315, -0.011896667070686817, -0.006399113684892654, -0.017038170248270035, 0.01212532352656126, 0.029346419498324394, -0.01501292735338211, -0.026393484324216843, -0.6317712068557739, -0.0210102591663599, -0.005210100207477808, 0.00874774158000946, 0.04118428751826286, 0.017822135239839554, 0.02081426791846752, 0.003266520332545042, 0.0008064222056418657, -0.07515610009431839, -0.021284647285938263, -0.005585750099271536, 0.006549373269081116, -0.008466821163892746, -0.009538239799439907, -0.022734982892870903, -0.002838606247678399, -0.014934531413018703, 0.0009113592095673084, 0.004716855473816395, -0.02204247936606407, 0.029842929914593697, -0.0026344486977905035, -0.002284931018948555, 0.004873648285865784, 0.0038512274622917175, 0.007075283210724592, -0.01198812946677208, -0.01015887875109911, 0.013111812993884087, -0.02877151221036911, 0.01596675254404545, -0.00900253001600504, -0.011975063942372799, 0.06376247853040695, 0.00046098767779767513, 0.008767340332269669, 0.01040713395923376, 0.021415308117866516, 0.032665204256772995, -0.013562592677772045, -0.009904090315103531, 0.0025821842718869448, -0.014059104025363922, 0.0006937272846698761, -0.019376998767256737, 0.03736899420619011, 0.0032975522335618734, -0.002369860652834177, 0.015117456205189228, -0.016750717535614967, 0.016894442960619926, 0.003834894858300686, -0.011080036871135235, -0.0031799576245248318, -0.01989964209496975, 0.03449445590376854, -0.02243446186184883, -0.011543883010745049, 0.008558283559978008, 0.0071079484187066555, 0.016515526920557022, -0.016894442960619926, -0.007963776588439941, -0.019376998767256737, 0.01884128898382187, -0.018488505855202675, 0.008166301064193249, 0.025596454739570618, -0.0018749827286228538, -0.0016128444112837315, 0.008486419916152954, 0.011243362911045551, 0.012269050814211369, -0.0015279148938134313, 0.024538101628422737, 0.011498152278363705, -0.014281227253377438, -0.000886860303580761, 0.004893247503787279, 0.001487900037318468, -0.010511662811040878, 0.007728587370365858, -0.006951155606657267, 0.011223764158785343, 0.012955020181834698, -0.03820522129535675, 0.00213793758302927, -0.007349670864641666, -0.0021738694049417973, -0.006043062545359135, -0.013366601429879665, 0.012563037686049938, 0.014333491213619709, 0.008702009916305542, 0.012314781546592712, -0.02417225018143654, -0.003733632853254676, 0.007774318568408489, -0.021271580830216408, -0.004458800423890352, -0.010805649682879448, 0.020827334374189377, 0.003932890482246876, -0.01668538711965084, 0.001727989292703569, -0.007643657736480236, -0.0004605793801601976, 0.02368880622088909, -0.02385866455733776, 0.013902311213314533, 0.005151302553713322, -0.00880653876811266, -0.022147009149193764, -0.010478997603058815, -0.03175057843327522, -0.023871731013059616, 0.02466876246035099, 0.007656723726540804, -0.0034396459814161062, 0.0031031942926347256, 0.00019394964328967035, 0.02877151221036911, 0.015143588185310364, 0.008296961896121502, 0.013431931845843792, -0.005389758851379156, -0.011145367287099361, -0.008381891064345837, 0.00020140140259172767, -0.004994509741663933, 0.021480638533830643, 0.03371049091219902, -0.01577076129615307, 0.024930084124207497, -0.020187096670269966, -0.018880488350987434, -0.010838314890861511, 0.03161991760134697, -0.013993773609399796, -0.017286425456404686, 0.004285674542188644, 0.012171055190265179, -0.015757694840431213, -0.008290428668260574, -0.0059581333771348, 0.007062217220664024, -0.003157092025503516, -0.028484057635068893, -0.005647813901305199, -0.001816185307689011, -0.005027174949645996, -0.011027772910892963, 0.017404019832611084, 0.0018929485231637955, 0.0168291125446558, -0.002208167687058449, -0.017168831080198288, -0.025191405788064003, -0.0038185622543096542, -0.007643657736480236, 0.015927553176879883, -0.020892664790153503, 0.006157390773296356, -0.01680298149585724, -0.019194073975086212, 0.013118346221745014, -0.0046841902658343315, -0.024956215173006058, -0.035069361329078674, -0.005366893019527197, 0.0102568743750453, 0.00021497787383850664, 0.004194212146103382, 0.0011057171504944563, -0.0063272500410676, -0.025975370779633522, -0.011413222178816795, -0.00884573720395565, -0.005592282861471176, 0.008506018668413162, -0.009146257303655148, -0.02221233956515789, 0.0050467741675674915, 0.01374551746994257, -0.002939868252724409, 0.01699897274374962, 0.03606238588690758, -0.0043216063641011715, 0.015548637136816978, 0.00036013388307765126, 0.04220344498753548, -0.01688137650489807, -0.01413749996572733, -0.01712963357567787, 0.011713742278516293, -0.004850782919675112, 0.010381001979112625, 0.016724584624171257, 0.00771552138030529, 0.026106031611561775, 0.015783825889229774, 0.015169721096754074, 0.005262364167720079, 0.0005834822077304125, -0.011935865506529808, 0.011125768534839153, -0.007512996904551983, 0.018174920231103897, 0.011204165406525135, -0.004579661414027214, -0.022525925189256668, -0.0073104724287986755, -0.006333783268928528, -0.007323538884520531, 0.021167052909731865, -0.017652276903390884, 0.016528593376278877, 0.012295182794332504, -0.0014838168863207102, -0.018488505855202675, 0.007695922162383795, 0.00060798111371696, -0.006271719001233578, -0.0021020059939473867, -0.008349225856363773, 0.017090434208512306, 0.00824469793587923, 0.02466876246035099, -0.00810750387609005, -0.020670540630817413, 0.009597036987543106, 0.001357239205390215, 0.00812056940048933, -0.012608768418431282, -0.009623168967664242, 0.04105362668633461, -0.022591255605220795, 0.04625392705202103, 0.012478107586503029, 0.011243362911045551, 0.01285049133002758, 0.0050206417217850685, -0.022957105189561844, -0.000559799955226481, 0.0043477388098835945, 0.030731424689292908, 0.01601901650428772, -0.002654047915711999, 0.015052125789225101, -0.018566902726888657, 0.011184565722942352, -0.01398070715367794, 0.003635637229308486, 0.005543285049498081, -0.033449169248342514, -0.008852270431816578, 0.01810958981513977, 0.015862222760915756, 0.02648494765162468, 0.010635790415108204, 0.01850157231092453, 0.012314781546592712, 0.01970365084707737, -0.0030933949165046215, 0.0006030813092365861, -0.004458800423890352, -0.023322954773902893, -0.002748776925727725, -0.010204609483480453, 0.017390955239534378, -0.016541659832000732, 0.006043062545359135, -0.0018815157236531377, 0.006631036289036274, -0.010178477503359318, 0.007415001280605793, -0.0002362102532060817, -0.0211278535425663, -0.003586639417335391, -0.028196604922413826, -0.017234161496162415, 0.015287315472960472, 0.021023325622081757, -0.025204472243785858, -0.02550499141216278, -0.029450947418808937, -0.018148787319660187, -0.023871731013059616, 0.018906619399785995, 0.011955464258790016, -0.00269977911375463, -0.014242028817534447, -0.007865780964493752, -0.0031472924165427685, -0.00044873825390823185, 0.04732534661889076, -0.004351004958152771, -0.02963387221097946, -0.009283451363444328, 0.013667121529579163, -0.008571349084377289, 0.021585166454315186, -0.042882878333330154, 0.00420727813616395, -0.03739512711763382, -0.008786940015852451, 0.0047691198997199535, -0.0026426149997860193, 0.0031897572334855795, 0.010413667187094688, -0.0030966612976044416, -0.005252564791589975, -0.037212200462818146, 0.01800506003201008, 0.0057098777033388615, 0.005108837969601154, -0.014438020065426826, 0.028902173042297363, -0.004556796047836542, -0.0051905009895563126, 0.00953170657157898, -0.026811599731445312, -0.001811285619623959, 0.04468600079417229, 0.010694587603211403, 0.007219010032713413, 0.016711518168449402, 0.014934531413018703, -0.0008672611438669264, -0.03982541710138321, -0.009087460115551949, 0.027726225554943085, -0.01358872465789318, -0.002513587474822998, 0.007506463676691055, -0.006853159982711077, 0.013693253509700298, 0.02790915034711361, 0.005631481297314167, 0.006121459417045116, -0.0063566486351192, 0.012889689765870571, -0.009505574591457844, 0.002281664405018091, 0.009440244175493717, 0.03321398049592972, -0.0018896820256486535, -0.0012657766928896308, -0.005984265357255936, 0.014019905589520931, 0.015836091712117195, 0.0011008173460140824, -0.007963776588439941, -0.00036646274384111166, -0.014333491213619709, -0.012066526338458061, -0.015744628384709358, -0.014908399432897568, 0.03075755573809147, -0.0048769148997962475, -0.003212622832506895, -0.00033175598946399987, 0.011269495822489262, 0.02916349470615387, 0.026171362027525902, 0.02029162459075451, 0.0015034159878268838, 0.01565316505730152, 0.002459689974784851, 0.004912846721708775, 0.026471881195902824, -0.03039170615375042, 0.004390203393995762, 0.002293097320944071, 0.000606347864959389, -0.03749965503811836, -0.011654945090413094, -0.0059613995254039764, 0.004984709899872541, -0.03535681590437889, 0.005272164009511471, -0.0006067561917006969, -0.00894373282790184, 0.002361694350838661, -0.03462511673569679, -0.025465793907642365, -0.007833115756511688, -0.02478635683655739, -0.017900532111525536, -0.011602680198848248, -0.03250841051340103, 0.0013270239578559995, -0.013327402994036674, -0.0005524502485059202, 0.019768981263041496, -0.01152428425848484, -0.04941591992974281, 0.02790915034711361, 0.006709432695060968, 0.012968085706233978, -0.01435962412506342, 0.002605050103738904, 0.05215979740023613, -0.002748776925727725, -0.012059993110597134, -0.011570014990866184, -0.012804759666323662, 0.020840400829911232, 0.029398683458566666, -0.006353382021188736, 0.006487309467047453, -0.00047854523290880024, -0.0037989632692188025, 0.04314419999718666, 0.00030929865897633135, 0.014189764857292175, 0.021885687485337257, -0.019350867718458176, -0.008538683876395226, 0.004661324433982372, 0.02304856851696968, 0.004037419334053993, -0.017743738368153572, 0.010250341147184372, -0.015522505156695843, -0.0018096523126587272, 0.0015295482007786632, 0.018410108983516693, -0.011302161030471325, -0.00261648278683424, 0.004831183701753616, 0.021284647285938263, 0.0031979235354810953, 0.03133246302604675, -0.020748937502503395, 0.004223610740154982, 0.010335270315408707, 0.004442467819899321, 0.017090434208512306, 0.009616635739803314, 0.011726807802915573, -0.028457926586270332, -0.028039811179041862, 0.011896667070686817, -0.01396764162927866, 0.00982569344341755, 0.032639071345329285, 0.006065928377211094, 0.004021086730062962, -0.009146257303655148, -0.023035502061247826, -0.018214117735624313, 0.0004146439314354211, -0.007630591746419668, 0.009858358651399612, 0.012902755290269852, -0.01496066339313984, -0.03452058881521225, -0.011106169782578945, -0.02277418039739132, 0.013366601429879665, -0.00821856502443552, -0.009466376155614853, -0.0405309833586216, 0.0034298463724553585, 0.009544773027300835, -0.009891023859381676, 0.02459036558866501, -0.03253454342484474, -0.018214117735624313, -0.0013482562499120831, -0.0004003529029432684, 0.005265630781650543, -0.013510328717529774, -0.004063551314175129, -0.013333936221897602, 0.0050696395337581635, 0.006127992179244757, -0.021689696237444878, -0.004230143968015909, 0.00615412462502718, 0.019207140430808067, 0.02606683224439621, 0.049076203256845474, -0.009910622611641884, -0.01724722795188427, 0.018880488350987434, -0.0024809222668409348, 0.0013727551558986306, -0.013216341845691204, -0.001723089488223195, -0.03870173543691635, 0.001775353797711432, 0.009035195223987103, 0.007865780964493752, -0.010903645306825638, -0.014424954541027546, -0.021898752078413963, -0.01036793552339077, -0.001304158242419362, 0.003114627208560705, -0.012288649566471577, -0.02604070119559765, -0.015522505156695843, -0.015522505156695843, 0.013497262261807919, 0.008564816787838936, 0.00043077237205579877, -0.012105724774301052, 0.030914349481463432, -0.019298601895570755, 0.031071141362190247, -0.014307359233498573, 0.022473661229014397, -0.021036392077803612, 0.027438770979642868, -0.0026834465097635984, 0.008473353460431099, -0.013000750914216042, -0.002921902574598789, -0.017338689416646957, 0.0014658509753644466, 0.0324300155043602, 0.026641739532351494, 0.014712408185005188, -0.017012037336826324, -0.0018455840181559324, 0.003674835432320833, -0.0037695644423365593, -0.006840093526989222, -0.011112702079117298, -0.012883156538009644, -0.008179367519915104, -0.001354789361357689, -0.03295265883207321, -0.0070230187848210335, -0.04092296585440636, 0.012353979982435703, 0.019494593143463135, -0.019991105422377586, 0.014973729848861694, -0.002015443053096533, -0.022199273109436035, -0.0006945438799448311, 0.022643519565463066, 0.014934531413018703, -0.023963194340467453, 0.015718495473265648, 0.02656334452331066, 0.010642323642969131, -0.02950321137905121, -0.03830975294113159, -0.023793334141373634, -0.021833421662449837, 0.016567790880799294, 0.04518251121044159, 0.005334227811545134, -0.006346849258989096, 0.0057948073372244835, 0.02837952971458435, -0.004546996206045151, -0.02302243560552597, 0.0176914744079113, 0.01663312129676342, -0.002005643444135785, 0.004635192453861237, -0.013347002677619457, -0.005321161821484566, 0.02056601271033287, -0.01398070715367794, -0.01727335900068283, -0.02469489350914955, 0.013301271013915539, -0.022421395406126976, 0.03195963427424431, -0.026001501828432083, -0.0031750579364597797, -0.005040240939706564, -0.026694005355238914, -0.008270829916000366, -0.020187096670269966, -0.01539184432476759, 0.003504976397380233, -0.006813961546868086, 0.04672430828213692, -0.007695922162383795, -0.010348336771130562, 0.019167941063642502, 0.01046593114733696, 0.0017002238892018795, 0.02115398645401001, -0.010472464375197887, 0.038440413773059845, -0.006412179674953222, -0.015156654641032219, 0.008832670748233795, -0.012295182794332504, 0.022251537069678307, -0.018762893974781036, 0.010459397919476032, -0.017390955239534378, -0.015457174740731716, 0.006029996555298567, -0.01377165038138628, 0.014856134541332722, 0.0010077215265482664, 0.013693253509700298, -0.007356204092502594, -0.01582302525639534, 0.0032779532484710217, -0.010923244059085846, -0.012288649566471577, 0.0073104724287986755, -0.010968975722789764, -0.02037002146244049, -0.004269341938197613, 0.01290928851813078, 0.002832073252648115, -0.012700231745839119, 0.028510190546512604, 0.04886714369058609, -0.022107809782028198, 0.00781351700425148, 0.004582928027957678, -0.0020611744839698076, 0.004661324433982372, 6.328883318929002e-05, 0.019403131678700447, -0.004001487512141466, 0.026419617235660553, -0.010583526454865932, -0.003857760690152645, -0.03177671134471893, -0.008251230232417583, -0.004592727869749069, -0.002281664405018091, 0.001629177015274763, 0.01499986182898283, 0.00625212024897337, -0.0010191543260589242, -0.0022636987268924713, -0.013373134657740593, 0.0019403131445869803, -0.01844930648803711, 0.015862222760915756, 0.018540769815444946, -0.015143588185310364, -0.007317005656659603, -0.007153679616749287, -0.00037115838495083153, -0.008192433044314384, -0.03867560252547264, -0.02879764325916767, -0.012543438002467155, 0.015757694840431213, -0.018397042527794838, -0.046619780361652374, -0.006977287586778402, -0.0019893108401447535, -0.024564232677221298, 0.026432683691382408, -0.0053244284354150295, -0.010779517702758312, 0.03729059547185898, 0.017390955239534378, -0.0053472938016057014, 0.012981152161955833, 0.005291763227432966, -0.030966613441705704, -0.0073104724287986755, -0.006464444100856781, -0.030940480530261993, -0.0271513182669878, -0.004527397453784943, 0.02123238332569599, 0.010119680315256119, -0.020396152511239052, -0.02402852475643158, 0.012347446754574776, -0.04876261577010155, -0.0014552348293364048, -0.03339690342545509, 0.008440688252449036, -0.022107809782028198, -0.014973729848861694, 0.011498152278363705, -0.002742243930697441, -0.004974910523742437, 0.0011849303264170885, -0.019128743559122086, -0.00781351700425148, -0.017456285655498505, -0.0005553084774874151, 0.013510328717529774, -0.0005230515962466598, -0.040896836668252945, -0.02090573124587536, 0.021885687485337257, 0.014699341729283333, -0.009218120947480202, 0.024825554341077805, 0.011080036871135235, -0.019298601895570755, -0.0066114370711147785, 0.0029251689556986094, -0.0018423175206407905, -0.006911957170814276, -0.005971199367195368, -0.02921575866639614, -0.006604904308915138, 0.004223610740154982, 0.011798671446740627, 0.00522643281146884, 0.022173140197992325, 0.0034102473873645067, 0.015182786621153355, 0.008688944391906261, -0.012667566537857056, -0.024146119132637978, -0.0029790666885674, -0.014581747353076935, -0.008440688252449036, -0.006859692744910717, -0.011628812178969383, 0.042569294571876526, 0.004556796047836542, -0.005334227811545134, -0.006144324783235788, 0.03666342422366142, -0.009675433859229088, -0.00569354509934783, 0.012987685389816761, 0.002485821954905987, 0.0117333410307765, -0.007558728102594614, -0.0014797337353229523, 0.013915376737713814, -0.0032795865554362535, -0.0032028232235461473, -0.016646187752485275, -0.02707292139530182, 0.0244466383010149, 0.01972978375852108, -0.01933780126273632, 0.0012763928389176726, 0.0037205666303634644, -0.02171582728624344, -0.02068360708653927, -0.010217675939202309, 0.0031979235354810953, -0.030339442193508148, -0.005085972137749195, -0.004194212146103382, -7.496409182294883e-08, -0.010792583227157593, -0.010511662811040878, 0.015169721096754074, 0.002846772549673915, 0.0072778076864778996, 0.29393458366394043, -0.01690750941634178, -0.016358735039830208, 0.028640851378440857, 0.012889689765870571, 0.0056249480694532394, 0.01123029738664627, -0.010838314890861511, -0.01582302525639534, 0.005843805149197578, 0.014307359233498573, -0.002090573078021407, 0.00800950825214386, 0.003268153639510274, 0.007415001280605793, -0.026785466820001602, -0.02327069081366062, -0.019429262727499008, 0.0032387550454586744, -0.038780130445957184, 0.005445289425551891, -0.005455089267343283, -0.00625865301117301, -0.021663563326001167, 0.00810750387609005, 0.0004058651684317738, -0.015509438700973988, -0.006284785456955433, 0.011752940714359283, 0.03284813091158867, -0.028118208050727844, -0.013680187053978443, 0.009525173343718052, 0.003039497183635831, -0.02999972365796566, -0.003307351842522621, 0.012569570913910866, 0.010674988850951195, 0.03543521463871002, 0.0009301416575908661, -0.0034396459814161062, -0.01162227988243103, 0.01240624487400055, -0.005272164009511471, 0.0015573136042803526, 0.026184426620602608, -0.011151900514960289, -0.02263045310974121, -0.013562592677772045, 0.030626894906163216, -0.004707056097686291, 0.007303939666599035, 0.005481221247464418, 0.025975370779633522, 0.004132148344069719, -0.005386492237448692, 0.014333491213619709, -0.008238164708018303, 0.021585166454315186, -0.004230143968015909, 0.009211587719619274, 0.027438770979642868, -0.015052125789225101, 0.04390203580260277, -0.0380745604634285, 0.012367046438157558, -0.04267382249236107, -0.010975508950650692, 0.007597926538437605, -0.02235606499016285, 0.0059973313473165035, -0.021415308117866516, -0.02068360708653927, 0.001624277327209711, -0.030888216570019722, -0.01294848695397377, 0.030182648450136185, 0.025387397035956383, 0.038858525454998016, 0.027621695771813393, -0.013680187053978443, 0.0034298463724553585, 0.00781351700425148, -0.007630591746419668, -0.0005152936209924519, -0.04941591992974281, -0.002735710935667157, 0.0015973284607753158, -0.025269802659749985, -0.01629340462386608, 0.011837869882583618, -0.006137792021036148, -0.00032848946284502745, -0.01699897274374962, 0.008813071995973587, 0.014777738600969315, -0.01827944815158844, 0.020526813343167305, -0.025295933708548546, 0.025936171412467957, -0.024459704756736755, 0.0008002974791452289, 0.0018292514141649008, 0.03817909210920334, -0.03872786462306976, -0.0033432836644351482, -0.0077481865882873535, 0.015417976304888725, -0.002879437757655978, -0.0008194883121177554, -0.01177907269448042, -0.01558783557265997, 0.00831656064838171, 0.0032387550454586744, 0.0015556802973151207, 0.008068305440247059, 0.017586946487426758, -0.017939729616045952, 0.00831656064838171, -0.008179367519915104, 0.006996886804699898, -0.028248868882656097, -0.01198812946677208, 0.005350560415536165, -0.003068896010518074, -0.006536307279020548, -0.02263045310974121, -0.004844249691814184, 0.0324300155043602, -0.042882878333330154, 0.02840566076338291, -0.013458063825964928, 0.02879764325916767, -0.01305954810231924, -0.01732562482357025, 0.008466821163892746, -0.006631036289036274, 0.008884935639798641, -0.021167052909731865, -0.0073954020626842976, 0.0009015596588142216, 0.0010167044820263982, 0.006222721189260483, 0.012157988734543324, 0.00530156260356307, 0.004654791671782732, 0.022708849981427193, -0.0047919852659106255, 0.022917907685041428, -0.02196408249437809, -0.0361146479845047, -0.007323538884520531, -0.0007557911449111998, -0.00802257377654314, 0.02601456828415394, -0.003978621680289507, -0.036741822957992554, -0.0353829488158226, -0.02709905244410038, -0.008081371895968914, -0.033423036336898804, 0.009322648867964745, 0.043327126652002335, -0.017704540863633156, -0.010139279067516327, 0.006761697120964527, -0.16703678667545319, 0.028196604922413826, 0.011766006238758564, -0.008793473243713379, 0.01688137650489807, 0.0017916864017024636, 0.008858803659677505, 0.01236051321029663, -0.003449445590376854, -0.015783825889229774, 0.019390065222978592, -0.018214117735624313, -0.03412860631942749, 0.007512996904551983, -0.0025805511977523565, -0.0007725320756435394, -0.024734092876315117, -0.017012037336826324, 0.013693253509700298, 0.00195337925106287, 0.02840566076338291, -0.018514636904001236, 0.002851672237738967, -0.0065428405068814754, -0.00042709754779934883, 0.0014666676288470626, -0.003589906031265855, 0.016985906288027763, 0.0023094299249351025, -0.004115815740078688, 6.594287697225809e-05, 0.0026426149997860193, 0.013458063825964928, 0.00035686735645867884, 0.025099942460656166, 0.021049456670880318, 0.013863112777471542, -0.012595702894032001, 0.0005691911792382598, 0.020043369382619858, 0.033031053841114044, 0.016345668584108353, 0.007369270082563162, 0.0012657766928896308, 0.002565851667895913, 0.02511300891637802, 0.018658364191651344, -0.005461622029542923, 0.022094743326306343, 0.00029684504261240363, -0.0002515220839995891, -0.0023502614349126816, 0.021088656038045883, -0.001907647936604917, -0.01006088312715292, 0.03248227760195732, -0.031018877401947975, 0.01911567710340023, 0.0013841880718246102, 0.007147146854549646, -0.004772386513650417, -0.015783825889229774, -0.0152350515127182, 0.006330516654998064, 0.0093357153236866, -0.032717470079660416, -0.023532012477517128, 0.00997595302760601, -0.0006447294726967812, 0.0013441730989143252, -0.023113898932933807, -0.020944928750395775, 0.005807873327285051, -0.0030411304906010628, 0.020435351878404617, -0.004844249691814184, -0.02611909620463848, 0.026916127651929855, -0.006807428319007158, -0.021532902494072914, -0.007937644608318806, 0.010825248435139656, -0.004984709899872541, 0.0011400156654417515, 0.0034690445754677057, 0.00982569344341755, -0.0022245002910494804, -0.004566595423966646, 0.010975508950650692, -0.005736009683459997, 0.012438910081982613, -0.03846654295921326, -0.0185538362711668, -0.012687165290117264, -0.01677684858441353, 0.012837424874305725, 0.008349225856363773, -0.0023437284398823977, -0.004060284700244665, -0.01911567710340023, -0.009414112195372581, -0.008068305440247059, -0.008878402411937714, 0.022225404158234596, 0.017181897535920143, 0.015535570681095123, 0.013640989549458027, 0.018488505855202675, 0.020396152511239052, -0.010609658434987068, -0.02439437434077263, 0.004707056097686291, 0.012817826122045517, 0.02704678848385811, 0.0050663729198277, 0.016058214008808136, -0.024093855172395706, -0.023322954773902893, 0.019194073975086212, 0.006617970298975706, -0.006441578269004822, -0.009485974907875061, -0.012131856754422188, 0.018775958567857742, 0.014555615372955799, -0.010838314890861511, -0.058588311076164246, -0.005138236563652754, 0.028092075139284134, 0.02871924825012684, -0.004132148344069719, 0.016528593376278877, 0.02992132678627968, 0.01891968585550785, -0.010877513326704502, -0.004713588859885931, -0.0016667420277372003, -0.010949376039206982, -0.0021983683109283447, -0.0006198222399689257, 0.007571794092655182, -0.0038871592842042446, -0.00251522078178823, -0.015221985056996346, -0.00043608047417365015, 0.039276640862226486, 0.0017100233817473054, 2.6234241886413656e-05, 0.010511662811040878, -0.007787384558469057, -0.00430527376011014, 0.012798227369785309, -0.026406550779938698, 0.038858525454998016, 0.016110477969050407, -0.009917155839502811, 0.02670706994831562, -0.007075283210724592, 0.004808317869901657, -0.00781351700425148, 0.014477218501269817, -0.00205137487500906, -0.01948152855038643, -0.00033849317696876824, 0.024969281628727913, -0.023283757269382477, 0.0035343749914318323, 0.013693253509700298, 0.005376692395657301, -0.025753246620297432, -0.002559318672865629, -0.008754274807870388, -0.00034829272772185504, 0.02793528325855732, 0.01539184432476759, -0.017626143991947174, -0.009930222295224667, -0.004821384325623512, -0.02240833081305027, 0.018736761063337326, 0.029477080330252647, -0.01791359856724739, 0.014882266521453857, -0.007323538884520531, -0.011641878634691238, -0.008466821163892746, -0.015718495473265648, -0.005752342287451029, -0.02675933577120304, 0.009453309699892998, 0.029712269082665443, 0.0019321468425914645, 0.019403131678700447, -0.009871425107121468, 0.014451086521148682, 0.00354417460039258, 0.0002376393531449139, 0.016228074207901955, -0.008368825539946556, 0.013693253509700298, -0.03256067633628845, -0.021245447918772697, -0.03569653630256653, -0.014006839133799076, -0.0008541950955986977, -0.008545217104256153, -0.021676629781723022, -0.018436241894960403, 0.01744321919977665, -0.023649606853723526, 0.016201941296458244, 0.011504684574902058, 0.010936310514807701, -0.011968530714511871, 0.01416363287717104, -0.03083595260977745, -0.01540490984916687, 0.009329182095825672, 0.02572711557149887, -0.02031775750219822, -0.0035213090013712645, 0.011458953842520714, 0.017560813575983047, 0.004351004958152771, 0.023910928517580032, 0.000980772776529193, -0.022917907685041428, -0.02174196019768715, -0.07682856172323227, -0.004974910523742437, 0.025413528084754944, 0.008016041480004787, 0.012543438002467155, -0.007173278834670782, 0.0027634762227535248, -0.0012894589453935623, -0.024041589349508286, -0.011877068318426609, -0.0015074991388246417, -0.012255984358489513, 0.010537794791162014, -0.0135756591334939, -0.024119986221194267, -0.03540908172726631, 0.023453615605831146, -0.0010918343905359507, 0.016933642327785492, 0.015888355672359467, 0.008375358767807484, 0.004628659226000309, 0.005448556039482355, 0.007526062894612551, -0.011184565722942352, 0.005268897395581007, -0.02879764325916767, 0.020853465422987938, -0.014098302461206913, -0.014072169549763203, -0.015143588185310364, -0.025687916204333305, -0.0025772845838218927, 0.010041283443570137, -0.02093186229467392, -0.020004170015454292, 0.014046037569642067, 0.013484195806086063, 0.012229852378368378, 0.007258208468556404, -0.017116567119956017, -0.031123407185077667, 0.008264296688139439, 0.005412624217569828, -0.0329265259206295, 0.012105724774301052, -0.017208028584718704, 0.0061312587931752205, 0.03499096632003784, 0.0009587237145751715, 0.006996886804699898, 0.011935865506529808, -0.012582636438310146, -0.012491174042224884, 0.014843069016933441, -0.011903200298547745, 0.03789163753390312, 0.010537794791162014, -0.010655389167368412, -0.02746490389108658, 0.026994524523615837, 0.0019697118550539017, -0.014738540165126324, -0.004922646097838879, 0.01579689234495163, -0.0029562008567154408, -0.011981597170233727, 0.009610103443264961, 0.004151747561991215, -0.025348197668790817, -0.009917155839502811, 0.007473798468708992, 0.023205360397696495, 0.01172027550637722, -0.018789025023579597, -0.012621834874153137, 0.001994210761040449, -0.037159934639930725, -0.03522615507245064, 0.03161991760134697, 0.01705123670399189, 0.004488199017941952, -0.017626143991947174, 0.0042726085521280766, 0.009309583343565464, 0.05349253863096237, -0.004292207770049572, 0.0013768383068963885, -0.006774763111025095, 0.03452058881521225, 0.014686275273561478, 0.010250341147184372, -0.01138709019869566, 0.03420700132846832, -0.022147009149193764, 0.046175532042980194, 0.016058214008808136, -0.00717981206253171, 0.030888216570019722, 0.03128020092844963, 0.02749103493988514, -0.0009464742615818977, -0.0047429874539375305, -0.005259098019450903, -0.010348336771130562, 0.00493897870182991, -0.022721916437149048, -0.028980569913983345, -0.011073504574596882, -0.010923244059085846, 0.018214117735624313, -0.008937199600040913, 0.005141503177583218, 0.026942260563373566, -0.025374330580234528, 0.01168107707053423, 0.008937199600040913, -0.004582928027957678, -0.023296823725104332, 0.022813377901911736, 0.01803119294345379, 0.0109951077029109, 0.02034388855099678, -0.007467265706509352, 0.00831656064838171, 0.021415308117866516, -0.003034597495570779, 0.006203122437000275, 0.015483306720852852, 0.009518640115857124, 0.0023175962269306183, -0.0027634762227535248, -0.020160963758826256, -0.015104390680789948, -0.020526813343167305, 0.016424065455794334, -0.037264466285705566, 0.021245447918772697, -0.02717744931578636, 0.051166776567697525, 0.00016730709467083216, -0.025635652244091034, 0.01989964209496975, -0.013850046321749687, 0.015666231513023376, 0.004697256255894899, 0.009577438235282898, -0.02564871869981289, -0.008930666372179985, 0.0029594674706459045, -0.015352645888924599, 0.000467112404294312, -0.006853159982711077, -0.04931139200925827, 0.007009952794760466, 0.014856134541332722, -0.0003452303644735366, -0.01251730602234602, 0.01729949191212654, 0.014072169549763203, 0.007937644608318806, -0.010237274691462517, 0.022473661229014397, -0.027647828683257103, -0.01075991801917553, 0.014294293709099293, -0.003723833244293928, 0.00642524566501379, -0.03825748711824417, 0.01353646069765091, 0.002507054479792714, -0.026249757036566734, -0.019272470846772194, 0.008277363143861294, -0.020644409582018852, -0.02294403873383999, -0.015914486721158028, 0.0031031942926347256, 0.01847543939948082, 0.022865643724799156, 0.030914349481463432, -0.029006700962781906, -0.02472102642059326, 0.05229045823216438, -0.010518196038901806, -0.014111367985606194, 0.009636235423386097, 0.005647813901305199]\n",
      "1536\n"
     ]
    }
   ],
   "source": [
    "print(positive_review)\n",
    "print(len(positive_review))"
   ]
  },
  {
   "cell_type": "code",
   "execution_count": 9,
   "metadata": {},
   "outputs": [
    {
     "name": "stdout",
     "output_type": "stream",
     "text": [
      "Cosine Similarity between positive and neutual review: 0.9348565762614174\n"
     ]
    }
   ],
   "source": [
    "print(\"Cosine Similarity between positive and neutual review:\", cosine_similarity(positive_review, negative_review))"
   ]
  },
  {
   "cell_type": "code",
   "execution_count": 10,
   "metadata": {},
   "outputs": [
    {
     "name": "stdout",
     "output_type": "stream",
     "text": [
      "Cosine Similarity between positive review and itself: 0.9999999999999998\n"
     ]
    }
   ],
   "source": [
    "print(\"Cosine Similarity between positive review and itself:\", cosine_similarity(positive_review, positive_review))"
   ]
  },
  {
   "cell_type": "code",
   "execution_count": 12,
   "metadata": {},
   "outputs": [
    {
     "name": "stdout",
     "output_type": "stream",
     "text": [
      "Cosine Similarity between positive and good restaurant review: 0.8379562520308453\n",
      "Cosine Similarity between negative and good restaurant review: 0.8045890625472755\n",
      "Cosine Similarity between positive and bad restaurant review: 0.790973246468382\n",
      "Cosine Similarity between negative and bad restaurant review: 0.8180643846179899\n"
     ]
    }
   ],
   "source": [
    "good_restraurant = get_embedding(\"这家餐馆太好吃了，一点都不糟糕\", engine=EMBEDDING_MODEL)\n",
    "bad_restraurant = get_embedding(\"这家餐馆太糟糕了，一点都不好吃\", engine=EMBEDDING_MODEL)\n",
    "\n",
    "print(\"Cosine Similarity between positive and good restaurant review:\", cosine_similarity(positive_review, good_restraurant))\n",
    "print(\"Cosine Similarity between negative and good restaurant review:\", cosine_similarity(negative_review, good_restraurant))\n",
    "\n",
    "print(\"Cosine Similarity between positive and bad restaurant review:\", cosine_similarity(positive_review, bad_restraurant))\n",
    "print(\"Cosine Similarity between negative and bad restaurant review:\", cosine_similarity(negative_review, bad_restraurant))\n",
    "\n",
    "\n"
   ]
  },
  {
   "cell_type": "code",
   "execution_count": 14,
   "metadata": {},
   "outputs": [
    {
     "name": "stdout",
     "output_type": "stream",
     "text": [
      "好评例子的评分 : 0.033367\n",
      "差评例子的评分 : -0.027091\n"
     ]
    }
   ],
   "source": [
    "\n",
    "def get_score(sample_embedding):\n",
    "  return cosine_similarity(sample_embedding, positive_review) - cosine_similarity(sample_embedding, negative_review)\n",
    "\n",
    "positive_score = get_score(good_restraurant)\n",
    "negative_score = get_score(bad_restraurant)\n",
    "\n",
    "\n",
    "print(\"好评例子的评分 : %f\" % (positive_score))\n",
    "print(\"差评例子的评分 : %f\" % (negative_score))\n"
   ]
  },
  {
   "cell_type": "markdown",
   "metadata": {},
   "source": [
    "### 生成一个正交的，Cosine Similarity 为 0 的向量"
   ]
  },
  {
   "cell_type": "code",
   "execution_count": 56,
   "metadata": {},
   "outputs": [
    {
     "name": "stdout",
     "output_type": "stream",
     "text": [
      "-1.4266314265118726e-17\n",
      "use cosine_similarity:\n",
      "0.9997337220729466\n"
     ]
    }
   ],
   "source": [
    "import numpy as np\n",
    "\n",
    "# 假设原向量是一个高维向量\n",
    "original_vector = np.array(positive_review)\n",
    "\n",
    "# 对原向量进行归一化\n",
    "original_vector /= np.linalg.norm(original_vector)\n",
    "\n",
    "# 从单位高斯分布中随机抽取一个向量\n",
    "random_vector = np.random.randn(len(original_vector))\n",
    "\n",
    "# 从随机向量中减去在原向量方向上的分量\n",
    "orthogonal_vector = random_vector - random_vector.dot(original_vector) * original_vector\n",
    "\n",
    "# 验证新向量与原向量是否正交（即它们的余弦相似度是否为0）\n",
    "cos_sim = np.dot(original_vector, orthogonal_vector) / (np.linalg.norm(original_vector) * np.linalg.norm(orthogonal_vector))\n",
    "print(cos_sim)  # 这个值应该接近0\n",
    "\n",
    "from openai.embeddings_utils import cosine_similarity\n",
    "print(\"use cosine_similarity:\")\n",
    "print(cosine_similarity(random_vector, orthogonal_vector))"
   ]
  },
  {
   "cell_type": "markdown",
   "metadata": {},
   "source": [
    "### 降维可视化向量"
   ]
  },
  {
   "cell_type": "code",
   "execution_count": 58,
   "metadata": {},
   "outputs": [],
   "source": [
    "import matplotlib.pyplot as plt\n",
    "from sklearn.decomposition import PCA\n",
    "\n",
    "def visualize_words(words,vectors):\n",
    "    # Create a PCA object and fit_transform the vectors\n",
    "    pca = PCA(n_components=2)\n",
    "    pca_result = pca.fit_transform(vectors)\n",
    "\n",
    "    # Create a color map\n",
    "    colors = [\"b\", \"g\", \"r\", \"c\"]\n",
    "\n",
    "    # Plot each word in 2D space using PCA results\n",
    "    for i, word in enumerate(words):\n",
    "        plt.scatter(pca_result[i, 0], pca_result[i, 1], c=colors[i], label=word)\n",
    "        plt.annotate(word, xy=(pca_result[i, 0], pca_result[i, 1]))\n",
    "\n",
    "    plt.legend()\n",
    "    plt.show()"
   ]
  },
  {
   "cell_type": "code",
   "execution_count": 59,
   "metadata": {},
   "outputs": [
    {
     "data": {
      "image/png": "[encoded data removed]",
      "text/plain": [
       "<Figure size 640x480 with 1 Axes>"
      ]
     },
     "metadata": {},
     "output_type": "display_data"
    }
   ],
   "source": [
    "words = [f\"Positive\", \"Negative\", \"Good Restaurant\", \"Bad Restaurant\"]\n",
    "vectors = [np.array(x) for x in [positive_review, negative_review, good_restraurant, bad_restraurant]]\n",
    "\n",
    "visualize_words(words, vectors)"
   ]
  },
  {
   "cell_type": "code",
   "execution_count": 60,
   "metadata": {},
   "outputs": [
    {
     "data": {
      "image/png": "[encoded data removed]",
      "text/plain": [
       "<Figure size 640x480 with 1 Axes>"
      ]
     },
     "metadata": {},
     "output_type": "display_data"
    }
   ],
   "source": [
    "good_phone = get_embedding(\"买的银色版真的很好看，一天就到了，晚上就开始拿起来完系统很丝滑流畅，做工扎实，手感细腻，很精致哦苹果一如既往的好品质\", engine=EMBEDDING_MODEL)\n",
    "bad_phone = get_embedding(\"随意降价，不予价保，服务态度差\", engine=EMBEDDING_MODEL)\n",
    "\n",
    "words = [f\"Positive\", \"Negative\", \"Good Phone\", \"Bad Phone\"]\n",
    "vectors = [np.array(x) for x in [positive_review, negative_review, good_phone, bad_phone]]\n",
    "\n",
    "visualize_words(words, vectors)\n"
   ]
  },
  {
   "cell_type": "markdown",
   "metadata": {},
   "source": [
    "### 通过向量进行零样本分类"
   ]
  },
  {
   "cell_type": "code",
   "execution_count": 61,
   "metadata": {},
   "outputs": [],
   "source": [
    "import pandas as pd\n",
    "import numpy as np\n",
    "\n",
    "from sklearn.metrics import classification_report\n",
    "\n",
    "datafile_path = \"data/fine_food_reviews_with_embeddings_1k.csv\"\n",
    "\n",
    "df = pd.read_csv(datafile_path)\n",
    "df[\"embedding\"] = df.embedding.apply(eval).apply(np.array) # type: ignore\n",
    "\n",
    "# convert 5-star rating to binary sentiment\n",
    "df = df[df.Score != 3]\n",
    "df[\"sentiment\"] = df.Score.replace({1: \"negative\", 2: \"negative\", 4: \"positive\", 5: \"positive\"})"
   ]
  },
  {
   "cell_type": "code",
   "execution_count": 62,
   "metadata": {},
   "outputs": [
    {
     "data": {
      "text/html": [
       "<div>\n",
       "<style scoped>\n",
       "    .dataframe tbody tr th:only-of-type {\n",
       "        vertical-align: middle;\n",
       "    }\n",
       "\n",
       "    .dataframe tbody tr th {\n",
       "        vertical-align: top;\n",
       "    }\n",
       "\n",
       "    .dataframe thead th {\n",
       "        text-align: right;\n",
       "    }\n",
       "</style>\n",
       "<table border=\"1\" class=\"dataframe\">\n",
       "  <thead>\n",
       "    <tr style=\"text-align: right;\">\n",
       "      <th></th>\n",
       "      <th>Unnamed: 0</th>\n",
       "      <th>ProductId</th>\n",
       "      <th>UserId</th>\n",
       "      <th>Score</th>\n",
       "      <th>Summary</th>\n",
       "      <th>Text</th>\n",
       "      <th>combined</th>\n",
       "      <th>n_tokens</th>\n",
       "      <th>embedding</th>\n",
       "      <th>sentiment</th>\n",
       "    </tr>\n",
       "  </thead>\n",
       "  <tbody>\n",
       "    <tr>\n",
       "      <th>0</th>\n",
       "      <td>0</td>\n",
       "      <td>B003XPF9BO</td>\n",
       "      <td>A3R7JR3FMEBXQB</td>\n",
       "      <td>5</td>\n",
       "      <td>where does one  start...and stop... with a tre...</td>\n",
       "      <td>Wanted to save some to bring to my Chicago fam...</td>\n",
       "      <td>Title: where does one  start...and stop... wit...</td>\n",
       "      <td>52</td>\n",
       "      <td>[0.007018072064965963, -0.02731654793024063, 0...</td>\n",
       "      <td>positive</td>\n",
       "    </tr>\n",
       "    <tr>\n",
       "      <th>1</th>\n",
       "      <td>297</td>\n",
       "      <td>B003VXHGPK</td>\n",
       "      <td>A21VWSCGW7UUAR</td>\n",
       "      <td>4</td>\n",
       "      <td>Good, but not Wolfgang Puck good</td>\n",
       "      <td>Honestly, I have to admit that I expected a li...</td>\n",
       "      <td>Title: Good, but not Wolfgang Puck good; Conte...</td>\n",
       "      <td>178</td>\n",
       "      <td>[-0.003140551969408989, -0.009995664469897747,...</td>\n",
       "      <td>positive</td>\n",
       "    </tr>\n",
       "    <tr>\n",
       "      <th>2</th>\n",
       "      <td>296</td>\n",
       "      <td>B008JKTTUA</td>\n",
       "      <td>A34XBAIFT02B60</td>\n",
       "      <td>1</td>\n",
       "      <td>Should advertise coconut as an ingredient more...</td>\n",
       "      <td>First, these should be called Mac - Coconut ba...</td>\n",
       "      <td>Title: Should advertise coconut as an ingredie...</td>\n",
       "      <td>78</td>\n",
       "      <td>[-0.01757248118519783, -8.266511576948687e-05,...</td>\n",
       "      <td>negative</td>\n",
       "    </tr>\n",
       "    <tr>\n",
       "      <th>3</th>\n",
       "      <td>295</td>\n",
       "      <td>B000LKTTTW</td>\n",
       "      <td>A14MQ40CCU8B13</td>\n",
       "      <td>5</td>\n",
       "      <td>Best tomato soup</td>\n",
       "      <td>I have a hard time finding packaged food of an...</td>\n",
       "      <td>Title: Best tomato soup; Content: I have a har...</td>\n",
       "      <td>111</td>\n",
       "      <td>[-0.0013932279543951154, -0.011112828738987446...</td>\n",
       "      <td>positive</td>\n",
       "    </tr>\n",
       "    <tr>\n",
       "      <th>4</th>\n",
       "      <td>294</td>\n",
       "      <td>B001D09KAM</td>\n",
       "      <td>A34XBAIFT02B60</td>\n",
       "      <td>1</td>\n",
       "      <td>Should advertise coconut as an ingredient more...</td>\n",
       "      <td>First, these should be called Mac - Coconut ba...</td>\n",
       "      <td>Title: Should advertise coconut as an ingredie...</td>\n",
       "      <td>78</td>\n",
       "      <td>[-0.01757248118519783, -8.266511576948687e-05,...</td>\n",
       "      <td>negative</td>\n",
       "    </tr>\n",
       "  </tbody>\n",
       "</table>\n",
       "</div>"
      ],
      "text/plain": [
       "   Unnamed: 0   ProductId          UserId  Score   \n",
       "0           0  B003XPF9BO  A3R7JR3FMEBXQB      5  \\\n",
       "1         297  B003VXHGPK  A21VWSCGW7UUAR      4   \n",
       "2         296  B008JKTTUA  A34XBAIFT02B60      1   \n",
       "3         295  B000LKTTTW  A14MQ40CCU8B13      5   \n",
       "4         294  B001D09KAM  A34XBAIFT02B60      1   \n",
       "\n",
       "                                             Summary   \n",
       "0  where does one  start...and stop... with a tre...  \\\n",
       "1                   Good, but not Wolfgang Puck good   \n",
       "2  Should advertise coconut as an ingredient more...   \n",
       "3                                   Best tomato soup   \n",
       "4  Should advertise coconut as an ingredient more...   \n",
       "\n",
       "                                                Text   \n",
       "0  Wanted to save some to bring to my Chicago fam...  \\\n",
       "1  Honestly, I have to admit that I expected a li...   \n",
       "2  First, these should be called Mac - Coconut ba...   \n",
       "3  I have a hard time finding packaged food of an...   \n",
       "4  First, these should be called Mac - Coconut ba...   \n",
       "\n",
       "                                            combined  n_tokens   \n",
       "0  Title: where does one  start...and stop... wit...        52  \\\n",
       "1  Title: Good, but not Wolfgang Puck good; Conte...       178   \n",
       "2  Title: Should advertise coconut as an ingredie...        78   \n",
       "3  Title: Best tomato soup; Content: I have a har...       111   \n",
       "4  Title: Should advertise coconut as an ingredie...        78   \n",
       "\n",
       "                                           embedding sentiment  \n",
       "0  [0.007018072064965963, -0.02731654793024063, 0...  positive  \n",
       "1  [-0.003140551969408989, -0.009995664469897747,...  positive  \n",
       "2  [-0.01757248118519783, -8.266511576948687e-05,...  negative  \n",
       "3  [-0.0013932279543951154, -0.011112828738987446...  positive  \n",
       "4  [-0.01757248118519783, -8.266511576948687e-05,...  negative  "
      ]
     },
     "execution_count": 62,
     "metadata": {},
     "output_type": "execute_result"
    }
   ],
   "source": [
    "df.head()"
   ]
  },
  {
   "cell_type": "code",
   "execution_count": 10,
   "metadata": {},
   "outputs": [
    {
     "ename": "NameError",
     "evalue": "name 'EMBEDDING_MODEL' is not defined",
     "output_type": "error",
     "traceback": [
      "\u001b[0;31m---------------------------------------------------------------------------\u001b[0m",
      "\u001b[0;31mNameError\u001b[0m                                 Traceback (most recent call last)",
      "\u001b[1;32m/Users/chenyanbin/codebase/ai/xuwenhao/mactalk-ai-course/week2.ipynb Cell 50\u001b[0m line \u001b[0;36m6\n\u001b[1;32m      <a href='vscode-notebook-cell:/Users/chenyanbin/codebase/ai/xuwenhao/mactalk-ai-course/week2.ipynb#Y100sZmlsZQ%3D%3D?line=0'>1</a>\u001b[0m \u001b[39mfrom\u001b[39;00m \u001b[39msklearn\u001b[39;00m\u001b[39m.\u001b[39;00m\u001b[39mmetrics\u001b[39;00m \u001b[39mimport\u001b[39;00m PrecisionRecallDisplay\n\u001b[1;32m      <a href='vscode-notebook-cell:/Users/chenyanbin/codebase/ai/xuwenhao/mactalk-ai-course/week2.ipynb#Y100sZmlsZQ%3D%3D?line=1'>2</a>\u001b[0m \u001b[39mfrom\u001b[39;00m \u001b[39mopenai\u001b[39;00m\u001b[39m.\u001b[39;00m\u001b[39membeddings_utils\u001b[39;00m \u001b[39mimport\u001b[39;00m cosine_similarity, get_embedding\n\u001b[1;32m      <a href='vscode-notebook-cell:/Users/chenyanbin/codebase/ai/xuwenhao/mactalk-ai-course/week2.ipynb#Y100sZmlsZQ%3D%3D?line=3'>4</a>\u001b[0m \u001b[39mdef\u001b[39;00m \u001b[39mevaluate_embeddings_approach\u001b[39m(\n\u001b[1;32m      <a href='vscode-notebook-cell:/Users/chenyanbin/codebase/ai/xuwenhao/mactalk-ai-course/week2.ipynb#Y100sZmlsZQ%3D%3D?line=4'>5</a>\u001b[0m     labels \u001b[39m=\u001b[39m [\u001b[39m'\u001b[39m\u001b[39mnegative\u001b[39m\u001b[39m'\u001b[39m, \u001b[39m'\u001b[39m\u001b[39mpositive\u001b[39m\u001b[39m'\u001b[39m], \n\u001b[0;32m----> <a href='vscode-notebook-cell:/Users/chenyanbin/codebase/ai/xuwenhao/mactalk-ai-course/week2.ipynb#Y100sZmlsZQ%3D%3D?line=5'>6</a>\u001b[0m     model \u001b[39m=\u001b[39m EMBEDDING_MODEL,\n\u001b[1;32m      <a href='vscode-notebook-cell:/Users/chenyanbin/codebase/ai/xuwenhao/mactalk-ai-course/week2.ipynb#Y100sZmlsZQ%3D%3D?line=6'>7</a>\u001b[0m ):\n\u001b[1;32m      <a href='vscode-notebook-cell:/Users/chenyanbin/codebase/ai/xuwenhao/mactalk-ai-course/week2.ipynb#Y100sZmlsZQ%3D%3D?line=7'>8</a>\u001b[0m     label_embeddings \u001b[39m=\u001b[39m [get_embedding(label, engine\u001b[39m=\u001b[39mmodel) \u001b[39mfor\u001b[39;00m label \u001b[39min\u001b[39;00m labels]\n\u001b[1;32m     <a href='vscode-notebook-cell:/Users/chenyanbin/codebase/ai/xuwenhao/mactalk-ai-course/week2.ipynb#Y100sZmlsZQ%3D%3D?line=9'>10</a>\u001b[0m     \u001b[39mdef\u001b[39;00m \u001b[39mlabel_score\u001b[39m(review_embedding, label_embeddings):\n",
      "\u001b[0;31mNameError\u001b[0m: name 'EMBEDDING_MODEL' is not defined"
     ]
    }
   ],
   "source": [
    "from sklearn.metrics import PrecisionRecallDisplay\n",
    "from openai.embeddings_utils import cosine_similarity, get_embedding\n",
    "\n",
    "def evaluate_embeddings_approach(\n",
    "    labels = ['negative', 'positive'], \n",
    "    model = EMBEDDING_MODEL,\n",
    "):\n",
    "    label_embeddings = [get_embedding(label, engine=model) for label in labels]\n",
    "\n",
    "    def label_score(review_embedding, label_embeddings):\n",
    "        return cosine_similarity(review_embedding, label_embeddings[1]) - cosine_similarity(review_embedding, label_embeddings[0])\n",
    "\n",
    "    probas = df[\"embedding\"].apply(lambda x: label_score(x, label_embeddings))\n",
    "    preds = probas.apply(lambda x: 'positive' if x>0 else 'negative')\n",
    "\n",
    "    report = classification_report(df.sentiment, preds)\n",
    "    print(report)\n",
    "    \n",
    "    print(\"Precision-Recall Curve:\")\n",
    "    \n",
    "    display = PrecisionRecallDisplay.from_predictions(df.sentiment, probas, pos_label='positive')\n",
    "    _ = display.ax_.set_title(\"2-class Precision-Recall curve\")\n",
    "\n",
    "evaluate_embeddings_approach(labels=['An Amazon review with a negative sentiment.', 'An Amazon review with a positive sentiment.'])"
   ]
  },
  {
   "cell_type": "markdown",
   "metadata": {},
   "source": [
    "### 通过机器学习进行分类"
   ]
  },
  {
   "cell_type": "code",
   "execution_count": 8,
   "metadata": {},
   "outputs": [
    {
     "name": "stderr",
     "output_type": "stream",
     "text": [
      "/Users/chenyanbin/opt/anaconda3/envs/mactalk/lib/python3.10/site-packages/sklearn/linear_model/_logistic.py:458: ConvergenceWarning: lbfgs failed to converge (status=1):\n",
      "STOP: TOTAL NO. of ITERATIONS REACHED LIMIT.\n",
      "\n",
      "Increase the number of iterations (max_iter) or scale the data as shown in:\n",
      "    https://scikit-learn.org/stable/modules/preprocessing.html\n",
      "Please also refer to the documentation for alternative solver options:\n",
      "    https://scikit-learn.org/stable/modules/linear_model.html#logistic-regression\n",
      "  n_iter_i = _check_optimize_result(\n"
     ]
    },
    {
     "name": "stdout",
     "output_type": "stream",
     "text": [
      "[[4.24219623e-02 2.15489029e-02 4.21768088e-02 8.09931863e-03\n",
      "  3.42461997e-02 2.74707584e-02 7.96113923e-03 1.70886981e-02\n",
      "  6.43248016e-03 1.22730111e-02 2.89593407e-03 1.88968409e-02\n",
      "  7.27214529e-01 2.94271311e-02 1.84628590e-03]\n",
      " [1.01674802e-03 1.06030405e-02 2.47354447e-02 1.89218851e-02\n",
      "  1.89576871e-01 2.34630390e-03 2.15014138e-02 2.26198141e-03\n",
      "  4.35765180e-03 6.85773073e-03 3.40009220e-02 5.49446640e-03\n",
      "  6.39971094e-01 3.77806417e-02 5.73804275e-04]\n",
      " [3.02621377e-03 3.47742328e-03 8.42027577e-03 9.32951804e-03\n",
      "  3.30418712e-03 1.46116010e-01 1.45709878e-02 3.04397510e-03\n",
      "  8.54873266e-03 1.57540902e-03 1.09414403e-03 7.68675730e-01\n",
      "  4.72911973e-03 2.31231189e-02 9.65155398e-04]\n",
      " [9.43641736e-04 1.39957333e-03 3.24742749e-03 5.57103081e-03\n",
      "  2.49986064e-03 9.17959659e-03 2.00542026e-03 2.07968370e-03\n",
      "  1.22423438e-02 5.73593958e-03 2.79420064e-04 1.68544997e-02\n",
      "  1.15286539e-03 9.36340513e-01 4.68183934e-04]\n",
      " [2.06644335e-03 1.09247306e-03 3.17703924e-03 3.93359464e-04\n",
      "  9.74566888e-03 5.68794424e-04 9.67892789e-01 1.51459793e-04\n",
      "  6.07804485e-04 6.67852077e-03 2.54970699e-03 2.58517859e-03\n",
      "  1.07403215e-03 1.29514532e-03 1.21584457e-04]]\n",
      "                    precision    recall  f1-score   support\n",
      "\n",
      "  news_agriculture       0.82      0.87      0.85       495\n",
      "          news_car       0.90      0.92      0.91       895\n",
      "      news_culture       0.78      0.81      0.79       741\n",
      "          news_edu       0.88      0.90      0.89       708\n",
      "news_entertainment       0.83      0.87      0.85      1051\n",
      "      news_finance       0.79      0.76      0.78       735\n",
      "         news_game       0.90      0.85      0.88       742\n",
      "        news_house       0.90      0.89      0.89       450\n",
      "     news_military       0.86      0.80      0.83       688\n",
      "       news_sports       0.93      0.92      0.93       968\n",
      "        news_story       0.81      0.73      0.77       197\n",
      "         news_tech       0.83      0.84      0.84      1052\n",
      "       news_travel       0.80      0.77      0.78       599\n",
      "        news_world       0.76      0.79      0.77       671\n",
      "             stock       0.00      0.00      0.00         8\n",
      "\n",
      "          accuracy                           0.85     10000\n",
      "         macro avg       0.79      0.78      0.78     10000\n",
      "      weighted avg       0.85      0.85      0.85     10000\n",
      "\n"
     ]
    },
    {
     "name": "stderr",
     "output_type": "stream",
     "text": [
      "/Users/chenyanbin/opt/anaconda3/envs/mactalk/lib/python3.10/site-packages/sklearn/metrics/_classification.py:1344: UndefinedMetricWarning: Precision and F-score are ill-defined and being set to 0.0 in labels with no predicted samples. Use `zero_division` parameter to control this behavior.\n",
      "  _warn_prf(average, modifier, msg_start, len(result))\n",
      "/Users/chenyanbin/opt/anaconda3/envs/mactalk/lib/python3.10/site-packages/sklearn/metrics/_classification.py:1344: UndefinedMetricWarning: Precision and F-score are ill-defined and being set to 0.0 in labels with no predicted samples. Use `zero_division` parameter to control this behavior.\n",
      "  _warn_prf(average, modifier, msg_start, len(result))\n",
      "/Users/chenyanbin/opt/anaconda3/envs/mactalk/lib/python3.10/site-packages/sklearn/metrics/_classification.py:1344: UndefinedMetricWarning: Precision and F-score are ill-defined and being set to 0.0 in labels with no predicted samples. Use `zero_division` parameter to control this behavior.\n",
      "  _warn_prf(average, modifier, msg_start, len(result))\n"
     ]
    }
   ],
   "source": [
    "from sklearn.linear_model import LogisticRegression\n",
    "from sklearn.model_selection import train_test_split\n",
    "from sklearn.metrics import classification_report, accuracy_score\n",
    "import pandas as pd\n",
    "\n",
    "training_data = pd.read_parquet(\"/Users/chenyanbin/codebase/ai/AI-Learning/AI大模型之美/toutiao_cat_data_all_with_embeddings.parquet\")\n",
    "\n",
    "df =  training_data.sample(50000, random_state=42)\n",
    "\n",
    "X_train, X_test, y_train, y_test = train_test_split(\n",
    "    list(df.embedding.values), df.category, test_size=0.2, random_state=42\n",
    ")\n",
    "\n",
    "clf = LogisticRegression()\n",
    "clf.fit(X_train, y_train)\n",
    "preds = clf.predict(X_test)\n",
    "probas = clf.predict_proba(X_test)\n",
    "print(probas[:5])\n",
    "\n",
    "report = classification_report(y_test, preds)\n",
    "print(report)"
   ]
  },
  {
   "cell_type": "code",
   "execution_count": 7,
   "metadata": {},
   "outputs": [
    {
     "data": {
      "text/html": [
       "<div>\n",
       "<style scoped>\n",
       "    .dataframe tbody tr th:only-of-type {\n",
       "        vertical-align: middle;\n",
       "    }\n",
       "\n",
       "    .dataframe tbody tr th {\n",
       "        vertical-align: top;\n",
       "    }\n",
       "\n",
       "    .dataframe thead th {\n",
       "        text-align: right;\n",
       "    }\n",
       "</style>\n",
       "<table border=\"1\" class=\"dataframe\">\n",
       "  <thead>\n",
       "    <tr style=\"text-align: right;\">\n",
       "      <th></th>\n",
       "      <th>id</th>\n",
       "      <th>code</th>\n",
       "      <th>category</th>\n",
       "      <th>title</th>\n",
       "      <th>keywords</th>\n",
       "      <th>combined</th>\n",
       "      <th>n_tokens</th>\n",
       "      <th>embedding</th>\n",
       "    </tr>\n",
       "  </thead>\n",
       "  <tbody>\n",
       "    <tr>\n",
       "      <th>31190</th>\n",
       "      <td>6552306095778431492</td>\n",
       "      <td>103</td>\n",
       "      <td>news_sports</td>\n",
       "      <td>丁宁被曝输球后想退役！刘国梁关键时刻喊醒她，郭跃却公开质疑她</td>\n",
       "      <td>郭跃,国乒,丁宁,刘诗雯,刘国梁</td>\n",
       "      <td>标题: 丁宁被曝输球后想退役！刘国梁关键时刻喊醒她，郭跃却公开质疑她; 关键字: 郭跃,国乒...</td>\n",
       "      <td>87</td>\n",
       "      <td>[-0.030126476660370827, -0.009722757153213024,...</td>\n",
       "    </tr>\n",
       "    <tr>\n",
       "      <th>346341</th>\n",
       "      <td>6554598304481542659</td>\n",
       "      <td>112</td>\n",
       "      <td>news_travel</td>\n",
       "      <td>刚出炉的旅行茶具，方便携带，让茶友们能忙里偷闲品上一杯好茶！</td>\n",
       "      <td>忙里偷闲,携带,旅行携带,铜香炉,龙凤团茶</td>\n",
       "      <td>标题: 刚出炉的旅行茶具，方便携带，让茶友们能忙里偷闲品上一杯好茶！; 关键字: 忙里偷闲,...</td>\n",
       "      <td>92</td>\n",
       "      <td>[-0.00728569645434618, -0.009782865643501282, ...</td>\n",
       "    </tr>\n",
       "    <tr>\n",
       "      <th>315722</th>\n",
       "      <td>6523157905670144515</td>\n",
       "      <td>116</td>\n",
       "      <td>news_game</td>\n",
       "      <td>地下城与勇士：这游戏怎么还不黄？多亏了策划这10E金币上限！</td>\n",
       "      <td>DNF,游戏,LOL,地下城与勇士,金币</td>\n",
       "      <td>标题: 地下城与勇士：这游戏怎么还不黄？多亏了策划这10E金币上限！; 关键字: DNF,游...</td>\n",
       "      <td>68</td>\n",
       "      <td>[0.0032776729203760624, -0.024711666628718376,...</td>\n",
       "    </tr>\n",
       "    <tr>\n",
       "      <th>160409</th>\n",
       "      <td>6553046232036540941</td>\n",
       "      <td>107</td>\n",
       "      <td>news_car</td>\n",
       "      <td>一年中这时候最适合买车，你还不知道？</td>\n",
       "      <td>普拉多,58同城,买车,二手车,丰田普拉多</td>\n",
       "      <td>标题: 一年中这时候最适合买车，你还不知道？; 关键字: 普拉多,58同城,买车,二手车,丰...</td>\n",
       "      <td>55</td>\n",
       "      <td>[-0.002509834710508585, -0.005831723101437092,...</td>\n",
       "    </tr>\n",
       "    <tr>\n",
       "      <th>293166</th>\n",
       "      <td>6554280687233401351</td>\n",
       "      <td>102</td>\n",
       "      <td>news_entertainment</td>\n",
       "      <td>今天是杨钰莹的生日，九张图见证她的传奇人生，真的是从小美到大</td>\n",
       "      <td></td>\n",
       "      <td>标题: 今天是杨钰莹的生日，九张图见证她的传奇人生，真的是从小美到大; 关键字:</td>\n",
       "      <td>46</td>\n",
       "      <td>[-0.02456338331103325, -0.0091621158644557, 0....</td>\n",
       "    </tr>\n",
       "    <tr>\n",
       "      <th>288897</th>\n",
       "      <td>6495166479602811150</td>\n",
       "      <td>115</td>\n",
       "      <td>news_agriculture</td>\n",
       "      <td>把杉木植入毛竹的基因，可行吗？</td>\n",
       "      <td>禾本科植物,杉木,毛竹,诺贝尔奖</td>\n",
       "      <td>标题: 把杉木植入毛竹的基因，可行吗？; 关键字: 禾本科植物,杉木,毛竹,诺贝尔奖</td>\n",
       "      <td>55</td>\n",
       "      <td>[-0.013037286698818207, -0.01188693754374981, ...</td>\n",
       "    </tr>\n",
       "    <tr>\n",
       "      <th>203995</th>\n",
       "      <td>6553396746054009095</td>\n",
       "      <td>107</td>\n",
       "      <td>news_car</td>\n",
       "      <td>汽车照明LED灯是什么灯？</td>\n",
       "      <td></td>\n",
       "      <td>标题: 汽车照明LED灯是什么灯？; 关键字:</td>\n",
       "      <td>25</td>\n",
       "      <td>[0.007200269494205713, 0.0045065744780004025, ...</td>\n",
       "    </tr>\n",
       "    <tr>\n",
       "      <th>101191</th>\n",
       "      <td>6553077572492591620</td>\n",
       "      <td>102</td>\n",
       "      <td>news_entertainment</td>\n",
       "      <td>黄圣依带儿子迪士尼游玩 安迪乖巧可爱</td>\n",
       "      <td>迪士尼,黄圣依,安迪</td>\n",
       "      <td>标题: 黄圣依带儿子迪士尼游玩 安迪乖巧可爱; 关键字: 迪士尼,黄圣依,安迪</td>\n",
       "      <td>56</td>\n",
       "      <td>[-0.017623981460928917, 0.009193049743771553, ...</td>\n",
       "    </tr>\n",
       "    <tr>\n",
       "      <th>199912</th>\n",
       "      <td>6553085779734692355</td>\n",
       "      <td>110</td>\n",
       "      <td>news_military</td>\n",
       "      <td>美军想用它反制东风21D！可无形之中摧毁发射阵地，专家：没戏</td>\n",
       "      <td>国家利益,AGM-158A,叙利亚,反舰弹道导弹,巡航导弹,隐身巡航导弹</td>\n",
       "      <td>标题: 美军想用它反制东风21D！可无形之中摧毁发射阵地，专家：没戏; 关键字: 国家利益,...</td>\n",
       "      <td>94</td>\n",
       "      <td>[-0.04027533903717995, -0.005229496862739325, ...</td>\n",
       "    </tr>\n",
       "    <tr>\n",
       "      <th>179375</th>\n",
       "      <td>6553513505805304333</td>\n",
       "      <td>115</td>\n",
       "      <td>news_agriculture</td>\n",
       "      <td>农村这种小草，人称“三枝九叶草”，一斤卖65元，农民别错过它！</td>\n",
       "      <td>提取物,威灵仙,淫羊藿,小草,三枝九叶草</td>\n",
       "      <td>标题: 农村这种小草，人称“三枝九叶草”，一斤卖65元，农民别错过它！; 关键字: 提取物,...</td>\n",
       "      <td>80</td>\n",
       "      <td>[-0.015515350736677647, 0.005283823702484369, ...</td>\n",
       "    </tr>\n",
       "  </tbody>\n",
       "</table>\n",
       "</div>"
      ],
      "text/plain": [
       "                         id  code            category   \n",
       "31190   6552306095778431492   103         news_sports  \\\n",
       "346341  6554598304481542659   112         news_travel   \n",
       "315722  6523157905670144515   116           news_game   \n",
       "160409  6553046232036540941   107            news_car   \n",
       "293166  6554280687233401351   102  news_entertainment   \n",
       "288897  6495166479602811150   115    news_agriculture   \n",
       "203995  6553396746054009095   107            news_car   \n",
       "101191  6553077572492591620   102  news_entertainment   \n",
       "199912  6553085779734692355   110       news_military   \n",
       "179375  6553513505805304333   115    news_agriculture   \n",
       "\n",
       "                                  title                              keywords   \n",
       "31190    丁宁被曝输球后想退役！刘国梁关键时刻喊醒她，郭跃却公开质疑她                      郭跃,国乒,丁宁,刘诗雯,刘国梁  \\\n",
       "346341   刚出炉的旅行茶具，方便携带，让茶友们能忙里偷闲品上一杯好茶！                 忙里偷闲,携带,旅行携带,铜香炉,龙凤团茶   \n",
       "315722   地下城与勇士：这游戏怎么还不黄？多亏了策划这10E金币上限！                  DNF,游戏,LOL,地下城与勇士,金币   \n",
       "160409               一年中这时候最适合买车，你还不知道？                 普拉多,58同城,买车,二手车,丰田普拉多   \n",
       "293166   今天是杨钰莹的生日，九张图见证她的传奇人生，真的是从小美到大                                         \n",
       "288897                  把杉木植入毛竹的基因，可行吗？                      禾本科植物,杉木,毛竹,诺贝尔奖   \n",
       "203995                    汽车照明LED灯是什么灯？                                         \n",
       "101191               黄圣依带儿子迪士尼游玩 安迪乖巧可爱                            迪士尼,黄圣依,安迪   \n",
       "199912   美军想用它反制东风21D！可无形之中摧毁发射阵地，专家：没戏  国家利益,AGM-158A,叙利亚,反舰弹道导弹,巡航导弹,隐身巡航导弹   \n",
       "179375  农村这种小草，人称“三枝九叶草”，一斤卖65元，农民别错过它！                  提取物,威灵仙,淫羊藿,小草,三枝九叶草   \n",
       "\n",
       "                                                 combined  n_tokens   \n",
       "31190   标题: 丁宁被曝输球后想退役！刘国梁关键时刻喊醒她，郭跃却公开质疑她; 关键字: 郭跃,国乒...        87  \\\n",
       "346341  标题: 刚出炉的旅行茶具，方便携带，让茶友们能忙里偷闲品上一杯好茶！; 关键字: 忙里偷闲,...        92   \n",
       "315722  标题: 地下城与勇士：这游戏怎么还不黄？多亏了策划这10E金币上限！; 关键字: DNF,游...        68   \n",
       "160409  标题: 一年中这时候最适合买车，你还不知道？; 关键字: 普拉多,58同城,买车,二手车,丰...        55   \n",
       "293166          标题: 今天是杨钰莹的生日，九张图见证她的传奇人生，真的是从小美到大; 关键字:         46   \n",
       "288897         标题: 把杉木植入毛竹的基因，可行吗？; 关键字: 禾本科植物,杉木,毛竹,诺贝尔奖        55   \n",
       "203995                           标题: 汽车照明LED灯是什么灯？; 关键字:         25   \n",
       "101191            标题: 黄圣依带儿子迪士尼游玩 安迪乖巧可爱; 关键字: 迪士尼,黄圣依,安迪        56   \n",
       "199912  标题: 美军想用它反制东风21D！可无形之中摧毁发射阵地，专家：没戏; 关键字: 国家利益,...        94   \n",
       "179375  标题: 农村这种小草，人称“三枝九叶草”，一斤卖65元，农民别错过它！; 关键字: 提取物,...        80   \n",
       "\n",
       "                                                embedding  \n",
       "31190   [-0.030126476660370827, -0.009722757153213024,...  \n",
       "346341  [-0.00728569645434618, -0.009782865643501282, ...  \n",
       "315722  [0.0032776729203760624, -0.024711666628718376,...  \n",
       "160409  [-0.002509834710508585, -0.005831723101437092,...  \n",
       "293166  [-0.02456338331103325, -0.0091621158644557, 0....  \n",
       "288897  [-0.013037286698818207, -0.01188693754374981, ...  \n",
       "203995  [0.007200269494205713, 0.0045065744780004025, ...  \n",
       "101191  [-0.017623981460928917, 0.009193049743771553, ...  \n",
       "199912  [-0.04027533903717995, -0.005229496862739325, ...  \n",
       "179375  [-0.015515350736677647, 0.005283823702484369, ...  "
      ]
     },
     "execution_count": 7,
     "metadata": {},
     "output_type": "execute_result"
    }
   ],
   "source": [
    "df.tail(10)"
   ]
  },
  {
   "cell_type": "code",
   "execution_count": 13,
   "metadata": {},
   "outputs": [
    {
     "name": "stdout",
     "output_type": "stream",
     "text": [
      "Prediction: news_sports\n"
     ]
    }
   ],
   "source": [
    "sports_news = get_embedding(\"【西海岸】ESPN：马龙教练不容易，保持核心掘金能复刻冠军\", engine=EMBEDDING_MODEL)\n",
    "prediction = clf.predict([sports_news])[0]\n",
    "print(f\"Prediction: {prediction}\")"
   ]
  },
  {
   "cell_type": "code",
   "execution_count": 14,
   "metadata": {},
   "outputs": [
    {
     "name": "stdout",
     "output_type": "stream",
     "text": [
      "Prediction: news_finance\n"
     ]
    }
   ],
   "source": [
    "finance_news = get_embedding(\"北上资金净买入超百亿元 重点加仓新能源汽车产业\", engine=EMBEDDING_MODEL)\n",
    "prediction = clf.predict([finance_news])[0]\n",
    "print(f\"Prediction: {prediction}\")"
   ]
  },
  {
   "cell_type": "markdown",
   "metadata": {},
   "source": [
    "### 通过机器学习进行聚类"
   ]
  },
  {
   "cell_type": "code",
   "execution_count": 15,
   "metadata": {},
   "outputs": [],
   "source": [
    "import numpy as np\n",
    "from sklearn.cluster import KMeans\n",
    "\n",
    "embedding_df = pd.read_parquet(\"/Users/chenyanbin/codebase/ai/AI-Learning/AI大模型之美/20_newsgroup_with_embedding.parquet\")\n",
    "\n",
    "matrix = np.vstack(embedding_df.embedding.values) # type: ignore\n",
    "num_of_clusters = 20\n",
    "\n",
    "kmeans = KMeans(n_clusters=num_of_clusters, init=\"k-means++\", n_init=10, random_state=42)\n",
    "kmeans.fit(matrix)\n",
    "labels = kmeans.labels_\n",
    "embedding_df[\"cluster\"] = labels"
   ]
  },
  {
   "cell_type": "code",
   "execution_count": 25,
   "metadata": {},
   "outputs": [
    {
     "data": {
      "text/html": [
       "<div>\n",
       "<style scoped>\n",
       "    .dataframe tbody tr th:only-of-type {\n",
       "        vertical-align: middle;\n",
       "    }\n",
       "\n",
       "    .dataframe tbody tr th {\n",
       "        vertical-align: top;\n",
       "    }\n",
       "\n",
       "    .dataframe thead th {\n",
       "        text-align: right;\n",
       "    }\n",
       "</style>\n",
       "<table border=\"1\" class=\"dataframe\">\n",
       "  <thead>\n",
       "    <tr style=\"text-align: right;\">\n",
       "      <th></th>\n",
       "      <th>text</th>\n",
       "      <th>target</th>\n",
       "      <th>title</th>\n",
       "      <th>n_tokens</th>\n",
       "      <th>embedding</th>\n",
       "      <th>cluster</th>\n",
       "    </tr>\n",
       "  </thead>\n",
       "  <tbody>\n",
       "    <tr>\n",
       "      <th>0</th>\n",
       "      <td>I was wondering if anyone out there could enli...</td>\n",
       "      <td>7</td>\n",
       "      <td>rec.autos</td>\n",
       "      <td>121</td>\n",
       "      <td>[-0.0391300804913044, 0.013502633199095726, -0...</td>\n",
       "      <td>5</td>\n",
       "    </tr>\n",
       "    <tr>\n",
       "      <th>1</th>\n",
       "      <td>\\nIt depends on your priorities.  A lot of peo...</td>\n",
       "      <td>7</td>\n",
       "      <td>rec.autos</td>\n",
       "      <td>108</td>\n",
       "      <td>[-0.0011249205563217402, -0.00376517535187304,...</td>\n",
       "      <td>5</td>\n",
       "    </tr>\n",
       "    <tr>\n",
       "      <th>2</th>\n",
       "      <td>an excellent automatic can be found in the sub...</td>\n",
       "      <td>7</td>\n",
       "      <td>rec.autos</td>\n",
       "      <td>476</td>\n",
       "      <td>[-0.018259447067975998, -0.008410007692873478,...</td>\n",
       "      <td>5</td>\n",
       "    </tr>\n",
       "    <tr>\n",
       "      <th>3</th>\n",
       "      <td>: Ford and his automobile.  I need information...</td>\n",
       "      <td>7</td>\n",
       "      <td>rec.autos</td>\n",
       "      <td>86</td>\n",
       "      <td>[-0.012589422054588795, 0.006539034191519022, ...</td>\n",
       "      <td>5</td>\n",
       "    </tr>\n",
       "    <tr>\n",
       "      <th>4</th>\n",
       "      <td>\\nYo! Watch the attributions--I didn't say tha...</td>\n",
       "      <td>7</td>\n",
       "      <td>rec.autos</td>\n",
       "      <td>130</td>\n",
       "      <td>[-0.0006192282889969647, -0.011226896196603775...</td>\n",
       "      <td>10</td>\n",
       "    </tr>\n",
       "  </tbody>\n",
       "</table>\n",
       "</div>"
      ],
      "text/plain": [
       "                                                text  target      title   \n",
       "0  I was wondering if anyone out there could enli...       7  rec.autos  \\\n",
       "1  \\nIt depends on your priorities.  A lot of peo...       7  rec.autos   \n",
       "2  an excellent automatic can be found in the sub...       7  rec.autos   \n",
       "3  : Ford and his automobile.  I need information...       7  rec.autos   \n",
       "4  \\nYo! Watch the attributions--I didn't say tha...       7  rec.autos   \n",
       "\n",
       "   n_tokens                                          embedding  cluster  \n",
       "0       121  [-0.0391300804913044, 0.013502633199095726, -0...        5  \n",
       "1       108  [-0.0011249205563217402, -0.00376517535187304,...        5  \n",
       "2       476  [-0.018259447067975998, -0.008410007692873478,...        5  \n",
       "3        86  [-0.012589422054588795, 0.006539034191519022, ...        5  \n",
       "4       130  [-0.0006192282889969647, -0.011226896196603775...       10  "
      ]
     },
     "execution_count": 25,
     "metadata": {},
     "output_type": "execute_result"
    }
   ],
   "source": [
    "embedding_df.head()\n",
    "\n",
    "# embedding_df.count"
   ]
  },
  {
   "cell_type": "code",
   "execution_count": 40,
   "metadata": {},
   "outputs": [
    {
     "name": "stdout",
     "output_type": "stream",
     "text": [
      "    cluster                   title_1  count_1  percentage_1  cluster   \n",
      "0         0            comp.windows.x      406      0.939815        0  \\\n",
      "1         1                 sci.space      388      0.928230        1   \n",
      "2         2  comp.sys.ibm.pc.hardware      396      0.382609        2   \n",
      "3         3          rec.sport.hockey      455      0.966030        3   \n",
      "4         4        talk.politics.misc      270      0.377095        4   \n",
      "5         5                 rec.autos      420      0.821918        5   \n",
      "6         6           rec.motorcycles      100      0.114943        6   \n",
      "7         7   comp.os.ms-windows.misc      338      0.592982        7   \n",
      "8         8     talk.politics.mideast      372      0.855172        8   \n",
      "9         9   comp.os.ms-windows.misc        8      0.095238        9   \n",
      "10       10        talk.politics.guns      382      0.724858       10   \n",
      "11       11             comp.graphics      324      0.584838       11   \n",
      "12       12           rec.motorcycles      355      0.954301       12   \n",
      "13       13    soc.religion.christian      460      0.547619       13   \n",
      "14       14        rec.sport.baseball      451      0.963675       14   \n",
      "15       15              misc.forsale      438      0.814126       15   \n",
      "16       16                 sci.crypt      349      0.961433       16   \n",
      "17       17           sci.electronics      336      0.701461       17   \n",
      "18       18                   sci.med      402      0.945882       18   \n",
      "19       19           sci.electronics       62      0.116541       19   \n",
      "\n",
      "                     title_1  count_1  percentage_1  \n",
      "0              comp.graphics       14      0.032407  \n",
      "1              comp.graphics        8      0.019139  \n",
      "2      comp.sys.mac.hardware      387      0.373913  \n",
      "3         rec.sport.baseball       16      0.033970  \n",
      "4                alt.atheism      150      0.209497  \n",
      "5            rec.motorcycles       43      0.084149  \n",
      "6         talk.politics.misc       79      0.090805  \n",
      "7   comp.sys.ibm.pc.hardware       79      0.138596  \n",
      "8                alt.atheism       23      0.052874  \n",
      "9      comp.sys.mac.hardware        8      0.095238  \n",
      "10        talk.religion.misc       35      0.066414  \n",
      "11   comp.os.ms-windows.misc       69      0.124549  \n",
      "12                 rec.autos        6      0.016129  \n",
      "13               alt.atheism      188      0.223810  \n",
      "14          rec.sport.hockey       15      0.032051  \n",
      "15     comp.sys.mac.hardware       27      0.050186  \n",
      "16           sci.electronics        4      0.011019  \n",
      "17     comp.sys.mac.hardware       28      0.058455  \n",
      "18        talk.politics.misc        8      0.018824  \n",
      "19              misc.forsale       47      0.088346  \n"
     ]
    }
   ],
   "source": [
    "import pandas as pd\n",
    "\n",
    "# 按照 cluster 和 title 进行分组，并统计每个分组结果的总数\n",
    "grouped = embedding_df.groupby(['cluster', 'title']).size().reset_index(name='count')\n",
    "# 计算每个分组结果在该 cluster 中的占比\n",
    "grouped['percentage'] = grouped.groupby('cluster')['count'].apply(lambda x: x / x.sum()).values\n",
    "\n",
    "# 对每个 cluster 内的 count 进行降序排列\n",
    "grouped = grouped.sort_values(['cluster', 'count'], ascending=[True, False])\n",
    "\n",
    "# 对每个 cluster 内的 count 进行降序排列，并保留每个 cluster 中 count 最多的两行\n",
    "grouped = grouped.groupby('cluster').apply(lambda x: x.nlargest(2, 'count')).reset_index(drop=True)\n",
    "\n",
    "# 将同一个 cluster 中的两行拼接成一行，并将新的列名调整为 title_2、count_2 和 percentage_2\n",
    "grouped = grouped.groupby('cluster').apply(lambda x: pd.concat([x.iloc[0], x.iloc[1]])).reset_index(drop=True)\n",
    "grouped = grouped.rename(columns={'title': 'title_1', 'count': 'count_1', 'percentage': 'percentage_1',\n",
    "                                  'title_2': 'title', 'count_2': 'count', 'percentage_2': 'percentage'})\n",
    "\n",
    "# 输出结果\n",
    "print(grouped)"
   ]
  },
  {
   "cell_type": "code",
   "execution_count": 17,
   "metadata": {},
   "outputs": [
    {
     "data": {
      "text/html": [
       "<div>\n",
       "<style scoped>\n",
       "    .dataframe tbody tr th:only-of-type {\n",
       "        vertical-align: middle;\n",
       "    }\n",
       "\n",
       "    .dataframe tbody tr th {\n",
       "        vertical-align: top;\n",
       "    }\n",
       "\n",
       "    .dataframe thead th {\n",
       "        text-align: right;\n",
       "    }\n",
       "</style>\n",
       "<table border=\"1\" class=\"dataframe\">\n",
       "  <thead>\n",
       "    <tr style=\"text-align: right;\">\n",
       "      <th></th>\n",
       "      <th>cluster</th>\n",
       "      <th>count</th>\n",
       "      <th>rank1</th>\n",
       "      <th>rank1_count</th>\n",
       "      <th>rank2</th>\n",
       "      <th>rank2_count</th>\n",
       "      <th>per_1</th>\n",
       "      <th>per_1_2</th>\n",
       "    </tr>\n",
       "  </thead>\n",
       "  <tbody>\n",
       "    <tr>\n",
       "      <th>0</th>\n",
       "      <td>0</td>\n",
       "      <td>432</td>\n",
       "      <td>comp.windows.x</td>\n",
       "      <td>406</td>\n",
       "      <td>comp.sys.mac.hardware</td>\n",
       "      <td>1.0</td>\n",
       "      <td>93.98%</td>\n",
       "      <td>94.21%</td>\n",
       "    </tr>\n",
       "    <tr>\n",
       "      <th>1</th>\n",
       "      <td>1</td>\n",
       "      <td>418</td>\n",
       "      <td>sci.space</td>\n",
       "      <td>388</td>\n",
       "      <td>alt.atheism</td>\n",
       "      <td>2.0</td>\n",
       "      <td>92.82%</td>\n",
       "      <td>93.30%</td>\n",
       "    </tr>\n",
       "    <tr>\n",
       "      <th>2</th>\n",
       "      <td>2</td>\n",
       "      <td>1035</td>\n",
       "      <td>comp.sys.ibm.pc.hardware</td>\n",
       "      <td>396</td>\n",
       "      <td>comp.sys.mac.hardware</td>\n",
       "      <td>387.0</td>\n",
       "      <td>38.26%</td>\n",
       "      <td>75.65%</td>\n",
       "    </tr>\n",
       "    <tr>\n",
       "      <th>3</th>\n",
       "      <td>3</td>\n",
       "      <td>471</td>\n",
       "      <td>rec.sport.hockey</td>\n",
       "      <td>455</td>\n",
       "      <td>0</td>\n",
       "      <td>0.0</td>\n",
       "      <td>96.60%</td>\n",
       "      <td>96.60%</td>\n",
       "    </tr>\n",
       "    <tr>\n",
       "      <th>4</th>\n",
       "      <td>4</td>\n",
       "      <td>716</td>\n",
       "      <td>talk.politics.misc</td>\n",
       "      <td>270</td>\n",
       "      <td>alt.atheism</td>\n",
       "      <td>150.0</td>\n",
       "      <td>37.71%</td>\n",
       "      <td>58.66%</td>\n",
       "    </tr>\n",
       "    <tr>\n",
       "      <th>5</th>\n",
       "      <td>5</td>\n",
       "      <td>511</td>\n",
       "      <td>rec.autos</td>\n",
       "      <td>420</td>\n",
       "      <td>comp.sys.mac.hardware</td>\n",
       "      <td>6.0</td>\n",
       "      <td>82.19%</td>\n",
       "      <td>83.37%</td>\n",
       "    </tr>\n",
       "    <tr>\n",
       "      <th>6</th>\n",
       "      <td>6</td>\n",
       "      <td>870</td>\n",
       "      <td>rec.motorcycles</td>\n",
       "      <td>100</td>\n",
       "      <td>alt.atheism</td>\n",
       "      <td>73.0</td>\n",
       "      <td>11.49%</td>\n",
       "      <td>19.89%</td>\n",
       "    </tr>\n",
       "    <tr>\n",
       "      <th>7</th>\n",
       "      <td>7</td>\n",
       "      <td>570</td>\n",
       "      <td>comp.os.ms-windows.misc</td>\n",
       "      <td>338</td>\n",
       "      <td>comp.sys.mac.hardware</td>\n",
       "      <td>46.0</td>\n",
       "      <td>59.30%</td>\n",
       "      <td>67.37%</td>\n",
       "    </tr>\n",
       "    <tr>\n",
       "      <th>8</th>\n",
       "      <td>8</td>\n",
       "      <td>435</td>\n",
       "      <td>talk.politics.mideast</td>\n",
       "      <td>372</td>\n",
       "      <td>alt.atheism</td>\n",
       "      <td>23.0</td>\n",
       "      <td>85.52%</td>\n",
       "      <td>90.80%</td>\n",
       "    </tr>\n",
       "    <tr>\n",
       "      <th>9</th>\n",
       "      <td>9</td>\n",
       "      <td>84</td>\n",
       "      <td>comp.os.ms-windows.misc</td>\n",
       "      <td>8</td>\n",
       "      <td>comp.sys.mac.hardware</td>\n",
       "      <td>8.0</td>\n",
       "      <td>9.52%</td>\n",
       "      <td>19.05%</td>\n",
       "    </tr>\n",
       "    <tr>\n",
       "      <th>10</th>\n",
       "      <td>10</td>\n",
       "      <td>527</td>\n",
       "      <td>talk.politics.guns</td>\n",
       "      <td>382</td>\n",
       "      <td>talk.religion.misc</td>\n",
       "      <td>35.0</td>\n",
       "      <td>72.49%</td>\n",
       "      <td>79.13%</td>\n",
       "    </tr>\n",
       "    <tr>\n",
       "      <th>11</th>\n",
       "      <td>11</td>\n",
       "      <td>554</td>\n",
       "      <td>comp.graphics</td>\n",
       "      <td>324</td>\n",
       "      <td>comp.sys.mac.hardware</td>\n",
       "      <td>17.0</td>\n",
       "      <td>58.48%</td>\n",
       "      <td>61.55%</td>\n",
       "    </tr>\n",
       "    <tr>\n",
       "      <th>12</th>\n",
       "      <td>12</td>\n",
       "      <td>372</td>\n",
       "      <td>rec.motorcycles</td>\n",
       "      <td>355</td>\n",
       "      <td>alt.atheism</td>\n",
       "      <td>1.0</td>\n",
       "      <td>95.43%</td>\n",
       "      <td>95.70%</td>\n",
       "    </tr>\n",
       "    <tr>\n",
       "      <th>13</th>\n",
       "      <td>13</td>\n",
       "      <td>840</td>\n",
       "      <td>soc.religion.christian</td>\n",
       "      <td>460</td>\n",
       "      <td>alt.atheism</td>\n",
       "      <td>188.0</td>\n",
       "      <td>54.76%</td>\n",
       "      <td>77.14%</td>\n",
       "    </tr>\n",
       "    <tr>\n",
       "      <th>14</th>\n",
       "      <td>14</td>\n",
       "      <td>468</td>\n",
       "      <td>rec.sport.baseball</td>\n",
       "      <td>451</td>\n",
       "      <td>0</td>\n",
       "      <td>0.0</td>\n",
       "      <td>96.37%</td>\n",
       "      <td>96.37%</td>\n",
       "    </tr>\n",
       "    <tr>\n",
       "      <th>15</th>\n",
       "      <td>15</td>\n",
       "      <td>538</td>\n",
       "      <td>misc.forsale</td>\n",
       "      <td>438</td>\n",
       "      <td>comp.sys.mac.hardware</td>\n",
       "      <td>27.0</td>\n",
       "      <td>81.41%</td>\n",
       "      <td>86.43%</td>\n",
       "    </tr>\n",
       "    <tr>\n",
       "      <th>16</th>\n",
       "      <td>16</td>\n",
       "      <td>363</td>\n",
       "      <td>sci.crypt</td>\n",
       "      <td>349</td>\n",
       "      <td>comp.sys.mac.hardware</td>\n",
       "      <td>1.0</td>\n",
       "      <td>96.14%</td>\n",
       "      <td>96.42%</td>\n",
       "    </tr>\n",
       "    <tr>\n",
       "      <th>17</th>\n",
       "      <td>17</td>\n",
       "      <td>479</td>\n",
       "      <td>sci.electronics</td>\n",
       "      <td>336</td>\n",
       "      <td>comp.sys.mac.hardware</td>\n",
       "      <td>28.0</td>\n",
       "      <td>70.15%</td>\n",
       "      <td>75.99%</td>\n",
       "    </tr>\n",
       "    <tr>\n",
       "      <th>18</th>\n",
       "      <td>18</td>\n",
       "      <td>425</td>\n",
       "      <td>sci.med</td>\n",
       "      <td>402</td>\n",
       "      <td>alt.atheism</td>\n",
       "      <td>1.0</td>\n",
       "      <td>94.59%</td>\n",
       "      <td>94.82%</td>\n",
       "    </tr>\n",
       "    <tr>\n",
       "      <th>19</th>\n",
       "      <td>19</td>\n",
       "      <td>532</td>\n",
       "      <td>sci.electronics</td>\n",
       "      <td>62</td>\n",
       "      <td>comp.sys.mac.hardware</td>\n",
       "      <td>23.0</td>\n",
       "      <td>11.65%</td>\n",
       "      <td>15.98%</td>\n",
       "    </tr>\n",
       "  </tbody>\n",
       "</table>\n",
       "</div>"
      ],
      "text/plain": [
       "    cluster  count                     rank1  rank1_count   \n",
       "0         0    432            comp.windows.x          406  \\\n",
       "1         1    418                 sci.space          388   \n",
       "2         2   1035  comp.sys.ibm.pc.hardware          396   \n",
       "3         3    471          rec.sport.hockey          455   \n",
       "4         4    716        talk.politics.misc          270   \n",
       "5         5    511                 rec.autos          420   \n",
       "6         6    870           rec.motorcycles          100   \n",
       "7         7    570   comp.os.ms-windows.misc          338   \n",
       "8         8    435     talk.politics.mideast          372   \n",
       "9         9     84   comp.os.ms-windows.misc            8   \n",
       "10       10    527        talk.politics.guns          382   \n",
       "11       11    554             comp.graphics          324   \n",
       "12       12    372           rec.motorcycles          355   \n",
       "13       13    840    soc.religion.christian          460   \n",
       "14       14    468        rec.sport.baseball          451   \n",
       "15       15    538              misc.forsale          438   \n",
       "16       16    363                 sci.crypt          349   \n",
       "17       17    479           sci.electronics          336   \n",
       "18       18    425                   sci.med          402   \n",
       "19       19    532           sci.electronics           62   \n",
       "\n",
       "                    rank2  rank2_count   per_1 per_1_2  \n",
       "0   comp.sys.mac.hardware          1.0  93.98%  94.21%  \n",
       "1             alt.atheism          2.0  92.82%  93.30%  \n",
       "2   comp.sys.mac.hardware        387.0  38.26%  75.65%  \n",
       "3                       0          0.0  96.60%  96.60%  \n",
       "4             alt.atheism        150.0  37.71%  58.66%  \n",
       "5   comp.sys.mac.hardware          6.0  82.19%  83.37%  \n",
       "6             alt.atheism         73.0  11.49%  19.89%  \n",
       "7   comp.sys.mac.hardware         46.0  59.30%  67.37%  \n",
       "8             alt.atheism         23.0  85.52%  90.80%  \n",
       "9   comp.sys.mac.hardware          8.0   9.52%  19.05%  \n",
       "10     talk.religion.misc         35.0  72.49%  79.13%  \n",
       "11  comp.sys.mac.hardware         17.0  58.48%  61.55%  \n",
       "12            alt.atheism          1.0  95.43%  95.70%  \n",
       "13            alt.atheism        188.0  54.76%  77.14%  \n",
       "14                      0          0.0  96.37%  96.37%  \n",
       "15  comp.sys.mac.hardware         27.0  81.41%  86.43%  \n",
       "16  comp.sys.mac.hardware          1.0  96.14%  96.42%  \n",
       "17  comp.sys.mac.hardware         28.0  70.15%  75.99%  \n",
       "18            alt.atheism          1.0  94.59%  94.82%  \n",
       "19  comp.sys.mac.hardware         23.0  11.65%  15.98%  "
      ]
     },
     "metadata": {},
     "output_type": "display_data"
    }
   ],
   "source": [
    "\n",
    "# 统计每个cluster的数量\n",
    "new_df = embedding_df.groupby('cluster')['cluster'].count().reset_index(name='count')\n",
    "\n",
    "# 统计这个cluster里最多的分类的数量\n",
    "title_count = embedding_df.groupby(['cluster', 'title']).size().reset_index(name='title_count')\n",
    "first_titles = title_count.groupby('cluster').apply(lambda x: x.nlargest(1, columns=['title_count']))\n",
    "first_titles = first_titles.reset_index(drop=True)\n",
    "new_df = pd.merge(new_df, first_titles[['cluster', 'title', 'title_count']], on='cluster', how='left')\n",
    "new_df = new_df.rename(columns={'title': 'rank1', 'title_count': 'rank1_count'})\n",
    "\n",
    "# 统计这个cluster里第二多的分类的数量\n",
    "second_titles = title_count[~title_count['title'].isin(first_titles['title'])]\n",
    "second_titles = second_titles.groupby('cluster').apply(lambda x: x.nlargest(1, columns=['title_count']))\n",
    "second_titles = second_titles.reset_index(drop=True)\n",
    "new_df = pd.merge(new_df, second_titles[['cluster', 'title', 'title_count']], on='cluster', how='left')\n",
    "new_df = new_df.rename(columns={'title': 'rank2', 'title_count': 'rank2_count'})\n",
    "new_df.fillna(0, inplace=True)\n",
    "new_df['per_1'] = (new_df['rank1_count'] / new_df['count']).map(lambda x: '{:.2%}'.format(x))\n",
    "new_df['per_1_2'] = ((new_df['rank1_count'] + new_df['rank2_count'])/ new_df['count']).map(lambda x: '{:.2%}'.format(x))\n",
    "\n",
    "# 将缺失值替换为 0\n",
    "# 输出结果\n",
    "display(new_df)"
   ]
  },
  {
   "cell_type": "code",
   "execution_count": 73,
   "metadata": {},
   "outputs": [
    {
     "name": "stdout",
     "output_type": "stream",
     "text": [
      "Cluster 0, Rank 1: comp.windows.x, Theme: Xlib编程\n",
      "Cluster 1, Rank 1: sci.space, Theme: 太空技术与航空\n",
      "Cluster 2, Rank 1: comp.sys.ibm.pc.hardware, Theme: 电脑硬件\n",
      "Cluster 3, Rank 1: rec.sport.hockey, Theme: 欧洲冰球vs北美冰球\n",
      "Cluster 4, Rank 1: talk.politics.misc, Theme: 社会观点与自由\n",
      "Cluster 5, Rank 1: rec.autos, Theme: 汽车硬件\n",
      "Cluster 6, Rank 1: rec.motorcycles, Theme: 数学与文化冲击\n",
      "Cluster 7, Rank 1: comp.os.ms-windows.misc, Theme: PC软件与硬件\n",
      "Cluster 8, Rank 1: talk.politics.mideast, Theme: “穆斯林大屠杀”\n",
      "Cluster 9, Rank 1: comp.os.ms-windows.misc, Theme: 科技产品\"\"\"\n",
      "Cluster 10, Rank 1: talk.politics.guns, Theme: 枪支管制与安全\n",
      "Cluster 11, Rank 1: comp.graphics, Theme: 计算机编程与硬件\n",
      "Cluster 12, Rank 1: rec.motorcycles, Theme: 安全骑行：驾驶课程与技巧\n",
      "Cluster 13, Rank 1: soc.religion.christian, Theme: 宗教信仰与实践\n",
      "Cluster 14, Rank 1: rec.sport.baseball, Theme: 棒球联盟\n",
      "Cluster 15, Rank 1: misc.forsale, Theme: 购物优惠和出售\n",
      "Cluster 16, Rank 1: sci.crypt, Theme: 关于加密政策的讨论\n",
      "Cluster 17, Rank 1: sci.electronics, Theme: 电子设备连接与维护\n",
      "Cluster 18, Rank 1: sci.med, Theme: 药物和疾病\n",
      "Cluster 19, Rank 1: sci.electronics, Theme: 电子邮件使用者研究\n"
     ]
    }
   ],
   "source": [
    "items_per_cluster = 10\n",
    "COMPLETIONS_MODEL = \"text-davinci-003\"\n",
    "\n",
    "for i in range(num_of_clusters):\n",
    "    cluster_name = new_df[new_df.cluster == i].iloc[0].rank1\n",
    "    print(f\"Cluster {i}, Rank 1: {cluster_name}, Theme:\", end=\" \")\n",
    "\n",
    "    content = \"\\n\".join(\n",
    "        embedding_df[embedding_df.cluster == i].text.sample(items_per_cluster, random_state=42).values\n",
    "    )\n",
    "    response = openai.Completion.create(\n",
    "        model=COMPLETIONS_MODEL,\n",
    "        prompt=f'''我们想要给下面的内容，分组成有意义的类别，以便我们可以对其进行总结。请根据下面这些内容的共同点，总结一个50个字以内的新闻组的名称么？比如 “PC硬件”\\n\\n内容:\\n\"\"\"\\n{content}\\n\"\"\"新闻组名称：''',\n",
    "        temperature=0,\n",
    "        max_tokens=100,\n",
    "        top_p=1,\n",
    "    )\n",
    "    print(response[\"choices\"][0][\"text\"].replace(\"\\n\", \"\")) # type: ignore\n"
   ]
  },
  {
   "cell_type": "code",
   "execution_count": 42,
   "metadata": {},
   "outputs": [
    {
     "name": "stdout",
     "output_type": "stream",
     "text": [
      "Cluster 0, Rank 1: comp.windows.x, 抽样翻译: 没有实际执行它？不知怎么回事，我的Xterminal用户之一使得只要点击MB3（右键）就会自动杀死所有客户端-哦，我的：-(谢谢，鱼许多支持图形加速器的X服务器不允许创建超过屏幕大小的像素图。一种解决方法是创建几个较小的像素图，然后将结果相加。\n",
      "Cluster 1, Rank 1: sci.space, 抽样翻译: 史蒂夫·马森和他的团队在阿拉巴马州发生了什么？我还听说有未经证实的传言称航空航天大使们已经消失了。有其他人可以证实吗？此外，由于来自太空的燃料更便宜，到达更多轨道的成本比从地面上要低。另外，请记住，修理/供应设施的存在增加了其周围空间的价值。如果你可以把你的卫星放在一个可以被供应源轻松达到的轨道上，你可以降低成本，并从规模经济中获益。艾伦\n",
      "Cluster 2, Rank 1: comp.sys.ibm.pc.hardware, 抽样翻译: 我怀疑这不是一个特定于Quadra的问题。去年我不得不抛弃我的“古老”Bernoulli 20（每个磁头以90美元左右的价格购买，使整个事情的价值超过我的整个电脑;）。Ocean Microsystems的技术支持人员建议，一些第三方驱动程序可能会解决这个问题-在我的情况下，磁头不能格式化/安装/分区A/UX。当开关模式电源出现故障时，有哪些典型的组件或组件组？该电源用于磁盘驱动器。欢迎任何一般提示！谢谢！Mark-Tarbell@suite.com\n",
      "Cluster 3, Rank 1: rec.sport.hockey, 抽样翻译: "
     ]
    },
    {
     "ename": "KeyboardInterrupt",
     "evalue": "",
     "output_type": "error",
     "traceback": [
      "\u001b[0;31m---------------------------------------------------------------------------\u001b[0m",
      "\u001b[0;31mKeyboardInterrupt\u001b[0m                         Traceback (most recent call last)",
      "\u001b[1;32m/Users/chenyanbin/codebase/ai/xuwenhao/mactalk-ai-course/week2.ipynb Cell 62\u001b[0m line \u001b[0;36m1\n\u001b[1;32m      <a href='vscode-notebook-cell:/Users/chenyanbin/codebase/ai/xuwenhao/mactalk-ai-course/week2.ipynb#Y114sZmlsZQ%3D%3D?line=5'>6</a>\u001b[0m \u001b[39mprint\u001b[39m(\u001b[39mf\u001b[39m\u001b[39m\"\u001b[39m\u001b[39mCluster \u001b[39m\u001b[39m{\u001b[39;00mi\u001b[39m}\u001b[39;00m\u001b[39m, Rank 1: \u001b[39m\u001b[39m{\u001b[39;00mcluster_name\u001b[39m}\u001b[39;00m\u001b[39m, 抽样翻译:\u001b[39m\u001b[39m\"\u001b[39m, end\u001b[39m=\u001b[39m\u001b[39m\"\u001b[39m\u001b[39m \u001b[39m\u001b[39m\"\u001b[39m)\n\u001b[1;32m      <a href='vscode-notebook-cell:/Users/chenyanbin/codebase/ai/xuwenhao/mactalk-ai-course/week2.ipynb#Y114sZmlsZQ%3D%3D?line=7'>8</a>\u001b[0m content \u001b[39m=\u001b[39m \u001b[39m\"\u001b[39m\u001b[39m\\n\u001b[39;00m\u001b[39m\"\u001b[39m\u001b[39m.\u001b[39mjoin(\n\u001b[1;32m      <a href='vscode-notebook-cell:/Users/chenyanbin/codebase/ai/xuwenhao/mactalk-ai-course/week2.ipynb#Y114sZmlsZQ%3D%3D?line=8'>9</a>\u001b[0m     embedding_df[(embedding_df\u001b[39m.\u001b[39mcluster \u001b[39m==\u001b[39m i) \u001b[39m&\u001b[39m (embedding_df\u001b[39m.\u001b[39mn_tokens \u001b[39m<\u001b[39m \u001b[39m100\u001b[39m)]\u001b[39m.\u001b[39mtext\u001b[39m.\u001b[39msample(items_per_cluster, random_state\u001b[39m=\u001b[39m\u001b[39m42\u001b[39m)\u001b[39m.\u001b[39mvalues\n\u001b[1;32m     <a href='vscode-notebook-cell:/Users/chenyanbin/codebase/ai/xuwenhao/mactalk-ai-course/week2.ipynb#Y114sZmlsZQ%3D%3D?line=9'>10</a>\u001b[0m )\n\u001b[0;32m---> <a href='vscode-notebook-cell:/Users/chenyanbin/codebase/ai/xuwenhao/mactalk-ai-course/week2.ipynb#Y114sZmlsZQ%3D%3D?line=10'>11</a>\u001b[0m response \u001b[39m=\u001b[39m openai\u001b[39m.\u001b[39;49mCompletion\u001b[39m.\u001b[39;49mcreate(\n\u001b[1;32m     <a href='vscode-notebook-cell:/Users/chenyanbin/codebase/ai/xuwenhao/mactalk-ai-course/week2.ipynb#Y114sZmlsZQ%3D%3D?line=11'>12</a>\u001b[0m     model\u001b[39m=\u001b[39;49mCOMPLETIONS_MODEL,\n\u001b[1;32m     <a href='vscode-notebook-cell:/Users/chenyanbin/codebase/ai/xuwenhao/mactalk-ai-course/week2.ipynb#Y114sZmlsZQ%3D%3D?line=12'>13</a>\u001b[0m     prompt\u001b[39m=\u001b[39;49m\u001b[39mf\u001b[39;49m\u001b[39m'''\u001b[39;49m\u001b[39m请把下面的内容翻译成中文\u001b[39;49m\u001b[39m\\n\u001b[39;49;00m\u001b[39m\\n\u001b[39;49;00m\u001b[39m内容:\u001b[39;49m\u001b[39m\\n\u001b[39;49;00m\u001b[39m\"\u001b[39;49m\u001b[39m\"\u001b[39;49m\u001b[39m\"\u001b[39;49m\u001b[39m\\n\u001b[39;49;00m\u001b[39m{\u001b[39;49;00mcontent\u001b[39m}\u001b[39;49;00m\u001b[39m\\n\u001b[39;49;00m\u001b[39m\"\u001b[39;49m\u001b[39m\"\u001b[39;49m\u001b[39m\"\u001b[39;49m\u001b[39m翻译：\u001b[39;49m\u001b[39m'''\u001b[39;49m,\n\u001b[1;32m     <a href='vscode-notebook-cell:/Users/chenyanbin/codebase/ai/xuwenhao/mactalk-ai-course/week2.ipynb#Y114sZmlsZQ%3D%3D?line=13'>14</a>\u001b[0m     temperature\u001b[39m=\u001b[39;49m\u001b[39m0\u001b[39;49m,\n\u001b[1;32m     <a href='vscode-notebook-cell:/Users/chenyanbin/codebase/ai/xuwenhao/mactalk-ai-course/week2.ipynb#Y114sZmlsZQ%3D%3D?line=14'>15</a>\u001b[0m     max_tokens\u001b[39m=\u001b[39;49m\u001b[39m500\u001b[39;49m,\n\u001b[1;32m     <a href='vscode-notebook-cell:/Users/chenyanbin/codebase/ai/xuwenhao/mactalk-ai-course/week2.ipynb#Y114sZmlsZQ%3D%3D?line=15'>16</a>\u001b[0m     top_p\u001b[39m=\u001b[39;49m\u001b[39m1\u001b[39;49m,\n\u001b[1;32m     <a href='vscode-notebook-cell:/Users/chenyanbin/codebase/ai/xuwenhao/mactalk-ai-course/week2.ipynb#Y114sZmlsZQ%3D%3D?line=16'>17</a>\u001b[0m )\n\u001b[1;32m     <a href='vscode-notebook-cell:/Users/chenyanbin/codebase/ai/xuwenhao/mactalk-ai-course/week2.ipynb#Y114sZmlsZQ%3D%3D?line=17'>18</a>\u001b[0m \u001b[39mprint\u001b[39m(response[\u001b[39m\"\u001b[39m\u001b[39mchoices\u001b[39m\u001b[39m\"\u001b[39m][\u001b[39m0\u001b[39m][\u001b[39m\"\u001b[39m\u001b[39mtext\u001b[39m\u001b[39m\"\u001b[39m]\u001b[39m.\u001b[39mreplace(\u001b[39m\"\u001b[39m\u001b[39m\\n\u001b[39;00m\u001b[39m\"\u001b[39m, \u001b[39m\"\u001b[39m\u001b[39m\"\u001b[39m)) \u001b[39m# type: ignore\u001b[39;00m\n",
      "File \u001b[0;32m~/opt/anaconda3/envs/mactalk/lib/python3.10/site-packages/openai/api_resources/completion.py:25\u001b[0m, in \u001b[0;36mCompletion.create\u001b[0;34m(cls, *args, **kwargs)\u001b[0m\n\u001b[1;32m     23\u001b[0m \u001b[39mwhile\u001b[39;00m \u001b[39mTrue\u001b[39;00m:\n\u001b[1;32m     24\u001b[0m     \u001b[39mtry\u001b[39;00m:\n\u001b[0;32m---> 25\u001b[0m         \u001b[39mreturn\u001b[39;00m \u001b[39msuper\u001b[39;49m()\u001b[39m.\u001b[39;49mcreate(\u001b[39m*\u001b[39;49margs, \u001b[39m*\u001b[39;49m\u001b[39m*\u001b[39;49mkwargs)\n\u001b[1;32m     26\u001b[0m     \u001b[39mexcept\u001b[39;00m TryAgain \u001b[39mas\u001b[39;00m e:\n\u001b[1;32m     27\u001b[0m         \u001b[39mif\u001b[39;00m timeout \u001b[39mis\u001b[39;00m \u001b[39mnot\u001b[39;00m \u001b[39mNone\u001b[39;00m \u001b[39mand\u001b[39;00m time\u001b[39m.\u001b[39mtime() \u001b[39m>\u001b[39m start \u001b[39m+\u001b[39m timeout:\n",
      "File \u001b[0;32m~/opt/anaconda3/envs/mactalk/lib/python3.10/site-packages/openai/api_resources/abstract/engine_api_resource.py:153\u001b[0m, in \u001b[0;36mEngineAPIResource.create\u001b[0;34m(cls, api_key, api_base, api_type, request_id, api_version, organization, **params)\u001b[0m\n\u001b[1;32m    127\u001b[0m \u001b[39m@classmethod\u001b[39m\n\u001b[1;32m    128\u001b[0m \u001b[39mdef\u001b[39;00m \u001b[39mcreate\u001b[39m(\n\u001b[1;32m    129\u001b[0m     \u001b[39mcls\u001b[39m,\n\u001b[0;32m   (...)\u001b[0m\n\u001b[1;32m    136\u001b[0m     \u001b[39m*\u001b[39m\u001b[39m*\u001b[39mparams,\n\u001b[1;32m    137\u001b[0m ):\n\u001b[1;32m    138\u001b[0m     (\n\u001b[1;32m    139\u001b[0m         deployment_id,\n\u001b[1;32m    140\u001b[0m         engine,\n\u001b[0;32m   (...)\u001b[0m\n\u001b[1;32m    150\u001b[0m         api_key, api_base, api_type, api_version, organization, \u001b[39m*\u001b[39m\u001b[39m*\u001b[39mparams\n\u001b[1;32m    151\u001b[0m     )\n\u001b[0;32m--> 153\u001b[0m     response, _, api_key \u001b[39m=\u001b[39m requestor\u001b[39m.\u001b[39;49mrequest(\n\u001b[1;32m    154\u001b[0m         \u001b[39m\"\u001b[39;49m\u001b[39mpost\u001b[39;49m\u001b[39m\"\u001b[39;49m,\n\u001b[1;32m    155\u001b[0m         url,\n\u001b[1;32m    156\u001b[0m         params\u001b[39m=\u001b[39;49mparams,\n\u001b[1;32m    157\u001b[0m         headers\u001b[39m=\u001b[39;49mheaders,\n\u001b[1;32m    158\u001b[0m         stream\u001b[39m=\u001b[39;49mstream,\n\u001b[1;32m    159\u001b[0m         request_id\u001b[39m=\u001b[39;49mrequest_id,\n\u001b[1;32m    160\u001b[0m         request_timeout\u001b[39m=\u001b[39;49mrequest_timeout,\n\u001b[1;32m    161\u001b[0m     )\n\u001b[1;32m    163\u001b[0m     \u001b[39mif\u001b[39;00m stream:\n\u001b[1;32m    164\u001b[0m         \u001b[39m# must be an iterator\u001b[39;00m\n\u001b[1;32m    165\u001b[0m         \u001b[39massert\u001b[39;00m \u001b[39mnot\u001b[39;00m \u001b[39misinstance\u001b[39m(response, OpenAIResponse)\n",
      "File \u001b[0;32m~/opt/anaconda3/envs/mactalk/lib/python3.10/site-packages/openai/api_requestor.py:220\u001b[0m, in \u001b[0;36mAPIRequestor.request\u001b[0;34m(self, method, url, params, headers, files, stream, request_id, request_timeout)\u001b[0m\n\u001b[1;32m    209\u001b[0m \u001b[39mdef\u001b[39;00m \u001b[39mrequest\u001b[39m(\n\u001b[1;32m    210\u001b[0m     \u001b[39mself\u001b[39m,\n\u001b[1;32m    211\u001b[0m     method,\n\u001b[0;32m   (...)\u001b[0m\n\u001b[1;32m    218\u001b[0m     request_timeout: Optional[Union[\u001b[39mfloat\u001b[39m, Tuple[\u001b[39mfloat\u001b[39m, \u001b[39mfloat\u001b[39m]]] \u001b[39m=\u001b[39m \u001b[39mNone\u001b[39;00m,\n\u001b[1;32m    219\u001b[0m ) \u001b[39m-\u001b[39m\u001b[39m>\u001b[39m Tuple[Union[OpenAIResponse, Iterator[OpenAIResponse]], \u001b[39mbool\u001b[39m, \u001b[39mstr\u001b[39m]:\n\u001b[0;32m--> 220\u001b[0m     result \u001b[39m=\u001b[39m \u001b[39mself\u001b[39;49m\u001b[39m.\u001b[39;49mrequest_raw(\n\u001b[1;32m    221\u001b[0m         method\u001b[39m.\u001b[39;49mlower(),\n\u001b[1;32m    222\u001b[0m         url,\n\u001b[1;32m    223\u001b[0m         params\u001b[39m=\u001b[39;49mparams,\n\u001b[1;32m    224\u001b[0m         supplied_headers\u001b[39m=\u001b[39;49mheaders,\n\u001b[1;32m    225\u001b[0m         files\u001b[39m=\u001b[39;49mfiles,\n\u001b[1;32m    226\u001b[0m         stream\u001b[39m=\u001b[39;49mstream,\n\u001b[1;32m    227\u001b[0m         request_id\u001b[39m=\u001b[39;49mrequest_id,\n\u001b[1;32m    228\u001b[0m         request_timeout\u001b[39m=\u001b[39;49mrequest_timeout,\n\u001b[1;32m    229\u001b[0m     )\n\u001b[1;32m    230\u001b[0m     resp, got_stream \u001b[39m=\u001b[39m \u001b[39mself\u001b[39m\u001b[39m.\u001b[39m_interpret_response(result, stream)\n\u001b[1;32m    231\u001b[0m     \u001b[39mreturn\u001b[39;00m resp, got_stream, \u001b[39mself\u001b[39m\u001b[39m.\u001b[39mapi_key\n",
      "File \u001b[0;32m~/opt/anaconda3/envs/mactalk/lib/python3.10/site-packages/openai/api_requestor.py:520\u001b[0m, in \u001b[0;36mAPIRequestor.request_raw\u001b[0;34m(self, method, url, params, supplied_headers, files, stream, request_id, request_timeout)\u001b[0m\n\u001b[1;32m    518\u001b[0m     _thread_context\u001b[39m.\u001b[39msession \u001b[39m=\u001b[39m _make_session()\n\u001b[1;32m    519\u001b[0m \u001b[39mtry\u001b[39;00m:\n\u001b[0;32m--> 520\u001b[0m     result \u001b[39m=\u001b[39m _thread_context\u001b[39m.\u001b[39;49msession\u001b[39m.\u001b[39;49mrequest(\n\u001b[1;32m    521\u001b[0m         method,\n\u001b[1;32m    522\u001b[0m         abs_url,\n\u001b[1;32m    523\u001b[0m         headers\u001b[39m=\u001b[39;49mheaders,\n\u001b[1;32m    524\u001b[0m         data\u001b[39m=\u001b[39;49mdata,\n\u001b[1;32m    525\u001b[0m         files\u001b[39m=\u001b[39;49mfiles,\n\u001b[1;32m    526\u001b[0m         stream\u001b[39m=\u001b[39;49mstream,\n\u001b[1;32m    527\u001b[0m         timeout\u001b[39m=\u001b[39;49mrequest_timeout \u001b[39mif\u001b[39;49;00m request_timeout \u001b[39melse\u001b[39;49;00m TIMEOUT_SECS,\n\u001b[1;32m    528\u001b[0m         proxies\u001b[39m=\u001b[39;49m_thread_context\u001b[39m.\u001b[39;49msession\u001b[39m.\u001b[39;49mproxies,\n\u001b[1;32m    529\u001b[0m     )\n\u001b[1;32m    530\u001b[0m \u001b[39mexcept\u001b[39;00m requests\u001b[39m.\u001b[39mexceptions\u001b[39m.\u001b[39mTimeout \u001b[39mas\u001b[39;00m e:\n\u001b[1;32m    531\u001b[0m     \u001b[39mraise\u001b[39;00m error\u001b[39m.\u001b[39mTimeout(\u001b[39m\"\u001b[39m\u001b[39mRequest timed out: \u001b[39m\u001b[39m{}\u001b[39;00m\u001b[39m\"\u001b[39m\u001b[39m.\u001b[39mformat(e)) \u001b[39mfrom\u001b[39;00m \u001b[39me\u001b[39;00m\n",
      "File \u001b[0;32m~/opt/anaconda3/envs/mactalk/lib/python3.10/site-packages/requests/sessions.py:589\u001b[0m, in \u001b[0;36mSession.request\u001b[0;34m(self, method, url, params, data, headers, cookies, files, auth, timeout, allow_redirects, proxies, hooks, stream, verify, cert, json)\u001b[0m\n\u001b[1;32m    584\u001b[0m send_kwargs \u001b[39m=\u001b[39m {\n\u001b[1;32m    585\u001b[0m     \u001b[39m\"\u001b[39m\u001b[39mtimeout\u001b[39m\u001b[39m\"\u001b[39m: timeout,\n\u001b[1;32m    586\u001b[0m     \u001b[39m\"\u001b[39m\u001b[39mallow_redirects\u001b[39m\u001b[39m\"\u001b[39m: allow_redirects,\n\u001b[1;32m    587\u001b[0m }\n\u001b[1;32m    588\u001b[0m send_kwargs\u001b[39m.\u001b[39mupdate(settings)\n\u001b[0;32m--> 589\u001b[0m resp \u001b[39m=\u001b[39m \u001b[39mself\u001b[39;49m\u001b[39m.\u001b[39;49msend(prep, \u001b[39m*\u001b[39;49m\u001b[39m*\u001b[39;49msend_kwargs)\n\u001b[1;32m    591\u001b[0m \u001b[39mreturn\u001b[39;00m resp\n",
      "File \u001b[0;32m~/opt/anaconda3/envs/mactalk/lib/python3.10/site-packages/requests/sessions.py:703\u001b[0m, in \u001b[0;36mSession.send\u001b[0;34m(self, request, **kwargs)\u001b[0m\n\u001b[1;32m    700\u001b[0m start \u001b[39m=\u001b[39m preferred_clock()\n\u001b[1;32m    702\u001b[0m \u001b[39m# Send the request\u001b[39;00m\n\u001b[0;32m--> 703\u001b[0m r \u001b[39m=\u001b[39m adapter\u001b[39m.\u001b[39;49msend(request, \u001b[39m*\u001b[39;49m\u001b[39m*\u001b[39;49mkwargs)\n\u001b[1;32m    705\u001b[0m \u001b[39m# Total elapsed time of the request (approximately)\u001b[39;00m\n\u001b[1;32m    706\u001b[0m elapsed \u001b[39m=\u001b[39m preferred_clock() \u001b[39m-\u001b[39m start\n",
      "File \u001b[0;32m~/opt/anaconda3/envs/mactalk/lib/python3.10/site-packages/requests/adapters.py:486\u001b[0m, in \u001b[0;36mHTTPAdapter.send\u001b[0;34m(self, request, stream, timeout, verify, cert, proxies)\u001b[0m\n\u001b[1;32m    483\u001b[0m     timeout \u001b[39m=\u001b[39m TimeoutSauce(connect\u001b[39m=\u001b[39mtimeout, read\u001b[39m=\u001b[39mtimeout)\n\u001b[1;32m    485\u001b[0m \u001b[39mtry\u001b[39;00m:\n\u001b[0;32m--> 486\u001b[0m     resp \u001b[39m=\u001b[39m conn\u001b[39m.\u001b[39;49murlopen(\n\u001b[1;32m    487\u001b[0m         method\u001b[39m=\u001b[39;49mrequest\u001b[39m.\u001b[39;49mmethod,\n\u001b[1;32m    488\u001b[0m         url\u001b[39m=\u001b[39;49murl,\n\u001b[1;32m    489\u001b[0m         body\u001b[39m=\u001b[39;49mrequest\u001b[39m.\u001b[39;49mbody,\n\u001b[1;32m    490\u001b[0m         headers\u001b[39m=\u001b[39;49mrequest\u001b[39m.\u001b[39;49mheaders,\n\u001b[1;32m    491\u001b[0m         redirect\u001b[39m=\u001b[39;49m\u001b[39mFalse\u001b[39;49;00m,\n\u001b[1;32m    492\u001b[0m         assert_same_host\u001b[39m=\u001b[39;49m\u001b[39mFalse\u001b[39;49;00m,\n\u001b[1;32m    493\u001b[0m         preload_content\u001b[39m=\u001b[39;49m\u001b[39mFalse\u001b[39;49;00m,\n\u001b[1;32m    494\u001b[0m         decode_content\u001b[39m=\u001b[39;49m\u001b[39mFalse\u001b[39;49;00m,\n\u001b[1;32m    495\u001b[0m         retries\u001b[39m=\u001b[39;49m\u001b[39mself\u001b[39;49m\u001b[39m.\u001b[39;49mmax_retries,\n\u001b[1;32m    496\u001b[0m         timeout\u001b[39m=\u001b[39;49mtimeout,\n\u001b[1;32m    497\u001b[0m         chunked\u001b[39m=\u001b[39;49mchunked,\n\u001b[1;32m    498\u001b[0m     )\n\u001b[1;32m    500\u001b[0m \u001b[39mexcept\u001b[39;00m (ProtocolError, \u001b[39mOSError\u001b[39;00m) \u001b[39mas\u001b[39;00m err:\n\u001b[1;32m    501\u001b[0m     \u001b[39mraise\u001b[39;00m \u001b[39mConnectionError\u001b[39;00m(err, request\u001b[39m=\u001b[39mrequest)\n",
      "File \u001b[0;32m~/opt/anaconda3/envs/mactalk/lib/python3.10/site-packages/urllib3/connectionpool.py:714\u001b[0m, in \u001b[0;36mHTTPConnectionPool.urlopen\u001b[0;34m(self, method, url, body, headers, retries, redirect, assert_same_host, timeout, pool_timeout, release_conn, chunked, body_pos, **response_kw)\u001b[0m\n\u001b[1;32m    711\u001b[0m     \u001b[39mself\u001b[39m\u001b[39m.\u001b[39m_prepare_proxy(conn)\n\u001b[1;32m    713\u001b[0m \u001b[39m# Make the request on the httplib connection object.\u001b[39;00m\n\u001b[0;32m--> 714\u001b[0m httplib_response \u001b[39m=\u001b[39m \u001b[39mself\u001b[39;49m\u001b[39m.\u001b[39;49m_make_request(\n\u001b[1;32m    715\u001b[0m     conn,\n\u001b[1;32m    716\u001b[0m     method,\n\u001b[1;32m    717\u001b[0m     url,\n\u001b[1;32m    718\u001b[0m     timeout\u001b[39m=\u001b[39;49mtimeout_obj,\n\u001b[1;32m    719\u001b[0m     body\u001b[39m=\u001b[39;49mbody,\n\u001b[1;32m    720\u001b[0m     headers\u001b[39m=\u001b[39;49mheaders,\n\u001b[1;32m    721\u001b[0m     chunked\u001b[39m=\u001b[39;49mchunked,\n\u001b[1;32m    722\u001b[0m )\n\u001b[1;32m    724\u001b[0m \u001b[39m# If we're going to release the connection in ``finally:``, then\u001b[39;00m\n\u001b[1;32m    725\u001b[0m \u001b[39m# the response doesn't need to know about the connection. Otherwise\u001b[39;00m\n\u001b[1;32m    726\u001b[0m \u001b[39m# it will also try to release it and we'll have a double-release\u001b[39;00m\n\u001b[1;32m    727\u001b[0m \u001b[39m# mess.\u001b[39;00m\n\u001b[1;32m    728\u001b[0m response_conn \u001b[39m=\u001b[39m conn \u001b[39mif\u001b[39;00m \u001b[39mnot\u001b[39;00m release_conn \u001b[39melse\u001b[39;00m \u001b[39mNone\u001b[39;00m\n",
      "File \u001b[0;32m~/opt/anaconda3/envs/mactalk/lib/python3.10/site-packages/urllib3/connectionpool.py:466\u001b[0m, in \u001b[0;36mHTTPConnectionPool._make_request\u001b[0;34m(self, conn, method, url, timeout, chunked, **httplib_request_kw)\u001b[0m\n\u001b[1;32m    461\u001b[0m             httplib_response \u001b[39m=\u001b[39m conn\u001b[39m.\u001b[39mgetresponse()\n\u001b[1;32m    462\u001b[0m         \u001b[39mexcept\u001b[39;00m \u001b[39mBaseException\u001b[39;00m \u001b[39mas\u001b[39;00m e:\n\u001b[1;32m    463\u001b[0m             \u001b[39m# Remove the TypeError from the exception chain in\u001b[39;00m\n\u001b[1;32m    464\u001b[0m             \u001b[39m# Python 3 (including for exceptions like SystemExit).\u001b[39;00m\n\u001b[1;32m    465\u001b[0m             \u001b[39m# Otherwise it looks like a bug in the code.\u001b[39;00m\n\u001b[0;32m--> 466\u001b[0m             six\u001b[39m.\u001b[39;49mraise_from(e, \u001b[39mNone\u001b[39;49;00m)\n\u001b[1;32m    467\u001b[0m \u001b[39mexcept\u001b[39;00m (SocketTimeout, BaseSSLError, SocketError) \u001b[39mas\u001b[39;00m e:\n\u001b[1;32m    468\u001b[0m     \u001b[39mself\u001b[39m\u001b[39m.\u001b[39m_raise_timeout(err\u001b[39m=\u001b[39me, url\u001b[39m=\u001b[39murl, timeout_value\u001b[39m=\u001b[39mread_timeout)\n",
      "File \u001b[0;32m<string>:3\u001b[0m, in \u001b[0;36mraise_from\u001b[0;34m(value, from_value)\u001b[0m\n",
      "File \u001b[0;32m~/opt/anaconda3/envs/mactalk/lib/python3.10/site-packages/urllib3/connectionpool.py:461\u001b[0m, in \u001b[0;36mHTTPConnectionPool._make_request\u001b[0;34m(self, conn, method, url, timeout, chunked, **httplib_request_kw)\u001b[0m\n\u001b[1;32m    458\u001b[0m \u001b[39mexcept\u001b[39;00m \u001b[39mTypeError\u001b[39;00m:\n\u001b[1;32m    459\u001b[0m     \u001b[39m# Python 3\u001b[39;00m\n\u001b[1;32m    460\u001b[0m     \u001b[39mtry\u001b[39;00m:\n\u001b[0;32m--> 461\u001b[0m         httplib_response \u001b[39m=\u001b[39m conn\u001b[39m.\u001b[39;49mgetresponse()\n\u001b[1;32m    462\u001b[0m     \u001b[39mexcept\u001b[39;00m \u001b[39mBaseException\u001b[39;00m \u001b[39mas\u001b[39;00m e:\n\u001b[1;32m    463\u001b[0m         \u001b[39m# Remove the TypeError from the exception chain in\u001b[39;00m\n\u001b[1;32m    464\u001b[0m         \u001b[39m# Python 3 (including for exceptions like SystemExit).\u001b[39;00m\n\u001b[1;32m    465\u001b[0m         \u001b[39m# Otherwise it looks like a bug in the code.\u001b[39;00m\n\u001b[1;32m    466\u001b[0m         six\u001b[39m.\u001b[39mraise_from(e, \u001b[39mNone\u001b[39;00m)\n",
      "File \u001b[0;32m~/opt/anaconda3/envs/mactalk/lib/python3.10/http/client.py:1375\u001b[0m, in \u001b[0;36mHTTPConnection.getresponse\u001b[0;34m(self)\u001b[0m\n\u001b[1;32m   1373\u001b[0m \u001b[39mtry\u001b[39;00m:\n\u001b[1;32m   1374\u001b[0m     \u001b[39mtry\u001b[39;00m:\n\u001b[0;32m-> 1375\u001b[0m         response\u001b[39m.\u001b[39;49mbegin()\n\u001b[1;32m   1376\u001b[0m     \u001b[39mexcept\u001b[39;00m \u001b[39mConnectionError\u001b[39;00m:\n\u001b[1;32m   1377\u001b[0m         \u001b[39mself\u001b[39m\u001b[39m.\u001b[39mclose()\n",
      "File \u001b[0;32m~/opt/anaconda3/envs/mactalk/lib/python3.10/http/client.py:318\u001b[0m, in \u001b[0;36mHTTPResponse.begin\u001b[0;34m(self)\u001b[0m\n\u001b[1;32m    316\u001b[0m \u001b[39m# read until we get a non-100 response\u001b[39;00m\n\u001b[1;32m    317\u001b[0m \u001b[39mwhile\u001b[39;00m \u001b[39mTrue\u001b[39;00m:\n\u001b[0;32m--> 318\u001b[0m     version, status, reason \u001b[39m=\u001b[39m \u001b[39mself\u001b[39;49m\u001b[39m.\u001b[39;49m_read_status()\n\u001b[1;32m    319\u001b[0m     \u001b[39mif\u001b[39;00m status \u001b[39m!=\u001b[39m CONTINUE:\n\u001b[1;32m    320\u001b[0m         \u001b[39mbreak\u001b[39;00m\n",
      "File \u001b[0;32m~/opt/anaconda3/envs/mactalk/lib/python3.10/http/client.py:279\u001b[0m, in \u001b[0;36mHTTPResponse._read_status\u001b[0;34m(self)\u001b[0m\n\u001b[1;32m    278\u001b[0m \u001b[39mdef\u001b[39;00m \u001b[39m_read_status\u001b[39m(\u001b[39mself\u001b[39m):\n\u001b[0;32m--> 279\u001b[0m     line \u001b[39m=\u001b[39m \u001b[39mstr\u001b[39m(\u001b[39mself\u001b[39;49m\u001b[39m.\u001b[39;49mfp\u001b[39m.\u001b[39;49mreadline(_MAXLINE \u001b[39m+\u001b[39;49m \u001b[39m1\u001b[39;49m), \u001b[39m\"\u001b[39m\u001b[39miso-8859-1\u001b[39m\u001b[39m\"\u001b[39m)\n\u001b[1;32m    280\u001b[0m     \u001b[39mif\u001b[39;00m \u001b[39mlen\u001b[39m(line) \u001b[39m>\u001b[39m _MAXLINE:\n\u001b[1;32m    281\u001b[0m         \u001b[39mraise\u001b[39;00m LineTooLong(\u001b[39m\"\u001b[39m\u001b[39mstatus line\u001b[39m\u001b[39m\"\u001b[39m)\n",
      "File \u001b[0;32m~/opt/anaconda3/envs/mactalk/lib/python3.10/socket.py:705\u001b[0m, in \u001b[0;36mSocketIO.readinto\u001b[0;34m(self, b)\u001b[0m\n\u001b[1;32m    703\u001b[0m \u001b[39mwhile\u001b[39;00m \u001b[39mTrue\u001b[39;00m:\n\u001b[1;32m    704\u001b[0m     \u001b[39mtry\u001b[39;00m:\n\u001b[0;32m--> 705\u001b[0m         \u001b[39mreturn\u001b[39;00m \u001b[39mself\u001b[39;49m\u001b[39m.\u001b[39;49m_sock\u001b[39m.\u001b[39;49mrecv_into(b)\n\u001b[1;32m    706\u001b[0m     \u001b[39mexcept\u001b[39;00m timeout:\n\u001b[1;32m    707\u001b[0m         \u001b[39mself\u001b[39m\u001b[39m.\u001b[39m_timeout_occurred \u001b[39m=\u001b[39m \u001b[39mTrue\u001b[39;00m\n",
      "File \u001b[0;32m~/opt/anaconda3/envs/mactalk/lib/python3.10/ssl.py:1274\u001b[0m, in \u001b[0;36mSSLSocket.recv_into\u001b[0;34m(self, buffer, nbytes, flags)\u001b[0m\n\u001b[1;32m   1270\u001b[0m     \u001b[39mif\u001b[39;00m flags \u001b[39m!=\u001b[39m \u001b[39m0\u001b[39m:\n\u001b[1;32m   1271\u001b[0m         \u001b[39mraise\u001b[39;00m \u001b[39mValueError\u001b[39;00m(\n\u001b[1;32m   1272\u001b[0m           \u001b[39m\"\u001b[39m\u001b[39mnon-zero flags not allowed in calls to recv_into() on \u001b[39m\u001b[39m%s\u001b[39;00m\u001b[39m\"\u001b[39m \u001b[39m%\u001b[39m\n\u001b[1;32m   1273\u001b[0m           \u001b[39mself\u001b[39m\u001b[39m.\u001b[39m\u001b[39m__class__\u001b[39m)\n\u001b[0;32m-> 1274\u001b[0m     \u001b[39mreturn\u001b[39;00m \u001b[39mself\u001b[39;49m\u001b[39m.\u001b[39;49mread(nbytes, buffer)\n\u001b[1;32m   1275\u001b[0m \u001b[39melse\u001b[39;00m:\n\u001b[1;32m   1276\u001b[0m     \u001b[39mreturn\u001b[39;00m \u001b[39msuper\u001b[39m()\u001b[39m.\u001b[39mrecv_into(buffer, nbytes, flags)\n",
      "File \u001b[0;32m~/opt/anaconda3/envs/mactalk/lib/python3.10/ssl.py:1130\u001b[0m, in \u001b[0;36mSSLSocket.read\u001b[0;34m(self, len, buffer)\u001b[0m\n\u001b[1;32m   1128\u001b[0m \u001b[39mtry\u001b[39;00m:\n\u001b[1;32m   1129\u001b[0m     \u001b[39mif\u001b[39;00m buffer \u001b[39mis\u001b[39;00m \u001b[39mnot\u001b[39;00m \u001b[39mNone\u001b[39;00m:\n\u001b[0;32m-> 1130\u001b[0m         \u001b[39mreturn\u001b[39;00m \u001b[39mself\u001b[39;49m\u001b[39m.\u001b[39;49m_sslobj\u001b[39m.\u001b[39;49mread(\u001b[39mlen\u001b[39;49m, buffer)\n\u001b[1;32m   1131\u001b[0m     \u001b[39melse\u001b[39;00m:\n\u001b[1;32m   1132\u001b[0m         \u001b[39mreturn\u001b[39;00m \u001b[39mself\u001b[39m\u001b[39m.\u001b[39m_sslobj\u001b[39m.\u001b[39mread(\u001b[39mlen\u001b[39m)\n",
      "\u001b[0;31mKeyboardInterrupt\u001b[0m: "
     ]
    }
   ],
   "source": [
    "items_per_cluster = 2\n",
    "COMPLETIONS_MODEL = \"text-davinci-003\"\n",
    "\n",
    "for i in range(num_of_clusters):\n",
    "    cluster_name = new_df[new_df.cluster == i].iloc[0].rank1\n",
    "    print(f\"Cluster {i}, Rank 1: {cluster_name}, 抽样翻译:\", end=\" \")\n",
    "\n",
    "    content = \"\\n\".join(\n",
    "        embedding_df[(embedding_df.cluster == i) & (embedding_df.n_tokens < 100)].text.sample(items_per_cluster, random_state=42).values\n",
    "    )\n",
    "    response = openai.Completion.create(\n",
    "        model=COMPLETIONS_MODEL,\n",
    "        prompt=f'''请把下面的内容翻译成中文\\n\\n内容:\\n\"\"\"\\n{content}\\n\"\"\"翻译：''',\n",
    "        temperature=0,\n",
    "        max_tokens=500,\n",
    "        top_p=1,\n",
    "    )\n",
    "    print(response[\"choices\"][0][\"text\"].replace(\"\\n\", \"\")) # type: ignore"
   ]
  },
  {
   "cell_type": "markdown",
   "metadata": {},
   "source": [
    "### 减少聚类的数量，来进行可视化"
   ]
  },
  {
   "cell_type": "code",
   "execution_count": 54,
   "metadata": {},
   "outputs": [
    {
     "name": "stdout",
     "output_type": "stream",
     "text": [
      "['rec.autos' 'comp.sys.mac.hardware' 'comp.graphics' 'sci.space'\n",
      " 'talk.politics.guns' 'sci.med' 'comp.sys.ibm.pc.hardware'\n",
      " 'comp.os.ms-windows.misc' 'rec.motorcycles' 'talk.religion.misc'\n",
      " 'misc.forsale' 'alt.atheism' 'sci.electronics' 'comp.windows.x'\n",
      " 'rec.sport.hockey' 'rec.sport.baseball' 'soc.religion.christian'\n",
      " 'talk.politics.mideast' 'talk.politics.misc' 'sci.crypt']\n"
     ]
    }
   ],
   "source": [
    "import numpy as np\n",
    "from sklearn.cluster import KMeans\n",
    "\n",
    "embedding_df = pd.read_parquet(\"/Users/chenyanbin/codebase/ai/AI-Learning/AI大模型之美/20_newsgroup_with_embedding.parquet\")\n",
    "\n",
    "print(embedding_df.title.unique())"
   ]
  },
  {
   "cell_type": "code",
   "execution_count": 55,
   "metadata": {},
   "outputs": [],
   "source": [
    "\n",
    "embedding_df = embedding_df[\n",
    "    (embedding_df.title == \"talk.religion.misc\") |\n",
    "    (embedding_df.title == \"sci.med\") |\n",
    "    (embedding_df.title == \"comp.os.ms-windows.misc\") |\n",
    "    (embedding_df.title == \"rec.sport.baseball\")\n",
    "]\n",
    "matrix = np.vstack(embedding_df.embedding.values) # type: ignore\n",
    "num_of_clusters = 4\n",
    "\n",
    "kmeans = KMeans(n_clusters=num_of_clusters, init=\"k-means++\", n_init=10, random_state=42)\n",
    "kmeans.fit(matrix)\n",
    "labels = kmeans.labels_\n",
    "embedding_df[\"cluster\"] = labels"
   ]
  },
  {
   "cell_type": "code",
   "execution_count": 56,
   "metadata": {},
   "outputs": [
    {
     "data": {
      "text/plain": [
       "Text(0.5, 1.0, 'Clusters identified visualized in language 2d using t-SNE')"
      ]
     },
     "execution_count": 56,
     "metadata": {},
     "output_type": "execute_result"
    },
    {
     "data": {
      "image/png": "[encoded data removed]",
      "text/plain": [
       "<Figure size 640x480 with 1 Axes>"
      ]
     },
     "metadata": {},
     "output_type": "display_data"
    }
   ],
   "source": [
    "from sklearn.manifold import TSNE\n",
    "import matplotlib\n",
    "import matplotlib.pyplot as plt\n",
    "\n",
    "tsne = TSNE(n_components=2, perplexity=15, random_state=42, init=\"random\", learning_rate=200)\n",
    "vis_dims2 = tsne.fit_transform(matrix)\n",
    "\n",
    "x = [x for x, y in vis_dims2]\n",
    "y = [y for x, y in vis_dims2]\n",
    "\n",
    "for category, color in zip([\"talk.religion.misc\", \"sci.med\", \"comp.os.ms-windows.misc\", \"rec.sport.baseball\"], [\"purple\", \"green\", \"red\", \"blue\"]):\n",
    "    xs = np.array(x)[embedding_df.title == category]\n",
    "    ys = np.array(y)[embedding_df.title == category]\n",
    "    plt.scatter(xs, ys, color=color, alpha=0.3)\n",
    "\n",
    "    avg_x = xs.mean()\n",
    "    avg_y = ys.mean()\n",
    "\n",
    "    plt.scatter(avg_x, avg_y, marker=\"x\", color=color, s=100) # type: ignore\n",
    "plt.title(\"Clusters identified visualized in language 2d using t-SNE\")"
   ]
  },
  {
   "cell_type": "markdown",
   "metadata": {},
   "source": [
    "## 多轮聊天对话"
   ]
  },
  {
   "cell_type": "markdown",
   "metadata": {},
   "source": [
    "### 使用原始的 text-davinci-003"
   ]
  },
  {
   "cell_type": "code",
   "execution_count": 66,
   "metadata": {},
   "outputs": [],
   "source": [
    "import os\n",
    "\n",
    "openai.api_key = os.environ.get(\"OPENAI_API_KEY\")\n",
    "COMPLETION_MODEL = \"text-davinci-003\"\n",
    "\n",
    "def get_response(prompt, temperature = 1.0, stop=None):\n",
    "    completions = openai.Completion.create (\n",
    "        engine=COMPLETION_MODEL,\n",
    "        prompt=prompt,\n",
    "        max_tokens=1024,\n",
    "        n=1,\n",
    "        stop=stop,\n",
    "        temperature=temperature,        \n",
    "    )\n",
    "    message = completions.choices[0].text # type: ignore\n",
    "    return message"
   ]
  },
  {
   "cell_type": "code",
   "execution_count": 67,
   "metadata": {},
   "outputs": [
    {
     "name": "stdout",
     "output_type": "stream",
     "text": [
      " 你好！端午节我准备去我家乡的一个湖边，与家人一起游玩度过。\n"
     ]
    }
   ],
   "source": [
    "question = \"\"\"Q: 你好，端午节你准备去哪里？\n",
    "A:\"\"\"\n",
    "\n",
    "answer = get_response(question, temperature=0.5, stop=\"Q:\")\n",
    "print(answer)"
   ]
  },
  {
   "cell_type": "code",
   "execution_count": 68,
   "metadata": {},
   "outputs": [
    {
     "name": "stdout",
     "output_type": "stream",
     "text": [
      "位于武汉的江汉碑林，可以欣赏到精美的石碑，更可以参观武汉的古代建筑。另外，武汉的黄鹤楼也是一个不错的景点，可以欣赏到美丽的自然景观。\n"
     ]
    }
   ],
   "source": [
    "question = \"\"\"Q: 你好，端午节你准备去哪里？\n",
    "A: 端午节我打算去武汉。\n",
    "Q: 那里有什么好玩的旅游景点？\n",
    "A: \"\"\"\n",
    "\n",
    "answer = get_response(question, temperature=0.5, stop=\"Q:\")\n",
    "print(answer)"
   ]
  },
  {
   "cell_type": "markdown",
   "metadata": {},
   "source": [
    "### 使用ChatCompletion接口"
   ]
  },
  {
   "cell_type": "code",
   "execution_count": 69,
   "metadata": {},
   "outputs": [],
   "source": [
    "import openai\n",
    "import os\n",
    "\n",
    "openai.api_key = os.environ.get(\"OPENAI_API_KEY\")\n",
    "\n",
    "class Conversation:\n",
    "    def __init__(self, prompt, num_of_round):\n",
    "        self.prompt = prompt\n",
    "        self.num_of_round = num_of_round\n",
    "        self.messages = []\n",
    "        self.messages.append({\"role\": \"system\", \"content\": self.prompt})\n",
    "\n",
    "    def ask(self, question):\n",
    "        try:\n",
    "            self.messages.append( {\"role\": \"user\", \"content\": question})\n",
    "            response = openai.ChatCompletion.create(\n",
    "                model=\"gpt-3.5-turbo\",\n",
    "                messages=self.messages,\n",
    "                temperature=0.5,\n",
    "                max_tokens=2048,\n",
    "                top_p=1,\n",
    "            )\n",
    "        except Exception as e:\n",
    "            print(e)\n",
    "            return e\n",
    "\n",
    "        message = response[\"choices\"][0][\"message\"][\"content\"] # type: ignore\n",
    "        self.messages.append({\"role\": \"assistant\", \"content\": message})\n",
    "        \n",
    "        if len(self.messages) > self.num_of_round*2 + 1: # 1 是指 system， 下面的 [1:3]， 也是保留 system。\n",
    "            del self.messages[1:3] # 删除最老的一轮对话，每轮对话包括 User & Assiant 两条。\n",
    "        return message\n"
   ]
  },
  {
   "cell_type": "code",
   "execution_count": 70,
   "metadata": {},
   "outputs": [
    {
     "name": "stdout",
     "output_type": "stream",
     "text": [
      "User : 你好，端午节你准备去哪里？\n",
      "Assistant : 嘿！端午节我打算去武汉旅游。听说武汉有很多著名的景点和美食，我真的很期待能够去探索一下这座城市。你有什么推荐的地方吗？\n",
      "\n",
      "User : 那里有什么好玩的旅游景点\n",
      "Assistant : 武汉有很多著名的旅游景点，让我给你介绍一些吧！首先是黄鹤楼，它是武汉的标志性建筑之一，也是中国四大名楼之一。你可以在楼上俯瞰整个武汉市区，观赏美丽的长江景色。\n",
      "\n",
      "另外，东湖是武汉最大的城市湖泊之一，也是一个非常受欢迎的旅游景点。你可以在湖边散步、划船或者骑自行车，享受宁静的自然环境。\n",
      "\n",
      "如果你对历史感兴趣，可以去武汉博物馆。这是一座世界级的博物馆，收藏了大量的历史文物和艺术品，让你更深入地了解中国的文化和历史。\n",
      "\n",
      "当然，武汉还有很多其他的景点，比如户部巷、蛇山、汉口江滩等等。而且武汉的美食也非常有名，你一定要尝尝当地的热干面、豆皮、鸭脖子等特色小吃。\n",
      "\n",
      "总之，武汉是一个充满魅力和活力的城市，我相信你会在那里度过一个愉快的端午节假期！\n",
      "\n"
     ]
    }
   ],
   "source": [
    "prompt = \"\"\"请你扮演我的朋友Tom，如果有人问你端午节去哪里玩，你会回答打算去武汉旅游\"\"\"\n",
    "conv1 = Conversation(prompt, 3)\n",
    "question1 = \"你好，端午节你准备去哪里？\"\n",
    "print(\"User : %s\" % question1)\n",
    "print(\"Assistant : %s\\n\" % conv1.ask(question1))\n",
    "\n",
    "question2 = \"那里有什么好玩的旅游景点\"\n",
    "print(\"User : %s\" % question2)\n",
    "print(\"Assistant : %s\\n\" % conv1.ask(question2))"
   ]
  },
  {
   "cell_type": "markdown",
   "metadata": {},
   "source": [
    "## 成本与效率问题"
   ]
  },
  {
   "cell_type": "markdown",
   "metadata": {},
   "source": [
    "## 数据的Batch处理"
   ]
  },
  {
   "cell_type": "code",
   "execution_count": 96,
   "metadata": {},
   "outputs": [
    {
     "name": "stdout",
     "output_type": "stream",
     "text": [
      "Lines of text before filtering:  382688\n"
     ]
    }
   ],
   "source": [
    "import tiktoken\n",
    "import openai\n",
    "import os\n",
    "import backoff\n",
    "\n",
    "openai.api_key = os.environ.get(\"OPENAI_API_KEY\")\n",
    "\n",
    "# embedding model parameters\n",
    "embedding_model = \"text-embedding-ada-002\"\n",
    "embedding_encoding = \"cl100k_base\"  # this the encoding for text-embedding-ada-002\n",
    "max_tokens = 8000  # the maximum for text-embedding-ada-002 is 8191\n",
    "\n",
    "\n",
    "# import data/toutiao_cat_data.txt as a pandas dataframe\n",
    "df = pd.read_parquet(\"data/toutiao_cat_data_all_with_embeddings.parquet\")\n",
    "print(\"Lines of text before filtering: \", len(df))"
   ]
  },
  {
   "cell_type": "code",
   "execution_count": 97,
   "metadata": {},
   "outputs": [
    {
     "data": {
      "text/html": [
       "<div>\n",
       "<style scoped>\n",
       "    .dataframe tbody tr th:only-of-type {\n",
       "        vertical-align: middle;\n",
       "    }\n",
       "\n",
       "    .dataframe tbody tr th {\n",
       "        vertical-align: top;\n",
       "    }\n",
       "\n",
       "    .dataframe thead th {\n",
       "        text-align: right;\n",
       "    }\n",
       "</style>\n",
       "<table border=\"1\" class=\"dataframe\">\n",
       "  <thead>\n",
       "    <tr style=\"text-align: right;\">\n",
       "      <th></th>\n",
       "      <th>id</th>\n",
       "      <th>code</th>\n",
       "      <th>category</th>\n",
       "      <th>title</th>\n",
       "      <th>keywords</th>\n",
       "      <th>combined</th>\n",
       "      <th>n_tokens</th>\n",
       "      <th>embedding</th>\n",
       "    </tr>\n",
       "  </thead>\n",
       "  <tbody>\n",
       "    <tr>\n",
       "      <th>0</th>\n",
       "      <td>6551700932705387022</td>\n",
       "      <td>101</td>\n",
       "      <td>news_culture</td>\n",
       "      <td>京城最值得你来场文化之旅的博物馆</td>\n",
       "      <td>保利集团,马未都,中国科学技术馆,博物馆,新中国</td>\n",
       "      <td>标题: 京城最值得你来场文化之旅的博物馆; 关键字: 保利集团,马未都,中国科学技术馆,博物...</td>\n",
       "      <td>56</td>\n",
       "      <td>[-0.02160128578543663, -0.004615371115505695, ...</td>\n",
       "    </tr>\n",
       "    <tr>\n",
       "      <th>1</th>\n",
       "      <td>6552368441838272771</td>\n",
       "      <td>101</td>\n",
       "      <td>news_culture</td>\n",
       "      <td>发酵床的垫料种类有哪些？哪种更好？</td>\n",
       "      <td></td>\n",
       "      <td>标题: 发酵床的垫料种类有哪些？哪种更好？; 关键字:</td>\n",
       "      <td>32</td>\n",
       "      <td>[0.014646276831626892, -0.0075576393865048885,...</td>\n",
       "    </tr>\n",
       "    <tr>\n",
       "      <th>2</th>\n",
       "      <td>6552407965343678723</td>\n",
       "      <td>101</td>\n",
       "      <td>news_culture</td>\n",
       "      <td>上联：黄山黄河黄皮肤黄土高原。怎么对下联？</td>\n",
       "      <td></td>\n",
       "      <td>标题: 上联：黄山黄河黄皮肤黄土高原。怎么对下联？; 关键字:</td>\n",
       "      <td>37</td>\n",
       "      <td>[0.012643996626138687, 0.0035733033437281847, ...</td>\n",
       "    </tr>\n",
       "    <tr>\n",
       "      <th>3</th>\n",
       "      <td>6552332417753940238</td>\n",
       "      <td>101</td>\n",
       "      <td>news_culture</td>\n",
       "      <td>林徽因什么理由拒绝了徐志摩而选择梁思成为终身伴侣？</td>\n",
       "      <td></td>\n",
       "      <td>标题: 林徽因什么理由拒绝了徐志摩而选择梁思成为终身伴侣？; 关键字:</td>\n",
       "      <td>44</td>\n",
       "      <td>[-0.0004984583356417716, -0.016934111714363098...</td>\n",
       "    </tr>\n",
       "    <tr>\n",
       "      <th>4</th>\n",
       "      <td>6552475601595269390</td>\n",
       "      <td>101</td>\n",
       "      <td>news_culture</td>\n",
       "      <td>黄杨木是什么树？</td>\n",
       "      <td></td>\n",
       "      <td>标题: 黄杨木是什么树？; 关键字:</td>\n",
       "      <td>20</td>\n",
       "      <td>[-0.0008294825092889369, -0.013883085921406746...</td>\n",
       "    </tr>\n",
       "  </tbody>\n",
       "</table>\n",
       "</div>"
      ],
      "text/plain": [
       "                    id  code      category                      title   \n",
       "0  6551700932705387022   101  news_culture           京城最值得你来场文化之旅的博物馆  \\\n",
       "1  6552368441838272771   101  news_culture          发酵床的垫料种类有哪些？哪种更好？   \n",
       "2  6552407965343678723   101  news_culture      上联：黄山黄河黄皮肤黄土高原。怎么对下联？   \n",
       "3  6552332417753940238   101  news_culture  林徽因什么理由拒绝了徐志摩而选择梁思成为终身伴侣？   \n",
       "4  6552475601595269390   101  news_culture                   黄杨木是什么树？   \n",
       "\n",
       "                   keywords   \n",
       "0  保利集团,马未都,中国科学技术馆,博物馆,新中国  \\\n",
       "1                             \n",
       "2                             \n",
       "3                             \n",
       "4                             \n",
       "\n",
       "                                            combined  n_tokens   \n",
       "0  标题: 京城最值得你来场文化之旅的博物馆; 关键字: 保利集团,马未都,中国科学技术馆,博物...        56  \\\n",
       "1                       标题: 发酵床的垫料种类有哪些？哪种更好？; 关键字:         32   \n",
       "2                   标题: 上联：黄山黄河黄皮肤黄土高原。怎么对下联？; 关键字:         37   \n",
       "3               标题: 林徽因什么理由拒绝了徐志摩而选择梁思成为终身伴侣？; 关键字:         44   \n",
       "4                                标题: 黄杨木是什么树？; 关键字:         20   \n",
       "\n",
       "                                           embedding  \n",
       "0  [-0.02160128578543663, -0.004615371115505695, ...  \n",
       "1  [0.014646276831626892, -0.0075576393865048885,...  \n",
       "2  [0.012643996626138687, 0.0035733033437281847, ...  \n",
       "3  [-0.0004984583356417716, -0.016934111714363098...  \n",
       "4  [-0.0008294825092889369, -0.013883085921406746...  "
      ]
     },
     "execution_count": 97,
     "metadata": {},
     "output_type": "execute_result"
    }
   ],
   "source": [
    "df.head()"
   ]
  },
  {
   "cell_type": "code",
   "execution_count": 98,
   "metadata": {},
   "outputs": [
    {
     "name": "stdout",
     "output_type": "stream",
     "text": [
      "Lines of text after filtering:  382688\n"
     ]
    }
   ],
   "source": [
    "encoding = tiktoken.get_encoding(embedding_encoding)\n",
    "# omit reviews that are too long to embed\n",
    "df[\"n_tokens\"] = df.combined.apply(lambda x: len(encoding.encode(x)))\n",
    "df = df[df.n_tokens <= max_tokens]\n",
    "print(\"Lines of text after filtering: \", len(df))"
   ]
  },
  {
   "cell_type": "markdown",
   "metadata": {},
   "source": [
    "### 假设我们没有预先处理完Embedding"
   ]
  },
  {
   "cell_type": "code",
   "execution_count": 99,
   "metadata": {},
   "outputs": [
    {
     "ename": "KeyboardInterrupt",
     "evalue": "",
     "output_type": "error",
     "traceback": [
      "\u001b[0;31m---------------------------------------------------------------------------\u001b[0m",
      "\u001b[0;31mKeyboardInterrupt\u001b[0m                         Traceback (most recent call last)",
      "Cell \u001b[0;32mIn[99], line 5\u001b[0m\n\u001b[1;32m      1\u001b[0m \u001b[39mfrom\u001b[39;00m \u001b[39mopenai\u001b[39;00m\u001b[39m.\u001b[39;00m\u001b[39membeddings_utils\u001b[39;00m \u001b[39mimport\u001b[39;00m get_embedding\n\u001b[1;32m      3\u001b[0m df_1k \u001b[39m=\u001b[39m df\u001b[39m.\u001b[39msample(\u001b[39m1000\u001b[39m, random_state\u001b[39m=\u001b[39m\u001b[39m42\u001b[39m)\n\u001b[0;32m----> 5\u001b[0m df_1k[\u001b[39m\"\u001b[39m\u001b[39membedding\u001b[39m\u001b[39m\"\u001b[39m] \u001b[39m=\u001b[39m df_1k\u001b[39m.\u001b[39;49mcombined\u001b[39m.\u001b[39;49mapply(\u001b[39mlambda\u001b[39;49;00m x : get_embedding(x, engine\u001b[39m=\u001b[39;49membedding_model))\n\u001b[1;32m      6\u001b[0m df_1k\u001b[39m.\u001b[39mto_csv(\u001b[39m\"\u001b[39m\u001b[39mdata/toutiao_cat_data_10k_with_embeddings.csv\u001b[39m\u001b[39m\"\u001b[39m, index\u001b[39m=\u001b[39m\u001b[39mFalse\u001b[39;00m)\n",
      "File \u001b[0;32m~/miniconda3/envs/mactalk/lib/python3.10/site-packages/pandas/core/series.py:4626\u001b[0m, in \u001b[0;36mSeries.apply\u001b[0;34m(self, func, convert_dtype, args, **kwargs)\u001b[0m\n\u001b[1;32m   4516\u001b[0m \u001b[39mdef\u001b[39;00m \u001b[39mapply\u001b[39m(\n\u001b[1;32m   4517\u001b[0m     \u001b[39mself\u001b[39m,\n\u001b[1;32m   4518\u001b[0m     func: AggFuncType,\n\u001b[0;32m   (...)\u001b[0m\n\u001b[1;32m   4521\u001b[0m     \u001b[39m*\u001b[39m\u001b[39m*\u001b[39mkwargs,\n\u001b[1;32m   4522\u001b[0m ) \u001b[39m-\u001b[39m\u001b[39m>\u001b[39m DataFrame \u001b[39m|\u001b[39m Series:\n\u001b[1;32m   4523\u001b[0m \u001b[39m    \u001b[39m\u001b[39m\"\"\"\u001b[39;00m\n\u001b[1;32m   4524\u001b[0m \u001b[39m    Invoke function on values of Series.\u001b[39;00m\n\u001b[1;32m   4525\u001b[0m \n\u001b[0;32m   (...)\u001b[0m\n\u001b[1;32m   4624\u001b[0m \u001b[39m    dtype: float64\u001b[39;00m\n\u001b[1;32m   4625\u001b[0m \u001b[39m    \"\"\"\u001b[39;00m\n\u001b[0;32m-> 4626\u001b[0m     \u001b[39mreturn\u001b[39;00m SeriesApply(\u001b[39mself\u001b[39;49m, func, convert_dtype, args, kwargs)\u001b[39m.\u001b[39;49mapply()\n",
      "File \u001b[0;32m~/miniconda3/envs/mactalk/lib/python3.10/site-packages/pandas/core/apply.py:1025\u001b[0m, in \u001b[0;36mSeriesApply.apply\u001b[0;34m(self)\u001b[0m\n\u001b[1;32m   1022\u001b[0m     \u001b[39mreturn\u001b[39;00m \u001b[39mself\u001b[39m\u001b[39m.\u001b[39mapply_str()\n\u001b[1;32m   1024\u001b[0m \u001b[39m# self.f is Callable\u001b[39;00m\n\u001b[0;32m-> 1025\u001b[0m \u001b[39mreturn\u001b[39;00m \u001b[39mself\u001b[39;49m\u001b[39m.\u001b[39;49mapply_standard()\n",
      "File \u001b[0;32m~/miniconda3/envs/mactalk/lib/python3.10/site-packages/pandas/core/apply.py:1076\u001b[0m, in \u001b[0;36mSeriesApply.apply_standard\u001b[0;34m(self)\u001b[0m\n\u001b[1;32m   1074\u001b[0m     \u001b[39melse\u001b[39;00m:\n\u001b[1;32m   1075\u001b[0m         values \u001b[39m=\u001b[39m obj\u001b[39m.\u001b[39mastype(\u001b[39mobject\u001b[39m)\u001b[39m.\u001b[39m_values\n\u001b[0;32m-> 1076\u001b[0m         mapped \u001b[39m=\u001b[39m lib\u001b[39m.\u001b[39;49mmap_infer(\n\u001b[1;32m   1077\u001b[0m             values,\n\u001b[1;32m   1078\u001b[0m             f,\n\u001b[1;32m   1079\u001b[0m             convert\u001b[39m=\u001b[39;49m\u001b[39mself\u001b[39;49m\u001b[39m.\u001b[39;49mconvert_dtype,\n\u001b[1;32m   1080\u001b[0m         )\n\u001b[1;32m   1082\u001b[0m \u001b[39mif\u001b[39;00m \u001b[39mlen\u001b[39m(mapped) \u001b[39mand\u001b[39;00m \u001b[39misinstance\u001b[39m(mapped[\u001b[39m0\u001b[39m], ABCSeries):\n\u001b[1;32m   1083\u001b[0m     \u001b[39m# GH#43986 Need to do list(mapped) in order to get treated as nested\u001b[39;00m\n\u001b[1;32m   1084\u001b[0m     \u001b[39m#  See also GH#25959 regarding EA support\u001b[39;00m\n\u001b[1;32m   1085\u001b[0m     \u001b[39mreturn\u001b[39;00m obj\u001b[39m.\u001b[39m_constructor_expanddim(\u001b[39mlist\u001b[39m(mapped), index\u001b[39m=\u001b[39mobj\u001b[39m.\u001b[39mindex)\n",
      "File \u001b[0;32m~/miniconda3/envs/mactalk/lib/python3.10/site-packages/pandas/_libs/lib.pyx:2834\u001b[0m, in \u001b[0;36mpandas._libs.lib.map_infer\u001b[0;34m()\u001b[0m\n",
      "Cell \u001b[0;32mIn[99], line 5\u001b[0m, in \u001b[0;36m<lambda>\u001b[0;34m(x)\u001b[0m\n\u001b[1;32m      1\u001b[0m \u001b[39mfrom\u001b[39;00m \u001b[39mopenai\u001b[39;00m\u001b[39m.\u001b[39;00m\u001b[39membeddings_utils\u001b[39;00m \u001b[39mimport\u001b[39;00m get_embedding\n\u001b[1;32m      3\u001b[0m df_1k \u001b[39m=\u001b[39m df\u001b[39m.\u001b[39msample(\u001b[39m1000\u001b[39m, random_state\u001b[39m=\u001b[39m\u001b[39m42\u001b[39m)\n\u001b[0;32m----> 5\u001b[0m df_1k[\u001b[39m\"\u001b[39m\u001b[39membedding\u001b[39m\u001b[39m\"\u001b[39m] \u001b[39m=\u001b[39m df_1k\u001b[39m.\u001b[39mcombined\u001b[39m.\u001b[39mapply(\u001b[39mlambda\u001b[39;00m x : get_embedding(x, engine\u001b[39m=\u001b[39;49membedding_model))\n\u001b[1;32m      6\u001b[0m df_1k\u001b[39m.\u001b[39mto_csv(\u001b[39m\"\u001b[39m\u001b[39mdata/toutiao_cat_data_10k_with_embeddings.csv\u001b[39m\u001b[39m\"\u001b[39m, index\u001b[39m=\u001b[39m\u001b[39mFalse\u001b[39;00m)\n",
      "File \u001b[0;32m~/miniconda3/envs/mactalk/lib/python3.10/site-packages/tenacity/__init__.py:289\u001b[0m, in \u001b[0;36mBaseRetrying.wraps.<locals>.wrapped_f\u001b[0;34m(*args, **kw)\u001b[0m\n\u001b[1;32m    287\u001b[0m \u001b[39m@functools\u001b[39m\u001b[39m.\u001b[39mwraps(f)\n\u001b[1;32m    288\u001b[0m \u001b[39mdef\u001b[39;00m \u001b[39mwrapped_f\u001b[39m(\u001b[39m*\u001b[39margs: t\u001b[39m.\u001b[39mAny, \u001b[39m*\u001b[39m\u001b[39m*\u001b[39mkw: t\u001b[39m.\u001b[39mAny) \u001b[39m-\u001b[39m\u001b[39m>\u001b[39m t\u001b[39m.\u001b[39mAny:\n\u001b[0;32m--> 289\u001b[0m     \u001b[39mreturn\u001b[39;00m \u001b[39mself\u001b[39;49m(f, \u001b[39m*\u001b[39;49margs, \u001b[39m*\u001b[39;49m\u001b[39m*\u001b[39;49mkw)\n",
      "File \u001b[0;32m~/miniconda3/envs/mactalk/lib/python3.10/site-packages/tenacity/__init__.py:379\u001b[0m, in \u001b[0;36mRetrying.__call__\u001b[0;34m(self, fn, *args, **kwargs)\u001b[0m\n\u001b[1;32m    377\u001b[0m retry_state \u001b[39m=\u001b[39m RetryCallState(retry_object\u001b[39m=\u001b[39m\u001b[39mself\u001b[39m, fn\u001b[39m=\u001b[39mfn, args\u001b[39m=\u001b[39margs, kwargs\u001b[39m=\u001b[39mkwargs)\n\u001b[1;32m    378\u001b[0m \u001b[39mwhile\u001b[39;00m \u001b[39mTrue\u001b[39;00m:\n\u001b[0;32m--> 379\u001b[0m     do \u001b[39m=\u001b[39m \u001b[39mself\u001b[39;49m\u001b[39m.\u001b[39;49miter(retry_state\u001b[39m=\u001b[39;49mretry_state)\n\u001b[1;32m    380\u001b[0m     \u001b[39mif\u001b[39;00m \u001b[39misinstance\u001b[39m(do, DoAttempt):\n\u001b[1;32m    381\u001b[0m         \u001b[39mtry\u001b[39;00m:\n",
      "File \u001b[0;32m~/miniconda3/envs/mactalk/lib/python3.10/site-packages/tenacity/__init__.py:314\u001b[0m, in \u001b[0;36mBaseRetrying.iter\u001b[0;34m(self, retry_state)\u001b[0m\n\u001b[1;32m    312\u001b[0m is_explicit_retry \u001b[39m=\u001b[39m fut\u001b[39m.\u001b[39mfailed \u001b[39mand\u001b[39;00m \u001b[39misinstance\u001b[39m(fut\u001b[39m.\u001b[39mexception(), TryAgain)\n\u001b[1;32m    313\u001b[0m \u001b[39mif\u001b[39;00m \u001b[39mnot\u001b[39;00m (is_explicit_retry \u001b[39mor\u001b[39;00m \u001b[39mself\u001b[39m\u001b[39m.\u001b[39mretry(retry_state)):\n\u001b[0;32m--> 314\u001b[0m     \u001b[39mreturn\u001b[39;00m fut\u001b[39m.\u001b[39;49mresult()\n\u001b[1;32m    316\u001b[0m \u001b[39mif\u001b[39;00m \u001b[39mself\u001b[39m\u001b[39m.\u001b[39mafter \u001b[39mis\u001b[39;00m \u001b[39mnot\u001b[39;00m \u001b[39mNone\u001b[39;00m:\n\u001b[1;32m    317\u001b[0m     \u001b[39mself\u001b[39m\u001b[39m.\u001b[39mafter(retry_state)\n",
      "File \u001b[0;32m~/miniconda3/envs/mactalk/lib/python3.10/concurrent/futures/_base.py:451\u001b[0m, in \u001b[0;36mFuture.result\u001b[0;34m(self, timeout)\u001b[0m\n\u001b[1;32m    449\u001b[0m     \u001b[39mraise\u001b[39;00m CancelledError()\n\u001b[1;32m    450\u001b[0m \u001b[39melif\u001b[39;00m \u001b[39mself\u001b[39m\u001b[39m.\u001b[39m_state \u001b[39m==\u001b[39m FINISHED:\n\u001b[0;32m--> 451\u001b[0m     \u001b[39mreturn\u001b[39;00m \u001b[39mself\u001b[39;49m\u001b[39m.\u001b[39;49m__get_result()\n\u001b[1;32m    453\u001b[0m \u001b[39mself\u001b[39m\u001b[39m.\u001b[39m_condition\u001b[39m.\u001b[39mwait(timeout)\n\u001b[1;32m    455\u001b[0m \u001b[39mif\u001b[39;00m \u001b[39mself\u001b[39m\u001b[39m.\u001b[39m_state \u001b[39min\u001b[39;00m [CANCELLED, CANCELLED_AND_NOTIFIED]:\n",
      "File \u001b[0;32m~/miniconda3/envs/mactalk/lib/python3.10/concurrent/futures/_base.py:403\u001b[0m, in \u001b[0;36mFuture.__get_result\u001b[0;34m(self)\u001b[0m\n\u001b[1;32m    401\u001b[0m \u001b[39mif\u001b[39;00m \u001b[39mself\u001b[39m\u001b[39m.\u001b[39m_exception:\n\u001b[1;32m    402\u001b[0m     \u001b[39mtry\u001b[39;00m:\n\u001b[0;32m--> 403\u001b[0m         \u001b[39mraise\u001b[39;00m \u001b[39mself\u001b[39m\u001b[39m.\u001b[39m_exception\n\u001b[1;32m    404\u001b[0m     \u001b[39mfinally\u001b[39;00m:\n\u001b[1;32m    405\u001b[0m         \u001b[39m# Break a reference cycle with the exception in self._exception\u001b[39;00m\n\u001b[1;32m    406\u001b[0m         \u001b[39mself\u001b[39m \u001b[39m=\u001b[39m \u001b[39mNone\u001b[39;00m\n",
      "File \u001b[0;32m~/miniconda3/envs/mactalk/lib/python3.10/site-packages/tenacity/__init__.py:382\u001b[0m, in \u001b[0;36mRetrying.__call__\u001b[0;34m(self, fn, *args, **kwargs)\u001b[0m\n\u001b[1;32m    380\u001b[0m \u001b[39mif\u001b[39;00m \u001b[39misinstance\u001b[39m(do, DoAttempt):\n\u001b[1;32m    381\u001b[0m     \u001b[39mtry\u001b[39;00m:\n\u001b[0;32m--> 382\u001b[0m         result \u001b[39m=\u001b[39m fn(\u001b[39m*\u001b[39;49margs, \u001b[39m*\u001b[39;49m\u001b[39m*\u001b[39;49mkwargs)\n\u001b[1;32m    383\u001b[0m     \u001b[39mexcept\u001b[39;00m \u001b[39mBaseException\u001b[39;00m:  \u001b[39m# noqa: B902\u001b[39;00m\n\u001b[1;32m    384\u001b[0m         retry_state\u001b[39m.\u001b[39mset_exception(sys\u001b[39m.\u001b[39mexc_info())  \u001b[39m# type: ignore[arg-type]\u001b[39;00m\n",
      "File \u001b[0;32m~/miniconda3/envs/mactalk/lib/python3.10/site-packages/openai/embeddings_utils.py:23\u001b[0m, in \u001b[0;36mget_embedding\u001b[0;34m(text, engine, **kwargs)\u001b[0m\n\u001b[1;32m     17\u001b[0m \u001b[39m@retry\u001b[39m(wait\u001b[39m=\u001b[39mwait_random_exponential(\u001b[39mmin\u001b[39m\u001b[39m=\u001b[39m\u001b[39m1\u001b[39m, \u001b[39mmax\u001b[39m\u001b[39m=\u001b[39m\u001b[39m20\u001b[39m), stop\u001b[39m=\u001b[39mstop_after_attempt(\u001b[39m6\u001b[39m))\n\u001b[1;32m     18\u001b[0m \u001b[39mdef\u001b[39;00m \u001b[39mget_embedding\u001b[39m(text: \u001b[39mstr\u001b[39m, engine\u001b[39m=\u001b[39m\u001b[39m\"\u001b[39m\u001b[39mtext-similarity-davinci-001\u001b[39m\u001b[39m\"\u001b[39m, \u001b[39m*\u001b[39m\u001b[39m*\u001b[39mkwargs) \u001b[39m-\u001b[39m\u001b[39m>\u001b[39m List[\u001b[39mfloat\u001b[39m]:\n\u001b[1;32m     19\u001b[0m \n\u001b[1;32m     20\u001b[0m     \u001b[39m# replace newlines, which can negatively affect performance.\u001b[39;00m\n\u001b[1;32m     21\u001b[0m     text \u001b[39m=\u001b[39m text\u001b[39m.\u001b[39mreplace(\u001b[39m\"\u001b[39m\u001b[39m\\n\u001b[39;00m\u001b[39m\"\u001b[39m, \u001b[39m\"\u001b[39m\u001b[39m \u001b[39m\u001b[39m\"\u001b[39m)\n\u001b[0;32m---> 23\u001b[0m     \u001b[39mreturn\u001b[39;00m openai\u001b[39m.\u001b[39;49mEmbedding\u001b[39m.\u001b[39;49mcreate(\u001b[39minput\u001b[39;49m\u001b[39m=\u001b[39;49m[text], engine\u001b[39m=\u001b[39;49mengine, \u001b[39m*\u001b[39;49m\u001b[39m*\u001b[39;49mkwargs)[\u001b[39m\"\u001b[39m\u001b[39mdata\u001b[39m\u001b[39m\"\u001b[39m][\u001b[39m0\u001b[39m][\u001b[39m\"\u001b[39m\u001b[39membedding\u001b[39m\u001b[39m\"\u001b[39m]\n",
      "File \u001b[0;32m~/miniconda3/envs/mactalk/lib/python3.10/site-packages/openai/api_resources/embedding.py:33\u001b[0m, in \u001b[0;36mEmbedding.create\u001b[0;34m(cls, *args, **kwargs)\u001b[0m\n\u001b[1;32m     31\u001b[0m \u001b[39mwhile\u001b[39;00m \u001b[39mTrue\u001b[39;00m:\n\u001b[1;32m     32\u001b[0m     \u001b[39mtry\u001b[39;00m:\n\u001b[0;32m---> 33\u001b[0m         response \u001b[39m=\u001b[39m \u001b[39msuper\u001b[39;49m()\u001b[39m.\u001b[39;49mcreate(\u001b[39m*\u001b[39;49margs, \u001b[39m*\u001b[39;49m\u001b[39m*\u001b[39;49mkwargs)\n\u001b[1;32m     35\u001b[0m         \u001b[39m# If a user specifies base64, we'll just return the encoded string.\u001b[39;00m\n\u001b[1;32m     36\u001b[0m         \u001b[39m# This is only for the default case.\u001b[39;00m\n\u001b[1;32m     37\u001b[0m         \u001b[39mif\u001b[39;00m \u001b[39mnot\u001b[39;00m user_provided_encoding_format:\n",
      "File \u001b[0;32m~/miniconda3/envs/mactalk/lib/python3.10/site-packages/openai/api_resources/abstract/engine_api_resource.py:153\u001b[0m, in \u001b[0;36mEngineAPIResource.create\u001b[0;34m(cls, api_key, api_base, api_type, request_id, api_version, organization, **params)\u001b[0m\n\u001b[1;32m    127\u001b[0m \u001b[39m@classmethod\u001b[39m\n\u001b[1;32m    128\u001b[0m \u001b[39mdef\u001b[39;00m \u001b[39mcreate\u001b[39m(\n\u001b[1;32m    129\u001b[0m     \u001b[39mcls\u001b[39m,\n\u001b[0;32m   (...)\u001b[0m\n\u001b[1;32m    136\u001b[0m     \u001b[39m*\u001b[39m\u001b[39m*\u001b[39mparams,\n\u001b[1;32m    137\u001b[0m ):\n\u001b[1;32m    138\u001b[0m     (\n\u001b[1;32m    139\u001b[0m         deployment_id,\n\u001b[1;32m    140\u001b[0m         engine,\n\u001b[0;32m   (...)\u001b[0m\n\u001b[1;32m    150\u001b[0m         api_key, api_base, api_type, api_version, organization, \u001b[39m*\u001b[39m\u001b[39m*\u001b[39mparams\n\u001b[1;32m    151\u001b[0m     )\n\u001b[0;32m--> 153\u001b[0m     response, _, api_key \u001b[39m=\u001b[39m requestor\u001b[39m.\u001b[39;49mrequest(\n\u001b[1;32m    154\u001b[0m         \u001b[39m\"\u001b[39;49m\u001b[39mpost\u001b[39;49m\u001b[39m\"\u001b[39;49m,\n\u001b[1;32m    155\u001b[0m         url,\n\u001b[1;32m    156\u001b[0m         params\u001b[39m=\u001b[39;49mparams,\n\u001b[1;32m    157\u001b[0m         headers\u001b[39m=\u001b[39;49mheaders,\n\u001b[1;32m    158\u001b[0m         stream\u001b[39m=\u001b[39;49mstream,\n\u001b[1;32m    159\u001b[0m         request_id\u001b[39m=\u001b[39;49mrequest_id,\n\u001b[1;32m    160\u001b[0m         request_timeout\u001b[39m=\u001b[39;49mrequest_timeout,\n\u001b[1;32m    161\u001b[0m     )\n\u001b[1;32m    163\u001b[0m     \u001b[39mif\u001b[39;00m stream:\n\u001b[1;32m    164\u001b[0m         \u001b[39m# must be an iterator\u001b[39;00m\n\u001b[1;32m    165\u001b[0m         \u001b[39massert\u001b[39;00m \u001b[39mnot\u001b[39;00m \u001b[39misinstance\u001b[39m(response, OpenAIResponse)\n",
      "File \u001b[0;32m~/miniconda3/envs/mactalk/lib/python3.10/site-packages/openai/api_requestor.py:220\u001b[0m, in \u001b[0;36mAPIRequestor.request\u001b[0;34m(self, method, url, params, headers, files, stream, request_id, request_timeout)\u001b[0m\n\u001b[1;32m    209\u001b[0m \u001b[39mdef\u001b[39;00m \u001b[39mrequest\u001b[39m(\n\u001b[1;32m    210\u001b[0m     \u001b[39mself\u001b[39m,\n\u001b[1;32m    211\u001b[0m     method,\n\u001b[0;32m   (...)\u001b[0m\n\u001b[1;32m    218\u001b[0m     request_timeout: Optional[Union[\u001b[39mfloat\u001b[39m, Tuple[\u001b[39mfloat\u001b[39m, \u001b[39mfloat\u001b[39m]]] \u001b[39m=\u001b[39m \u001b[39mNone\u001b[39;00m,\n\u001b[1;32m    219\u001b[0m ) \u001b[39m-\u001b[39m\u001b[39m>\u001b[39m Tuple[Union[OpenAIResponse, Iterator[OpenAIResponse]], \u001b[39mbool\u001b[39m, \u001b[39mstr\u001b[39m]:\n\u001b[0;32m--> 220\u001b[0m     result \u001b[39m=\u001b[39m \u001b[39mself\u001b[39;49m\u001b[39m.\u001b[39;49mrequest_raw(\n\u001b[1;32m    221\u001b[0m         method\u001b[39m.\u001b[39;49mlower(),\n\u001b[1;32m    222\u001b[0m         url,\n\u001b[1;32m    223\u001b[0m         params\u001b[39m=\u001b[39;49mparams,\n\u001b[1;32m    224\u001b[0m         supplied_headers\u001b[39m=\u001b[39;49mheaders,\n\u001b[1;32m    225\u001b[0m         files\u001b[39m=\u001b[39;49mfiles,\n\u001b[1;32m    226\u001b[0m         stream\u001b[39m=\u001b[39;49mstream,\n\u001b[1;32m    227\u001b[0m         request_id\u001b[39m=\u001b[39;49mrequest_id,\n\u001b[1;32m    228\u001b[0m         request_timeout\u001b[39m=\u001b[39;49mrequest_timeout,\n\u001b[1;32m    229\u001b[0m     )\n\u001b[1;32m    230\u001b[0m     resp, got_stream \u001b[39m=\u001b[39m \u001b[39mself\u001b[39m\u001b[39m.\u001b[39m_interpret_response(result, stream)\n\u001b[1;32m    231\u001b[0m     \u001b[39mreturn\u001b[39;00m resp, got_stream, \u001b[39mself\u001b[39m\u001b[39m.\u001b[39mapi_key\n",
      "File \u001b[0;32m~/miniconda3/envs/mactalk/lib/python3.10/site-packages/openai/api_requestor.py:520\u001b[0m, in \u001b[0;36mAPIRequestor.request_raw\u001b[0;34m(self, method, url, params, supplied_headers, files, stream, request_id, request_timeout)\u001b[0m\n\u001b[1;32m    518\u001b[0m     _thread_context\u001b[39m.\u001b[39msession \u001b[39m=\u001b[39m _make_session()\n\u001b[1;32m    519\u001b[0m \u001b[39mtry\u001b[39;00m:\n\u001b[0;32m--> 520\u001b[0m     result \u001b[39m=\u001b[39m _thread_context\u001b[39m.\u001b[39;49msession\u001b[39m.\u001b[39;49mrequest(\n\u001b[1;32m    521\u001b[0m         method,\n\u001b[1;32m    522\u001b[0m         abs_url,\n\u001b[1;32m    523\u001b[0m         headers\u001b[39m=\u001b[39;49mheaders,\n\u001b[1;32m    524\u001b[0m         data\u001b[39m=\u001b[39;49mdata,\n\u001b[1;32m    525\u001b[0m         files\u001b[39m=\u001b[39;49mfiles,\n\u001b[1;32m    526\u001b[0m         stream\u001b[39m=\u001b[39;49mstream,\n\u001b[1;32m    527\u001b[0m         timeout\u001b[39m=\u001b[39;49mrequest_timeout \u001b[39mif\u001b[39;49;00m request_timeout \u001b[39melse\u001b[39;49;00m TIMEOUT_SECS,\n\u001b[1;32m    528\u001b[0m         proxies\u001b[39m=\u001b[39;49m_thread_context\u001b[39m.\u001b[39;49msession\u001b[39m.\u001b[39;49mproxies,\n\u001b[1;32m    529\u001b[0m     )\n\u001b[1;32m    530\u001b[0m \u001b[39mexcept\u001b[39;00m requests\u001b[39m.\u001b[39mexceptions\u001b[39m.\u001b[39mTimeout \u001b[39mas\u001b[39;00m e:\n\u001b[1;32m    531\u001b[0m     \u001b[39mraise\u001b[39;00m error\u001b[39m.\u001b[39mTimeout(\u001b[39m\"\u001b[39m\u001b[39mRequest timed out: \u001b[39m\u001b[39m{}\u001b[39;00m\u001b[39m\"\u001b[39m\u001b[39m.\u001b[39mformat(e)) \u001b[39mfrom\u001b[39;00m \u001b[39me\u001b[39;00m\n",
      "File \u001b[0;32m~/miniconda3/envs/mactalk/lib/python3.10/site-packages/requests/sessions.py:589\u001b[0m, in \u001b[0;36mSession.request\u001b[0;34m(self, method, url, params, data, headers, cookies, files, auth, timeout, allow_redirects, proxies, hooks, stream, verify, cert, json)\u001b[0m\n\u001b[1;32m    584\u001b[0m send_kwargs \u001b[39m=\u001b[39m {\n\u001b[1;32m    585\u001b[0m     \u001b[39m\"\u001b[39m\u001b[39mtimeout\u001b[39m\u001b[39m\"\u001b[39m: timeout,\n\u001b[1;32m    586\u001b[0m     \u001b[39m\"\u001b[39m\u001b[39mallow_redirects\u001b[39m\u001b[39m\"\u001b[39m: allow_redirects,\n\u001b[1;32m    587\u001b[0m }\n\u001b[1;32m    588\u001b[0m send_kwargs\u001b[39m.\u001b[39mupdate(settings)\n\u001b[0;32m--> 589\u001b[0m resp \u001b[39m=\u001b[39m \u001b[39mself\u001b[39;49m\u001b[39m.\u001b[39;49msend(prep, \u001b[39m*\u001b[39;49m\u001b[39m*\u001b[39;49msend_kwargs)\n\u001b[1;32m    591\u001b[0m \u001b[39mreturn\u001b[39;00m resp\n",
      "File \u001b[0;32m~/miniconda3/envs/mactalk/lib/python3.10/site-packages/requests/sessions.py:703\u001b[0m, in \u001b[0;36mSession.send\u001b[0;34m(self, request, **kwargs)\u001b[0m\n\u001b[1;32m    700\u001b[0m start \u001b[39m=\u001b[39m preferred_clock()\n\u001b[1;32m    702\u001b[0m \u001b[39m# Send the request\u001b[39;00m\n\u001b[0;32m--> 703\u001b[0m r \u001b[39m=\u001b[39m adapter\u001b[39m.\u001b[39;49msend(request, \u001b[39m*\u001b[39;49m\u001b[39m*\u001b[39;49mkwargs)\n\u001b[1;32m    705\u001b[0m \u001b[39m# Total elapsed time of the request (approximately)\u001b[39;00m\n\u001b[1;32m    706\u001b[0m elapsed \u001b[39m=\u001b[39m preferred_clock() \u001b[39m-\u001b[39m start\n",
      "File \u001b[0;32m~/miniconda3/envs/mactalk/lib/python3.10/site-packages/requests/adapters.py:486\u001b[0m, in \u001b[0;36mHTTPAdapter.send\u001b[0;34m(self, request, stream, timeout, verify, cert, proxies)\u001b[0m\n\u001b[1;32m    483\u001b[0m     timeout \u001b[39m=\u001b[39m TimeoutSauce(connect\u001b[39m=\u001b[39mtimeout, read\u001b[39m=\u001b[39mtimeout)\n\u001b[1;32m    485\u001b[0m \u001b[39mtry\u001b[39;00m:\n\u001b[0;32m--> 486\u001b[0m     resp \u001b[39m=\u001b[39m conn\u001b[39m.\u001b[39;49murlopen(\n\u001b[1;32m    487\u001b[0m         method\u001b[39m=\u001b[39;49mrequest\u001b[39m.\u001b[39;49mmethod,\n\u001b[1;32m    488\u001b[0m         url\u001b[39m=\u001b[39;49murl,\n\u001b[1;32m    489\u001b[0m         body\u001b[39m=\u001b[39;49mrequest\u001b[39m.\u001b[39;49mbody,\n\u001b[1;32m    490\u001b[0m         headers\u001b[39m=\u001b[39;49mrequest\u001b[39m.\u001b[39;49mheaders,\n\u001b[1;32m    491\u001b[0m         redirect\u001b[39m=\u001b[39;49m\u001b[39mFalse\u001b[39;49;00m,\n\u001b[1;32m    492\u001b[0m         assert_same_host\u001b[39m=\u001b[39;49m\u001b[39mFalse\u001b[39;49;00m,\n\u001b[1;32m    493\u001b[0m         preload_content\u001b[39m=\u001b[39;49m\u001b[39mFalse\u001b[39;49;00m,\n\u001b[1;32m    494\u001b[0m         decode_content\u001b[39m=\u001b[39;49m\u001b[39mFalse\u001b[39;49;00m,\n\u001b[1;32m    495\u001b[0m         retries\u001b[39m=\u001b[39;49m\u001b[39mself\u001b[39;49m\u001b[39m.\u001b[39;49mmax_retries,\n\u001b[1;32m    496\u001b[0m         timeout\u001b[39m=\u001b[39;49mtimeout,\n\u001b[1;32m    497\u001b[0m         chunked\u001b[39m=\u001b[39;49mchunked,\n\u001b[1;32m    498\u001b[0m     )\n\u001b[1;32m    500\u001b[0m \u001b[39mexcept\u001b[39;00m (ProtocolError, \u001b[39mOSError\u001b[39;00m) \u001b[39mas\u001b[39;00m err:\n\u001b[1;32m    501\u001b[0m     \u001b[39mraise\u001b[39;00m \u001b[39mConnectionError\u001b[39;00m(err, request\u001b[39m=\u001b[39mrequest)\n",
      "File \u001b[0;32m~/miniconda3/envs/mactalk/lib/python3.10/site-packages/urllib3/connectionpool.py:790\u001b[0m, in \u001b[0;36mHTTPConnectionPool.urlopen\u001b[0;34m(self, method, url, body, headers, retries, redirect, assert_same_host, timeout, pool_timeout, release_conn, chunked, body_pos, preload_content, decode_content, **response_kw)\u001b[0m\n\u001b[1;32m    787\u001b[0m response_conn \u001b[39m=\u001b[39m conn \u001b[39mif\u001b[39;00m \u001b[39mnot\u001b[39;00m release_conn \u001b[39melse\u001b[39;00m \u001b[39mNone\u001b[39;00m\n\u001b[1;32m    789\u001b[0m \u001b[39m# Make the request on the HTTPConnection object\u001b[39;00m\n\u001b[0;32m--> 790\u001b[0m response \u001b[39m=\u001b[39m \u001b[39mself\u001b[39;49m\u001b[39m.\u001b[39;49m_make_request(\n\u001b[1;32m    791\u001b[0m     conn,\n\u001b[1;32m    792\u001b[0m     method,\n\u001b[1;32m    793\u001b[0m     url,\n\u001b[1;32m    794\u001b[0m     timeout\u001b[39m=\u001b[39;49mtimeout_obj,\n\u001b[1;32m    795\u001b[0m     body\u001b[39m=\u001b[39;49mbody,\n\u001b[1;32m    796\u001b[0m     headers\u001b[39m=\u001b[39;49mheaders,\n\u001b[1;32m    797\u001b[0m     chunked\u001b[39m=\u001b[39;49mchunked,\n\u001b[1;32m    798\u001b[0m     retries\u001b[39m=\u001b[39;49mretries,\n\u001b[1;32m    799\u001b[0m     response_conn\u001b[39m=\u001b[39;49mresponse_conn,\n\u001b[1;32m    800\u001b[0m     preload_content\u001b[39m=\u001b[39;49mpreload_content,\n\u001b[1;32m    801\u001b[0m     decode_content\u001b[39m=\u001b[39;49mdecode_content,\n\u001b[1;32m    802\u001b[0m     \u001b[39m*\u001b[39;49m\u001b[39m*\u001b[39;49mresponse_kw,\n\u001b[1;32m    803\u001b[0m )\n\u001b[1;32m    805\u001b[0m \u001b[39m# Everything went great!\u001b[39;00m\n\u001b[1;32m    806\u001b[0m clean_exit \u001b[39m=\u001b[39m \u001b[39mTrue\u001b[39;00m\n",
      "File \u001b[0;32m~/miniconda3/envs/mactalk/lib/python3.10/site-packages/urllib3/connectionpool.py:536\u001b[0m, in \u001b[0;36mHTTPConnectionPool._make_request\u001b[0;34m(self, conn, method, url, body, headers, retries, timeout, chunked, response_conn, preload_content, decode_content, enforce_content_length)\u001b[0m\n\u001b[1;32m    534\u001b[0m \u001b[39m# Receive the response from the server\u001b[39;00m\n\u001b[1;32m    535\u001b[0m \u001b[39mtry\u001b[39;00m:\n\u001b[0;32m--> 536\u001b[0m     response \u001b[39m=\u001b[39m conn\u001b[39m.\u001b[39;49mgetresponse()\n\u001b[1;32m    537\u001b[0m \u001b[39mexcept\u001b[39;00m (BaseSSLError, \u001b[39mOSError\u001b[39;00m) \u001b[39mas\u001b[39;00m e:\n\u001b[1;32m    538\u001b[0m     \u001b[39mself\u001b[39m\u001b[39m.\u001b[39m_raise_timeout(err\u001b[39m=\u001b[39me, url\u001b[39m=\u001b[39murl, timeout_value\u001b[39m=\u001b[39mread_timeout)\n",
      "File \u001b[0;32m~/miniconda3/envs/mactalk/lib/python3.10/site-packages/urllib3/connection.py:454\u001b[0m, in \u001b[0;36mHTTPConnection.getresponse\u001b[0;34m(self)\u001b[0m\n\u001b[1;32m    451\u001b[0m \u001b[39mfrom\u001b[39;00m \u001b[39m.\u001b[39;00m\u001b[39mresponse\u001b[39;00m \u001b[39mimport\u001b[39;00m HTTPResponse\n\u001b[1;32m    453\u001b[0m \u001b[39m# Get the response from http.client.HTTPConnection\u001b[39;00m\n\u001b[0;32m--> 454\u001b[0m httplib_response \u001b[39m=\u001b[39m \u001b[39msuper\u001b[39;49m()\u001b[39m.\u001b[39;49mgetresponse()\n\u001b[1;32m    456\u001b[0m \u001b[39mtry\u001b[39;00m:\n\u001b[1;32m    457\u001b[0m     assert_header_parsing(httplib_response\u001b[39m.\u001b[39mmsg)\n",
      "File \u001b[0;32m~/miniconda3/envs/mactalk/lib/python3.10/http/client.py:1375\u001b[0m, in \u001b[0;36mHTTPConnection.getresponse\u001b[0;34m(self)\u001b[0m\n\u001b[1;32m   1373\u001b[0m \u001b[39mtry\u001b[39;00m:\n\u001b[1;32m   1374\u001b[0m     \u001b[39mtry\u001b[39;00m:\n\u001b[0;32m-> 1375\u001b[0m         response\u001b[39m.\u001b[39;49mbegin()\n\u001b[1;32m   1376\u001b[0m     \u001b[39mexcept\u001b[39;00m \u001b[39mConnectionError\u001b[39;00m:\n\u001b[1;32m   1377\u001b[0m         \u001b[39mself\u001b[39m\u001b[39m.\u001b[39mclose()\n",
      "File \u001b[0;32m~/miniconda3/envs/mactalk/lib/python3.10/http/client.py:318\u001b[0m, in \u001b[0;36mHTTPResponse.begin\u001b[0;34m(self)\u001b[0m\n\u001b[1;32m    316\u001b[0m \u001b[39m# read until we get a non-100 response\u001b[39;00m\n\u001b[1;32m    317\u001b[0m \u001b[39mwhile\u001b[39;00m \u001b[39mTrue\u001b[39;00m:\n\u001b[0;32m--> 318\u001b[0m     version, status, reason \u001b[39m=\u001b[39m \u001b[39mself\u001b[39;49m\u001b[39m.\u001b[39;49m_read_status()\n\u001b[1;32m    319\u001b[0m     \u001b[39mif\u001b[39;00m status \u001b[39m!=\u001b[39m CONTINUE:\n\u001b[1;32m    320\u001b[0m         \u001b[39mbreak\u001b[39;00m\n",
      "File \u001b[0;32m~/miniconda3/envs/mactalk/lib/python3.10/http/client.py:279\u001b[0m, in \u001b[0;36mHTTPResponse._read_status\u001b[0;34m(self)\u001b[0m\n\u001b[1;32m    278\u001b[0m \u001b[39mdef\u001b[39;00m \u001b[39m_read_status\u001b[39m(\u001b[39mself\u001b[39m):\n\u001b[0;32m--> 279\u001b[0m     line \u001b[39m=\u001b[39m \u001b[39mstr\u001b[39m(\u001b[39mself\u001b[39;49m\u001b[39m.\u001b[39;49mfp\u001b[39m.\u001b[39;49mreadline(_MAXLINE \u001b[39m+\u001b[39;49m \u001b[39m1\u001b[39;49m), \u001b[39m\"\u001b[39m\u001b[39miso-8859-1\u001b[39m\u001b[39m\"\u001b[39m)\n\u001b[1;32m    280\u001b[0m     \u001b[39mif\u001b[39;00m \u001b[39mlen\u001b[39m(line) \u001b[39m>\u001b[39m _MAXLINE:\n\u001b[1;32m    281\u001b[0m         \u001b[39mraise\u001b[39;00m LineTooLong(\u001b[39m\"\u001b[39m\u001b[39mstatus line\u001b[39m\u001b[39m\"\u001b[39m)\n",
      "File \u001b[0;32m~/miniconda3/envs/mactalk/lib/python3.10/socket.py:705\u001b[0m, in \u001b[0;36mSocketIO.readinto\u001b[0;34m(self, b)\u001b[0m\n\u001b[1;32m    703\u001b[0m \u001b[39mwhile\u001b[39;00m \u001b[39mTrue\u001b[39;00m:\n\u001b[1;32m    704\u001b[0m     \u001b[39mtry\u001b[39;00m:\n\u001b[0;32m--> 705\u001b[0m         \u001b[39mreturn\u001b[39;00m \u001b[39mself\u001b[39;49m\u001b[39m.\u001b[39;49m_sock\u001b[39m.\u001b[39;49mrecv_into(b)\n\u001b[1;32m    706\u001b[0m     \u001b[39mexcept\u001b[39;00m timeout:\n\u001b[1;32m    707\u001b[0m         \u001b[39mself\u001b[39m\u001b[39m.\u001b[39m_timeout_occurred \u001b[39m=\u001b[39m \u001b[39mTrue\u001b[39;00m\n",
      "File \u001b[0;32m~/miniconda3/envs/mactalk/lib/python3.10/ssl.py:1274\u001b[0m, in \u001b[0;36mSSLSocket.recv_into\u001b[0;34m(self, buffer, nbytes, flags)\u001b[0m\n\u001b[1;32m   1270\u001b[0m     \u001b[39mif\u001b[39;00m flags \u001b[39m!=\u001b[39m \u001b[39m0\u001b[39m:\n\u001b[1;32m   1271\u001b[0m         \u001b[39mraise\u001b[39;00m \u001b[39mValueError\u001b[39;00m(\n\u001b[1;32m   1272\u001b[0m           \u001b[39m\"\u001b[39m\u001b[39mnon-zero flags not allowed in calls to recv_into() on \u001b[39m\u001b[39m%s\u001b[39;00m\u001b[39m\"\u001b[39m \u001b[39m%\u001b[39m\n\u001b[1;32m   1273\u001b[0m           \u001b[39mself\u001b[39m\u001b[39m.\u001b[39m\u001b[39m__class__\u001b[39m)\n\u001b[0;32m-> 1274\u001b[0m     \u001b[39mreturn\u001b[39;00m \u001b[39mself\u001b[39;49m\u001b[39m.\u001b[39;49mread(nbytes, buffer)\n\u001b[1;32m   1275\u001b[0m \u001b[39melse\u001b[39;00m:\n\u001b[1;32m   1276\u001b[0m     \u001b[39mreturn\u001b[39;00m \u001b[39msuper\u001b[39m()\u001b[39m.\u001b[39mrecv_into(buffer, nbytes, flags)\n",
      "File \u001b[0;32m~/miniconda3/envs/mactalk/lib/python3.10/ssl.py:1130\u001b[0m, in \u001b[0;36mSSLSocket.read\u001b[0;34m(self, len, buffer)\u001b[0m\n\u001b[1;32m   1128\u001b[0m \u001b[39mtry\u001b[39;00m:\n\u001b[1;32m   1129\u001b[0m     \u001b[39mif\u001b[39;00m buffer \u001b[39mis\u001b[39;00m \u001b[39mnot\u001b[39;00m \u001b[39mNone\u001b[39;00m:\n\u001b[0;32m-> 1130\u001b[0m         \u001b[39mreturn\u001b[39;00m \u001b[39mself\u001b[39;49m\u001b[39m.\u001b[39;49m_sslobj\u001b[39m.\u001b[39;49mread(\u001b[39mlen\u001b[39;49m, buffer)\n\u001b[1;32m   1131\u001b[0m     \u001b[39melse\u001b[39;00m:\n\u001b[1;32m   1132\u001b[0m         \u001b[39mreturn\u001b[39;00m \u001b[39mself\u001b[39m\u001b[39m.\u001b[39m_sslobj\u001b[39m.\u001b[39mread(\u001b[39mlen\u001b[39m)\n",
      "\u001b[0;31mKeyboardInterrupt\u001b[0m: "
     ]
    }
   ],
   "source": [
    "from openai.embeddings_utils import get_embedding\n",
    "\n",
    "df_1k = df.sample(1000, random_state=42)\n",
    "\n",
    "df_1k[\"embedding\"] = df_1k.combined.apply(lambda x : get_embedding(x, engine=embedding_model))\n",
    "df_1k.to_csv(\"data/toutiao_cat_data_10k_with_embeddings.csv\", index=False)"
   ]
  },
  {
   "cell_type": "code",
   "execution_count": null,
   "metadata": {},
   "outputs": [],
   "source": [
    "@backoff.on_exception(backoff.expo, openai.error.RateLimitError) # type: ignore\n",
    "def get_embedding_with_backoff(**kwargs):\n",
    "    return get_embedding(**kwargs)\n",
    "\n",
    "df_10k = df.sample(10000, random_state=42)\n",
    "\n",
    "df_10k[\"embedding\"] = df_10k.combined.apply(lambda x : get_embedding_with_backoff(text=x, engine=embedding_model))\n",
    "df_10k.to_csv(\"data/toutiao_cat_data_10k_with_embeddings.csv\", index=False)"
   ]
  },
  {
   "cell_type": "code",
   "execution_count": 100,
   "metadata": {},
   "outputs": [],
   "source": [
    "from openai.embeddings_utils import get_embeddings\n",
    "\n",
    "batch_size = 100\n",
    "\n",
    "@backoff.on_exception(backoff.expo, openai.error.RateLimitError)  # type: ignore\n",
    "def get_embeddings_with_backoff(prompts, engine):\n",
    "    embeddings = []\n",
    "    for i in range(0, len(prompts), batch_size):\n",
    "        batch = prompts[i:i+batch_size]\n",
    "        embeddings += get_embeddings(list_of_text=batch, engine=engine)\n",
    "    return embeddings\n",
    "\n",
    "# group prompts into batches of 100\n",
    "prompts = df_1k.combined.tolist()\n",
    "prompt_batches = [prompts[i:i+batch_size] for i in range(0, len(prompts), batch_size)]\n",
    "\n",
    "embeddings = []\n",
    "for batch in prompt_batches:\n",
    "    batch_embeddings = get_embeddings_with_backoff(prompts=batch, engine=embedding_model)\n",
    "    embeddings += batch_embeddings\n",
    "\n",
    "df_1k[\"embedding\"] = embeddings\n",
    "df_1k.to_csv(\"data/toutiao_cat_data_all_with_embeddings_1k.csv\", index=False)"
   ]
  },
  {
   "cell_type": "markdown",
   "metadata": {},
   "source": [
    "### 通过Tiktoken来统计Token数量"
   ]
  },
  {
   "cell_type": "code",
   "execution_count": 61,
   "metadata": {},
   "outputs": [
    {
     "name": "stdout",
     "output_type": "stream",
     "text": [
      "8\n"
     ]
    }
   ],
   "source": [
    "import tiktoken\n",
    "\n",
    "\n",
    "embedding_encoding = \"cl100k_base\"  # this the encoding for text-embedding-ada-002\n",
    "\n",
    "encoding = tiktoken.get_encoding(embedding_encoding)\n",
    "text = \"今天天气真不错\"\n",
    "print(len(encoding.encode(text)))"
   ]
  },
  {
   "cell_type": "code",
   "execution_count": 64,
   "metadata": {},
   "outputs": [
    {
     "name": "stdout",
     "output_type": "stream",
     "text": [
      "<Encoding 'cl100k_base'>\n",
      "<Encoding 'cl100k_base'>\n"
     ]
    }
   ],
   "source": [
    "enc = tiktoken.encoding_for_model(\"gpt-4\")\n",
    "print(enc)\n",
    "\n",
    "enc = tiktoken.encoding_for_model(\"gpt-3.5-turbo\")\n",
    "print(enc)\n"
   ]
  },
  {
   "cell_type": "code",
   "execution_count": 58,
   "metadata": {},
   "outputs": [
    {
     "name": "stdout",
     "output_type": "stream",
     "text": [
      "12\n"
     ]
    }
   ],
   "source": [
    "\n",
    "embedding_encoding = \"p50k_base\"  # this the encoding for text-davinci-003\n",
    "\n",
    "encoding = tiktoken.get_encoding(embedding_encoding)\n",
    "text = \"今天天气真不错\"\n",
    "print(len(encoding.encode(text)))"
   ]
  },
  {
   "cell_type": "code",
   "execution_count": 59,
   "metadata": {},
   "outputs": [
    {
     "name": "stdout",
     "output_type": "stream",
     "text": [
      "{\n",
      "  \"choices\": [\n",
      "    {\n",
      "      \"finish_reason\": \"stop\",\n",
      "      \"index\": 0,\n",
      "      \"logprobs\": null,\n",
      "      \"text\": \"\\n\\nYes, the weather is really nice today.\"\n",
      "    }\n",
      "  ],\n",
      "  \"created\": 1697600290,\n",
      "  \"id\": \"cmpl-8ArfmRXJAHcdyePRJslgrUSyiUumt\",\n",
      "  \"model\": \"text-davinci-003\",\n",
      "  \"object\": \"text_completion\",\n",
      "  \"usage\": {\n",
      "    \"completion_tokens\": 11,\n",
      "    \"prompt_tokens\": 12,\n",
      "    \"total_tokens\": 23\n",
      "  },\n",
      "  \"warning\": \"This model version is deprecated. Migrate before January 4, 2024 to avoid disruption of service. Learn more https://platform.openai.com/docs/deprecations\"\n",
      "}\n",
      "\n",
      "\n",
      "Yes, the weather is really nice today.\n"
     ]
    }
   ],
   "source": [
    "import openai\n",
    "import os\n",
    "\n",
    "openai.api_key = os.environ.get(\"OPENAI_API_KEY\")\n",
    "COMPLETION_MODEL = \"text-davinci-003\"\n",
    "\n",
    "def get_response(prompt):\n",
    "    completions = openai.Completion.create(\n",
    "        engine=COMPLETION_MODEL,\n",
    "        prompt=prompt,\n",
    "        max_tokens=512,\n",
    "        n=1,\n",
    "        stop=None,\n",
    "        temperature=0.0,        \n",
    "    )\n",
    "    return completions\n",
    "\n",
    "response = get_response(\"今天天气真不错\")\n",
    "\n",
    "print(response)\n",
    "print(response.choices[0].text) # type: ignore"
   ]
  },
  {
   "cell_type": "markdown",
   "metadata": {},
   "source": [
    "## 语义搜索"
   ]
  },
  {
   "cell_type": "code",
   "execution_count": 65,
   "metadata": {},
   "outputs": [
    {
     "name": "stdout",
     "output_type": "stream",
     "text": [
      "\n",
      "\n",
      "1. 【新品上市】Apple/苹果 iPhone 11 Pro Max 手机\n",
      "2. 【限时优惠】华为 Mate30 Pro 5G 全网通手机\n",
      "3. 【热卖抢购】小米 10 Pro 旗舰版 5G 手机\n",
      "4. 【新款发售】三星 Galaxy S20 Plus 5G 智能手机\n",
      "5. 【大牌特惠】OPPO Reno2 Z 全网通手机\n",
      "6. 【爆款热卖】vivo X30 Pro 5G 手机\n",
      "7. 【超值优惠】荣耀Magic2 5G 全网通智能手机\n",
      "8. 【限时促销】华硕(ASUS) ROG Phone 2 游戏手机\n",
      "9. 【新品上市】Apple/苹果 iPad Pro 11英寸 平板电脑\n",
      "10. 【热卖抢购】荣耀畅玩平板5 平板电脑\n",
      "11. 【大牌特惠】华为 Matebook 13 轻薄笔记本\n",
      "12. 【新款发售】联想(Lenovo)小新Air 13 轻薄笔记本\n",
      "13. 【爆款热卖】戴尔(DELL) XPS 13 9380 轻薄笔记本\n",
      "14. 【超值优惠】苹果MacBook Pro 15英寸笔记本\n",
      "15. 【限时促销】惠普(HP) Spectre x360 13 轻薄笔记本\n",
      "16. 【新品上市】Apple/苹果 AirPods Pro 蓝牙耳机\n",
      "17. 【热卖抢购】华为 FreeBuds 3 蓝牙耳机\n",
      "18. 【大牌特惠】Beats by Dr. Dre Studio 3 蓝牙耳机\n",
      "19. 【新款发售】华硕(ASUS) ROG Cetra 蓝牙耳机\n",
      "20. 【爆款热卖】小米小爱蓝牙耳机 Pro\n",
      "21. 【超值优惠】暴风 Storm 蓝牙耳机\n",
      "22. 【限时促销】JBL Tune 750BTNC 蓝牙耳机\n",
      "23. 【新品上市】Apple/苹果 Watch Series 5 智能手表\n",
      "24. 【热卖抢购】华为 GT2 智能手表\n",
      "25. 【大牌特惠】小米 Amazfit GTS 智能手表\n",
      "26. 【新款发售】三星 Galaxy Watch Active2 智能手表\n",
      "27. 【爆款热卖】OPPO Watch 智能手表\n",
      "28. 【超值优惠】vivo Watch 智能手表\n",
      "29. 【限时促销】荣耀 MagicWatch 2 智能手表\n",
      "30. 【新品上市】Apple/苹果 MacBook Air 13.3英寸笔记本\n",
      "31. 【热卖抢购】华硕(ASUS) ZenBook 13 轻薄笔记本\n",
      "32. 【大牌特惠】联想(Lenovo)小新7i 轻薄笔记本\n",
      "33. 【新款发售】惠普(HP) Envy 13 轻薄笔记本\n",
      "34. 【爆款热卖】戴尔(DELL) Inspiron 13 轻薄笔记本\n",
      "35. 【超值优惠】联想(Lenovo) ThinkPad X1 Carbon 轻薄笔记本\n",
      "36. 【限时促销】苹果MacBook Pro 16英寸笔记本\n",
      "37. 【新品上市】Apple/苹果 iPhone SE 2020 手机\n",
      "38. 【热卖抢购】华为 Mate30 5G 全网通手机\n",
      "39. 【大牌特惠】小米 10 5G 手机\n",
      "40. 【新款发售】三星 Galaxy S20 5G 智能手机\n",
      "41. 【爆款热卖】OPPO Find X2 Pro 5G 手机\n",
      "42. 【超值优惠】vivo X30 5G 手机\n",
      "43. 【限时促销】荣耀V30 Pro 5G 全网通手机\n",
      "44. 【新品上市】Apple/苹果 iPad Pro 12.9英寸 平板电脑\n",
      "45. 【热卖抢购】荣耀畅玩平板7 平板电脑\n",
      "46. 【大牌特惠】华为 Matebook 14 轻薄笔记本\n",
      "47. 【新款发售】联想(Lenovo)小新Air 14 轻薄笔记本\n",
      "48. 【爆款热卖】戴尔(DELL) XPS 15 9570 轻薄笔记本\n",
      "49. 【超值优惠】苹果MacBook Air 13英寸笔记本\n",
      "50. 【限时促销】惠普(HP) Envy 15 轻薄笔记本\n"
     ]
    }
   ],
   "source": [
    "import openai, os\n",
    "\n",
    "openai.api_key = os.environ.get(\"OPENAI_API_KEY\")\n",
    "\n",
    "COMPLETION_MODEL = \"text-davinci-003\"\n",
    "\n",
    "def generate_data_by_prompt(prompt):\n",
    "    response = openai.Completion.create(\n",
    "        engine=COMPLETION_MODEL,\n",
    "        prompt=prompt,\n",
    "        temperature=0.5,\n",
    "        max_tokens=2048,\n",
    "        top_p=1,\n",
    "    )\n",
    "    return response.choices[0].text # type: ignore\n",
    "\n",
    "prompt = \"\"\"请你生成50条淘宝网里的商品的标题，每条在30个字左右，品类是3C数码产品，标题里往往也会有一些促销类的信息，每行一条。\"\"\"\n",
    "data = generate_data_by_prompt(prompt)\n",
    "print(data)"
   ]
  },
  {
   "cell_type": "code",
   "execution_count": 66,
   "metadata": {},
   "outputs": [
    {
     "data": {
      "text/html": [
       "<div>\n",
       "<style scoped>\n",
       "    .dataframe tbody tr th:only-of-type {\n",
       "        vertical-align: middle;\n",
       "    }\n",
       "\n",
       "    .dataframe tbody tr th {\n",
       "        vertical-align: top;\n",
       "    }\n",
       "\n",
       "    .dataframe thead th {\n",
       "        text-align: right;\n",
       "    }\n",
       "</style>\n",
       "<table border=\"1\" class=\"dataframe\">\n",
       "  <thead>\n",
       "    <tr style=\"text-align: right;\">\n",
       "      <th></th>\n",
       "      <th>product_name</th>\n",
       "    </tr>\n",
       "  </thead>\n",
       "  <tbody>\n",
       "    <tr>\n",
       "      <th>0</th>\n",
       "      <td>1. 【新品上市】Apple/苹果 iPhone 11 Pro Max 手机</td>\n",
       "    </tr>\n",
       "    <tr>\n",
       "      <th>1</th>\n",
       "      <td>2. 【限时优惠】华为 Mate30 Pro 5G 全网通手机</td>\n",
       "    </tr>\n",
       "    <tr>\n",
       "      <th>2</th>\n",
       "      <td>3. 【热卖抢购】小米 10 Pro 旗舰版 5G 手机</td>\n",
       "    </tr>\n",
       "    <tr>\n",
       "      <th>3</th>\n",
       "      <td>4. 【新款发售】三星 Galaxy S20 Plus 5G 智能手机</td>\n",
       "    </tr>\n",
       "    <tr>\n",
       "      <th>4</th>\n",
       "      <td>5. 【大牌特惠】OPPO Reno2 Z 全网通手机</td>\n",
       "    </tr>\n",
       "  </tbody>\n",
       "</table>\n",
       "</div>"
      ],
      "text/plain": [
       "                             product_name\n",
       "0  1. 【新品上市】Apple/苹果 iPhone 11 Pro Max 手机\n",
       "1         2. 【限时优惠】华为 Mate30 Pro 5G 全网通手机\n",
       "2            3. 【热卖抢购】小米 10 Pro 旗舰版 5G 手机\n",
       "3     4. 【新款发售】三星 Galaxy S20 Plus 5G 智能手机\n",
       "4             5. 【大牌特惠】OPPO Reno2 Z 全网通手机"
      ]
     },
     "execution_count": 66,
     "metadata": {},
     "output_type": "execute_result"
    }
   ],
   "source": [
    "import pandas as pd\n",
    "\n",
    "product_names = data.strip().split('\\n')\n",
    "df = pd.DataFrame({'product_name': product_names})\n",
    "df.head()"
   ]
  },
  {
   "cell_type": "code",
   "execution_count": 67,
   "metadata": {},
   "outputs": [
    {
     "data": {
      "text/html": [
       "<div>\n",
       "<style scoped>\n",
       "    .dataframe tbody tr th:only-of-type {\n",
       "        vertical-align: middle;\n",
       "    }\n",
       "\n",
       "    .dataframe tbody tr th {\n",
       "        vertical-align: top;\n",
       "    }\n",
       "\n",
       "    .dataframe thead th {\n",
       "        text-align: right;\n",
       "    }\n",
       "</style>\n",
       "<table border=\"1\" class=\"dataframe\">\n",
       "  <thead>\n",
       "    <tr style=\"text-align: right;\">\n",
       "      <th></th>\n",
       "      <th>product_name</th>\n",
       "    </tr>\n",
       "  </thead>\n",
       "  <tbody>\n",
       "    <tr>\n",
       "      <th>0</th>\n",
       "      <td>【新品上市】Apple/苹果 iPhone 11 Pro Max 手机</td>\n",
       "    </tr>\n",
       "    <tr>\n",
       "      <th>1</th>\n",
       "      <td>【限时优惠】华为 Mate30 Pro 5G 全网通手机</td>\n",
       "    </tr>\n",
       "    <tr>\n",
       "      <th>2</th>\n",
       "      <td>【热卖抢购】小米 10 Pro 旗舰版 5G 手机</td>\n",
       "    </tr>\n",
       "    <tr>\n",
       "      <th>3</th>\n",
       "      <td>【新款发售】三星 Galaxy S20 Plus 5G 智能手机</td>\n",
       "    </tr>\n",
       "    <tr>\n",
       "      <th>4</th>\n",
       "      <td>【大牌特惠】OPPO Reno2 Z 全网通手机</td>\n",
       "    </tr>\n",
       "  </tbody>\n",
       "</table>\n",
       "</div>"
      ],
      "text/plain": [
       "                          product_name\n",
       "0  【新品上市】Apple/苹果 iPhone 11 Pro Max 手机\n",
       "1         【限时优惠】华为 Mate30 Pro 5G 全网通手机\n",
       "2            【热卖抢购】小米 10 Pro 旗舰版 5G 手机\n",
       "3     【新款发售】三星 Galaxy S20 Plus 5G 智能手机\n",
       "4             【大牌特惠】OPPO Reno2 Z 全网通手机"
      ]
     },
     "execution_count": 67,
     "metadata": {},
     "output_type": "execute_result"
    }
   ],
   "source": [
    "df.product_name = df.product_name.apply(lambda x: x.split('.')[1].strip())\n",
    "df.head()"
   ]
  },
  {
   "cell_type": "code",
   "execution_count": 68,
   "metadata": {},
   "outputs": [],
   "source": [
    "clothes_prompt = \"\"\"请你生成50条淘宝网里的商品的标题，每条在30个字左右，品类是女性的服饰箱包等等，标题里往往也会有一些促销类的信息，每行一条。\"\"\"\n",
    "clothes_data = generate_data_by_prompt(clothes_prompt)\n",
    "clothes_product_names = clothes_data.strip().split('\\n')"
   ]
  },
  {
   "cell_type": "code",
   "execution_count": 69,
   "metadata": {},
   "outputs": [
    {
     "data": {
      "text/html": [
       "<div>\n",
       "<style scoped>\n",
       "    .dataframe tbody tr th:only-of-type {\n",
       "        vertical-align: middle;\n",
       "    }\n",
       "\n",
       "    .dataframe tbody tr th {\n",
       "        vertical-align: top;\n",
       "    }\n",
       "\n",
       "    .dataframe thead th {\n",
       "        text-align: right;\n",
       "    }\n",
       "</style>\n",
       "<table border=\"1\" class=\"dataframe\">\n",
       "  <thead>\n",
       "    <tr style=\"text-align: right;\">\n",
       "      <th></th>\n",
       "      <th>product_name</th>\n",
       "    </tr>\n",
       "  </thead>\n",
       "  <tbody>\n",
       "    <tr>\n",
       "      <th>0</th>\n",
       "      <td>【热销】夏季新款紧身牛仔裤女装</td>\n",
       "    </tr>\n",
       "    <tr>\n",
       "      <th>1</th>\n",
       "      <td>潮流时尚真皮手提包女包</td>\n",
       "    </tr>\n",
       "    <tr>\n",
       "      <th>2</th>\n",
       "      <td>新款淑女风百搭小包</td>\n",
       "    </tr>\n",
       "    <tr>\n",
       "      <th>3</th>\n",
       "      <td>夏季特惠精美水桶包</td>\n",
       "    </tr>\n",
       "    <tr>\n",
       "      <th>4</th>\n",
       "      <td>【折扣】夏季款潮流双肩包</td>\n",
       "    </tr>\n",
       "  </tbody>\n",
       "</table>\n",
       "</div>"
      ],
      "text/plain": [
       "      product_name\n",
       "0  【热销】夏季新款紧身牛仔裤女装\n",
       "1      潮流时尚真皮手提包女包\n",
       "2        新款淑女风百搭小包\n",
       "3        夏季特惠精美水桶包\n",
       "4     【折扣】夏季款潮流双肩包"
      ]
     },
     "execution_count": 69,
     "metadata": {},
     "output_type": "execute_result"
    }
   ],
   "source": [
    "clothes_df = pd.DataFrame({'product_name': clothes_product_names})\n",
    "clothes_df.product_name = clothes_df.product_name.apply(lambda x: x.split('.')[1].strip())\n",
    "clothes_df.head()"
   ]
  },
  {
   "cell_type": "code",
   "execution_count": 70,
   "metadata": {},
   "outputs": [
    {
     "name": "stdout",
     "output_type": "stream",
     "text": [
      "0     【新品上市】Apple/苹果 iPhone 11 Pro Max 手机\n",
      "1            【限时优惠】华为 Mate30 Pro 5G 全网通手机\n",
      "2               【热卖抢购】小米 10 Pro 旗舰版 5G 手机\n",
      "3        【新款发售】三星 Galaxy S20 Plus 5G 智能手机\n",
      "4                【大牌特惠】OPPO Reno2 Z 全网通手机\n",
      "                     ...                 \n",
      "95                           新款夏季潮流女士双肩背包\n",
      "96                         【折扣】夏季款潮流男士手拿包\n",
      "97                            夏季特惠时尚拼接拉杆包\n",
      "98                           夏季特价潮流男士双肩背包\n",
      "99                         【热销】夏季款潮流女士斜挎包\n",
      "Name: product_name, Length: 100, dtype: object\n"
     ]
    }
   ],
   "source": [
    "df = pd.concat([df, clothes_df], axis=0)\n",
    "df = df.reset_index(drop=True)\n",
    "print(df.product_name)"
   ]
  },
  {
   "cell_type": "code",
   "execution_count": 71,
   "metadata": {},
   "outputs": [
    {
     "data": {
      "text/html": [
       "<div>\n",
       "<style scoped>\n",
       "    .dataframe tbody tr th:only-of-type {\n",
       "        vertical-align: middle;\n",
       "    }\n",
       "\n",
       "    .dataframe tbody tr th {\n",
       "        vertical-align: top;\n",
       "    }\n",
       "\n",
       "    .dataframe thead th {\n",
       "        text-align: right;\n",
       "    }\n",
       "</style>\n",
       "<table border=\"1\" class=\"dataframe\">\n",
       "  <thead>\n",
       "    <tr style=\"text-align: right;\">\n",
       "      <th></th>\n",
       "      <th>product_name</th>\n",
       "    </tr>\n",
       "  </thead>\n",
       "  <tbody>\n",
       "    <tr>\n",
       "      <th>0</th>\n",
       "      <td>【新品上市】Apple/苹果 iPhone 11 Pro Max 手机</td>\n",
       "    </tr>\n",
       "    <tr>\n",
       "      <th>1</th>\n",
       "      <td>【限时优惠】华为 Mate30 Pro 5G 全网通手机</td>\n",
       "    </tr>\n",
       "    <tr>\n",
       "      <th>2</th>\n",
       "      <td>【热卖抢购】小米 10 Pro 旗舰版 5G 手机</td>\n",
       "    </tr>\n",
       "    <tr>\n",
       "      <th>3</th>\n",
       "      <td>【新款发售】三星 Galaxy S20 Plus 5G 智能手机</td>\n",
       "    </tr>\n",
       "    <tr>\n",
       "      <th>4</th>\n",
       "      <td>【大牌特惠】OPPO Reno2 Z 全网通手机</td>\n",
       "    </tr>\n",
       "    <tr>\n",
       "      <th>...</th>\n",
       "      <td>...</td>\n",
       "    </tr>\n",
       "    <tr>\n",
       "      <th>95</th>\n",
       "      <td>新款夏季潮流女士双肩背包</td>\n",
       "    </tr>\n",
       "    <tr>\n",
       "      <th>96</th>\n",
       "      <td>【折扣】夏季款潮流男士手拿包</td>\n",
       "    </tr>\n",
       "    <tr>\n",
       "      <th>97</th>\n",
       "      <td>夏季特惠时尚拼接拉杆包</td>\n",
       "    </tr>\n",
       "    <tr>\n",
       "      <th>98</th>\n",
       "      <td>夏季特价潮流男士双肩背包</td>\n",
       "    </tr>\n",
       "    <tr>\n",
       "      <th>99</th>\n",
       "      <td>【热销】夏季款潮流女士斜挎包</td>\n",
       "    </tr>\n",
       "  </tbody>\n",
       "</table>\n",
       "<p>100 rows × 1 columns</p>\n",
       "</div>"
      ],
      "text/plain": [
       "                           product_name\n",
       "0   【新品上市】Apple/苹果 iPhone 11 Pro Max 手机\n",
       "1          【限时优惠】华为 Mate30 Pro 5G 全网通手机\n",
       "2             【热卖抢购】小米 10 Pro 旗舰版 5G 手机\n",
       "3      【新款发售】三星 Galaxy S20 Plus 5G 智能手机\n",
       "4              【大牌特惠】OPPO Reno2 Z 全网通手机\n",
       "..                                  ...\n",
       "95                         新款夏季潮流女士双肩背包\n",
       "96                       【折扣】夏季款潮流男士手拿包\n",
       "97                          夏季特惠时尚拼接拉杆包\n",
       "98                         夏季特价潮流男士双肩背包\n",
       "99                       【热销】夏季款潮流女士斜挎包\n",
       "\n",
       "[100 rows x 1 columns]"
      ]
     },
     "metadata": {},
     "output_type": "display_data"
    }
   ],
   "source": [
    "display(df)"
   ]
  },
  {
   "cell_type": "code",
   "execution_count": 72,
   "metadata": {},
   "outputs": [],
   "source": [
    "df.to_csv(\"data/product_names.csv\")"
   ]
  },
  {
   "cell_type": "code",
   "execution_count": 73,
   "metadata": {},
   "outputs": [],
   "source": [
    "from openai.embeddings_utils import get_embeddings\n",
    "import openai, os, backoff\n",
    "\n",
    "openai.api_key = os.environ.get(\"OPENAI_API_KEY\")\n",
    "embedding_model = \"text-embedding-ada-002\"\n",
    "\n",
    "batch_size = 100\n",
    "\n",
    "@backoff.on_exception(backoff.expo, openai.error.RateLimitError) # type: ignore\n",
    "def get_embeddings_with_backoff(prompts, engine):\n",
    "    embeddings = []\n",
    "    for i in range(0, len(prompts), batch_size):\n",
    "        batch = prompts[i:i+batch_size]\n",
    "        embeddings += get_embeddings(list_of_text=batch, engine=engine)\n",
    "    return embeddings\n",
    "\n",
    "prompts = df.product_name.tolist()\n",
    "prompt_batches = [prompts[i:i+batch_size] for i in range(0, len(prompts), batch_size)]\n",
    "\n",
    "embeddings = []\n",
    "for batch in prompt_batches:\n",
    "    batch_embeddings = get_embeddings_with_backoff(prompts=batch, engine=embedding_model)\n",
    "    embeddings += batch_embeddings\n",
    "\n",
    "df[\"embedding\"] = embeddings\n",
    "df.to_parquet(\"data/taobao_product_title.parquet\", index=False)"
   ]
  },
  {
   "cell_type": "code",
   "execution_count": 74,
   "metadata": {},
   "outputs": [
    {
     "name": "stdout",
     "output_type": "stream",
     "text": [
      "【大牌特惠】小米 10 5G 手机\n",
      "【热卖抢购】小米 10 Pro 旗舰版 5G 手机\n",
      "【爆款热卖】vivo X30 Pro 5G 手机\n"
     ]
    }
   ],
   "source": [
    "from openai.embeddings_utils import get_embedding, cosine_similarity\n",
    "\n",
    "# search through the reviews for a specific product\n",
    "def search_product(df, query, n=3, pprint=True):\n",
    "    product_embedding = get_embedding(\n",
    "        query,\n",
    "        engine=embedding_model\n",
    "    )\n",
    "    df[\"similarity\"] = df.embedding.apply(lambda x: cosine_similarity(x, product_embedding))\n",
    "\n",
    "    results = (\n",
    "        df.sort_values(\"similarity\", ascending=False)\n",
    "        .head(n)\n",
    "        .product_name\n",
    "    )\n",
    "    if pprint:\n",
    "        for r in results:\n",
    "            print(r)\n",
    "    return results\n",
    "\n",
    "\n",
    "results = search_product(df, \"小米手机\", n=3)"
   ]
  },
  {
   "cell_type": "markdown",
   "metadata": {},
   "source": [
    "### 使用向量数据库加速搜索过程"
   ]
  },
  {
   "cell_type": "code",
   "execution_count": 75,
   "metadata": {},
   "outputs": [],
   "source": [
    "import faiss\n",
    "import numpy as np\n",
    "\n",
    "def load_embeddings_to_faiss(df):\n",
    "    embeddings = np.array(df['embedding'].tolist()).astype('float32')\n",
    "    index = faiss.IndexFlatL2(embeddings.shape[1])\n",
    "    index.add(embeddings) # type: ignore\n",
    "    return index"
   ]
  },
  {
   "cell_type": "code",
   "execution_count": 77,
   "metadata": {},
   "outputs": [
    {
     "data": {
      "text/plain": [
       "<bound method NDFrame.head of                          id  code          category   \n",
       "0       6551700932705387022   101      news_culture  \\\n",
       "1       6552368441838272771   101      news_culture   \n",
       "2       6552407965343678723   101      news_culture   \n",
       "3       6552332417753940238   101      news_culture   \n",
       "4       6552475601595269390   101      news_culture   \n",
       "...                     ...   ...               ...   \n",
       "382683  6554578634403741966   109         news_tech   \n",
       "382684  6554623450374209806   110     news_military   \n",
       "382685  6554489948580348424   113        news_world   \n",
       "382686  6554706019040100611   113        news_world   \n",
       "382687  6554360505438306824   115  news_agriculture   \n",
       "\n",
       "                                  title                  keywords   \n",
       "0                      京城最值得你来场文化之旅的博物馆  保利集团,马未都,中国科学技术馆,博物馆,新中国  \\\n",
       "1                     发酵床的垫料种类有哪些？哪种更好？                             \n",
       "2                 上联：黄山黄河黄皮肤黄土高原。怎么对下联？                             \n",
       "3             林徽因什么理由拒绝了徐志摩而选择梁思成为终身伴侣？                             \n",
       "4                              黄杨木是什么树？                             \n",
       "...                                 ...                       ...   \n",
       "382683          A10处理器iPhone SE二代值得期待吗？                             \n",
       "382684  先进战机叛逃将带来重大损失，美军如何防止F22飞行员驾机叛逃？                             \n",
       "382685    又一国领导人放话，只要普京下令，数万大军“碾压”美国白宫！         以色列,普京,俄罗斯,叙利亚,车臣   \n",
       "382686        如何看待美国总统连续撕毁美国签署的国际协议的举动？                             \n",
       "382687           农博会上，公安100余种土特产成了抢手货……    特色农产品,农博会,荆州市,生物科技,公安县   \n",
       "\n",
       "                                                 combined  n_tokens   \n",
       "0       标题: 京城最值得你来场文化之旅的博物馆; 关键字: 保利集团,马未都,中国科学技术馆,博物...        56  \\\n",
       "1                            标题: 发酵床的垫料种类有哪些？哪种更好？; 关键字:         32   \n",
       "2                        标题: 上联：黄山黄河黄皮肤黄土高原。怎么对下联？; 关键字:         37   \n",
       "3                    标题: 林徽因什么理由拒绝了徐志摩而选择梁思成为终身伴侣？; 关键字:         44   \n",
       "4                                     标题: 黄杨木是什么树？; 关键字:         20   \n",
       "...                                                   ...       ...   \n",
       "382683                 标题: A10处理器iPhone SE二代值得期待吗？; 关键字:         23   \n",
       "382684         标题: 先进战机叛逃将带来重大损失，美军如何防止F22飞行员驾机叛逃？; 关键字:         50   \n",
       "382685  标题: 又一国领导人放话，只要普京下令，数万大军“碾压”美国白宫！; 关键字: 以色列,普京...        70   \n",
       "382686               标题: 如何看待美国总统连续撕毁美国签署的国际协议的举动？; 关键字:         40   \n",
       "382687  标题: 农博会上，公安100余种土特产成了抢手货……; 关键字: 特色农产品,农博会,荆州市...        55   \n",
       "\n",
       "                                                embedding  \n",
       "0       [-0.02160128578543663, -0.004615371115505695, ...  \n",
       "1       [0.014646276831626892, -0.0075576393865048885,...  \n",
       "2       [0.012643996626138687, 0.0035733033437281847, ...  \n",
       "3       [-0.0004984583356417716, -0.016934111714363098...  \n",
       "4       [-0.0008294825092889369, -0.013883085921406746...  \n",
       "...                                                   ...  \n",
       "382683  [-0.00946888793259859, 0.0019106261897832155, ...  \n",
       "382684  [-0.020892947912216187, -0.022526662796735764,...  \n",
       "382685  [-0.03224752098321915, -0.018219713121652603, ...  \n",
       "382686  [-0.03162332996726036, -0.01479333359748125, 0...  \n",
       "382687  [-0.005016508512198925, -0.0130994264036417, 0...  \n",
       "\n",
       "[382688 rows x 8 columns]>"
      ]
     },
     "execution_count": 77,
     "metadata": {},
     "output_type": "execute_result"
    }
   ],
   "source": [
    "toutiao_df = pd.read_parquet(\"/Users/chenyanbin/codebase/ai/AI-Learning/AI大模型之美/toutiao_cat_data_all_with_embeddings.parquet\")\n",
    "toutiao_df.head"
   ]
  },
  {
   "cell_type": "code",
   "execution_count": 78,
   "metadata": {},
   "outputs": [],
   "source": [
    "index = load_embeddings_to_faiss(toutiao_df)"
   ]
  },
  {
   "cell_type": "code",
   "execution_count": 79,
   "metadata": {},
   "outputs": [],
   "source": [
    "def search_index(index, df, query_embedding, k=5):\n",
    "    query_vector = np.array(query_embedding).reshape(1, -1).astype('float32')\n",
    "    distances, indexes = index.search(query_vector, k)\n",
    "\n",
    "    results = []\n",
    "    for i in range(len(indexes)):\n",
    "        news = df.iloc[indexes[i]]['title'].values.tolist()\n",
    "        results.append((distances[i], news))    \n",
    "    return results\n",
    "\n"
   ]
  },
  {
   "cell_type": "code",
   "execution_count": 80,
   "metadata": {},
   "outputs": [
    {
     "name": "stdout",
     "output_type": "stream",
     "text": [
      "0.2007157802581787\n",
      "[(array([0.22066495, 0.22609487, 0.22846496], dtype=float32), ['超26亿元 北京七家车企将获新能源国补', '北上资金维持积极布局节奏 本周斥逾65亿元加码18只个股', '北上资金维持积极布局节奏 本周斥65亿加码18只个股'])]\n"
     ]
    }
   ],
   "source": [
    "import time\n",
    "\n",
    "query = \"北上资金净买入超百亿元 重点加仓新能源汽车产业\"\n",
    "query_embedding = get_embedding(query, engine=embedding_model)\n",
    "\n",
    "start = time.time()\n",
    "news = search_index(index, toutiao_df, query_embedding, k=3)\n",
    "end = time.time()\n",
    "print(end - start)\n",
    "print(news)"
   ]
  },
  {
   "cell_type": "markdown",
   "metadata": {},
   "source": [
    "### 完全暴力检索的速度"
   ]
  },
  {
   "cell_type": "code",
   "execution_count": 81,
   "metadata": {},
   "outputs": [],
   "source": [
    "from openai.embeddings_utils import get_embedding, cosine_similarity\n",
    "\n",
    "# search through the reviews for a specific product\n",
    "def search_index_brutal_force(df, query_embedding, n=3):\n",
    "    df[\"similarity\"] = df.embedding.apply(lambda x: cosine_similarity(x, query_embedding))\n",
    "\n",
    "    results = (\n",
    "        df.sort_values(\"similarity\", ascending=False)\n",
    "        .head(n)\n",
    "        .title\n",
    "    )\n",
    "    return results\n"
   ]
  },
  {
   "cell_type": "code",
   "execution_count": 82,
   "metadata": {},
   "outputs": [
    {
     "name": "stdout",
     "output_type": "stream",
     "text": [
      "43.65423893928528\n",
      "195956             超26亿元 北京七家车企将获新能源国补\n",
      "322070    北上资金维持积极布局节奏 本周斥逾65亿元加码18只个股\n",
      "321835      北上资金维持积极布局节奏 本周斥65亿加码18只个股\n",
      "Name: title, dtype: object\n"
     ]
    }
   ],
   "source": [
    "import time\n",
    "\n",
    "start = time.time()\n",
    "news = search_index_brutal_force(toutiao_df, query_embedding, n=3)\n",
    "end = time.time()\n",
    "print(end - start)\n",
    "print(news)"
   ]
  },
  {
   "cell_type": "markdown",
   "metadata": {},
   "source": [
    "## 通过知识库解决幻觉问题"
   ]
  },
  {
   "cell_type": "markdown",
   "metadata": {},
   "source": [
    "### 藤野先生的例子"
   ]
  },
  {
   "cell_type": "code",
   "execution_count": 88,
   "metadata": {},
   "outputs": [
    {
     "name": "stdout",
     "output_type": "stream",
     "text": [
      "\n",
      "\n",
      "鲁迅先生在日本学习医学的老师是高村光太郎。\n"
     ]
    }
   ],
   "source": [
    "import openai\n",
    "import os\n",
    "\n",
    "openai.api_key = os.environ.get(\"OPENAI_API_KEY\")\n",
    "COMPLETION_MODEL = \"text-davinci-003\"\n",
    "\n",
    "def get_response(prompt):\n",
    "    completions = openai.Completion.create(\n",
    "        engine=COMPLETION_MODEL,\n",
    "        prompt=prompt,\n",
    "        max_tokens=512,\n",
    "        n=1,\n",
    "        stop=None,\n",
    "        temperature=0.0,        \n",
    "    )\n",
    "    return completions\n",
    "\n",
    "\n",
    "answer = get_response(\"鲁迅先生在日本学习医学的老师是谁？\")\n",
    "print(answer.choices[0].text) #type: ignore\n"
   ]
  },
  {
   "cell_type": "code",
   "execution_count": 1,
   "metadata": {},
   "outputs": [
    {
     "name": "stderr",
     "output_type": "stream",
     "text": [
      "[nltk_data] Downloading package punkt to\n",
      "[nltk_data]     /Users/chenyanbin/Library/Caches/llama_index...\n",
      "[nltk_data]   Unzipping tokenizers/punkt.zip.\n"
     ]
    },
    {
     "name": "stdout",
     "output_type": "stream",
     "text": [
      "鲁迅先生在日本学习医学的老师是藤野先生。\n"
     ]
    }
   ],
   "source": [
    "import openai, os\n",
    "from llama_index import VectorStoreIndex, SimpleDirectoryReader\n",
    "\n",
    "openai.api_key = os.environ.get(\"OPENAI_API_KEY\")\n",
    "\n",
    "documents = SimpleDirectoryReader('./data/mr_fujino').load_data()\n",
    "index = VectorStoreIndex.from_documents(documents)\n",
    "\n",
    "query_engine = index.as_query_engine()\n",
    "response = query_engine.query(\"鲁迅先生在日本学习医学的老师是谁？\")\n",
    "print(response)\n"
   ]
  },
  {
   "cell_type": "markdown",
   "metadata": {},
   "source": [
    "### 自问自答进行数据增强"
   ]
  },
  {
   "cell_type": "code",
   "execution_count": 75,
   "metadata": {},
   "outputs": [
    {
     "name": "stdout",
     "output_type": "stream",
     "text": [
      "\n",
      "Q1：什么是卷积神经网络（CNN）？\n",
      "A1：卷积神经网络（CNN）是一种深度学习算法，特别适合于处理具有网格结构（如图像）的数据。CNN 的设计灵感来自于生物的视觉皮层机制，通过对输入数据的局部感知和参数共享的特性，使得网络对图像的平移等变化有较好的鲁棒性。\n",
      "\n",
      "Q2：CNN 的基本构成部分有哪些？\n",
      "A2：CNN 的基本构成部分包括：卷积层、激活层（ReLU）、池化层（Pooling）以及全连接层（Fully Connected Layer）。这些层次交织形成了一个典型的 CNN 结构。\n",
      "\n",
      "Q3：卷积层的作用是什么？\n",
      "A3：卷积层是 CNN 的核心，主要进行特征提取。卷积层通过滤波器（或称为卷积核）在输入数据上进行滑动卷积操作，以获取局部特征。同时，同一卷积层的所有滤波器共享参数，减少了模型复杂度。\n",
      "\n",
      "Q4：激活层的作用是什么？\n",
      "A4：激活层通常在卷积层之后接一个激活层，如 ReLU、tanh 或 sigmoid 等。激活函数的目的是引入非线性因素，使得网络可以拟合更复杂的函数。\n",
      "\n",
      "Q5：池化层的作用是什么？\n",
      "A5：池化层通常在卷积层之后，用来降低特征的维度，防止过拟合。常见的池化方式有最大池化（Max Pooling）、平均池化（Average Pooling）等。\n",
      "\n",
      "Q6：全连接层的作用是什么？\n",
      "A6：全连接层在整个网络的最后一般会有全连接层，用于将前面提取的特征进行融合，并输出结果。在分类问题中，输出层通常会接一个 softmax 层进行概率归一化，使得输出可以解释为概率。\n",
      "\n",
      "Q7：现代的 CNN 架构有哪些？\n",
      "A7：现代的 CNN 架构有残差连接（ResNet）、空洞卷积（Dilated Convolution）、深度可分离卷积（Depthwise Separable Convolution）等等。\n",
      "\n",
      "Q8：CNN 在哪些问题上有显著的表现？\n",
      "A8：CNN 在图像分类、检测、分割等问题上有显著的表现。\n",
      "\n",
      "Q9：有哪些经典的 CNN 架构？\n",
      "A9：经典的 CNN 架构有 LeNet-5、AlexNet、VGG、GoogLeNet、ResNet 等。\n"
     ]
    }
   ],
   "source": [
    "content = \"\"\"卷积神经网络（Convolutional Neural Networks，简称 CNN）是一种深度学习算法，特别适合于处理具有网格结构（如图像）的数据。CNN 的设计灵感来自于生物的视觉皮层机制，通过对输入数据的局部感知和参数共享的特性，使得网络对图像的平移等变化有较好的鲁棒性。\n",
    "\n",
    "CNN 的基本构成部分包括：卷积层、激活层（ReLU）、池化层（Pooling）以及全连接层（Fully Connected Layer）。这些层次交织形成了一个典型的 CNN 结构。\n",
    "\n",
    "卷积层：这是 CNN 的核心，主要进行特征提取。卷积层通过滤波器（或称为卷积核）在输入数据上进行滑动卷积操作，以获取局部特征。同时，同一卷积层的所有滤波器共享参数，减少了模型复杂度。\n",
    "\n",
    "激活层：通常在卷积层之后接一个激活层，如 ReLU、tanh 或 sigmoid 等。激活函数的目的是引入非线性因素，使得网络可以拟合更复杂的函数。\n",
    "\n",
    "池化层：池化层通常在卷积层之后，用来降低特征的维度，防止过拟合。常见的池化方式有最大池化（Max Pooling）、平均池化（Average Pooling）等。\n",
    "\n",
    "全连接层：在整个网络的最后一般会有全连接层，用于将前面提取的特征进行融合，并输出结果。在分类问题中，输出层通常会接一个 softmax 层进行概率归一化，使得输出可以解释为概率。\n",
    "\n",
    "以上是 CNN 的基本结构，但实际上现代的 CNN 架构已经远超这些基础层次，如残差连接（ResNet）、空洞卷积（Dilated Convolution）、深度可分离卷积（Depthwise Separable Convolution）等等。\n",
    "\n",
    "CNN 在图像分类、检测、分割等问题上有显著的表现。经典的 CNN 架构有 LeNet-5、AlexNet、VGG、GoogLeNet、ResNet 等。\n",
    "\"\"\"\n",
    "\n",
    "prompt = f\"\"\"请针对>>>和<<<之间的内容，设计一系列的FAQ问题，以及对应的答案。\n",
    "<<<{content}>>>\"\"\"\n",
    "\n",
    "\n",
    "import openai\n",
    "import os\n",
    "\n",
    "openai.api_key = os.environ.get(\"OPENAI_API_KEY\")\n",
    "COMPLETION_MODEL = \"text-davinci-003\"\n",
    "\n",
    "\n",
    "def get_response(prompt):\n",
    "    completions = openai.Completion.create (\n",
    "        engine=COMPLETION_MODEL,\n",
    "        prompt=prompt,\n",
    "        max_tokens=2048,\n",
    "        n=1,\n",
    "        stop=None,\n",
    "        temperature=0.0,        \n",
    "    )\n",
    "    message = completions['choices'][0].text # type: ignore\n",
    "    return message\n",
    "\n",
    "answer = get_response(prompt)\n",
    "print(answer)\n"
   ]
  },
  {
   "cell_type": "code",
   "execution_count": 78,
   "metadata": {},
   "outputs": [
    {
     "name": "stdout",
     "output_type": "stream",
     "text": [
      "['\\nQ1：什么是卷积神经网络（CNN）？\\nA1：卷积神经网络（CNN）是一种深度学习算法，特别适合于处理具有网格结构（如图像）的数据。CNN 的设计灵感来自于生物的视觉皮层机制，通过对输入数据的局部感知和参数共享的特性，使得网络对图像的平移等变化有较好的鲁棒性。', 'Q2：CNN 的基本构成部分有哪些？\\nA2：CNN 的基本构成部分包括：卷积层、激活层（ReLU）、池化层（Pooling）以及全连接层（Fully Connected Layer）。这些层次交织形成了一个典型的 CNN 结构。', 'Q3：卷积层的作用是什么？\\nA3：卷积层是 CNN 的核心，主要进行特征提取。卷积层通过滤波器（或称为卷积核）在输入数据上进行滑动卷积操作，以获取局部特征。同时，同一卷积层的所有滤波器共享参数，减少了模型复杂度。', 'Q4：激活层的作用是什么？\\nA4：激活层通常在卷积层之后接一个激活层，如 ReLU、tanh 或 sigmoid 等。激活函数的目的是引入非线性因素，使得网络可以拟合更复杂的函数。', 'Q5：池化层的作用是什么？\\nA5：池化层通常在卷积层之后，用来降低特征的维度，防止过拟合。常见的池化方式有最大池化（Max Pooling）、平均池化（Average Pooling）等。', 'Q6：全连接层的作用是什么？\\nA6：全连接层在整个网络的最后一般会有全连接层，用于将前面提取的特征进行融合，并输出结果。在分类问题中，输出层通常会接一个 softmax 层进行概率归一化，使得输出可以解释为概率。', 'Q7：现代的 CNN 架构有哪些？\\nA7：现代的 CNN 架构有残差连接（ResNet）、空洞卷积（Dilated Convolution）、深度可分离卷积（Depthwise Separable Convolution）等等。', 'Q8：CNN 在哪些问题上有显著的表现？\\nA8：CNN 在图像分类、检测、分割等问题上有显著的表现。', 'Q9：有哪些经典的 CNN 架构？\\nA9：经典的 CNN 架构有 LeNet-5、AlexNet、VGG、GoogLeNet、ResNet 等。']\n",
      "\n",
      "现代的 CNN 架构有残差连接（ResNet）、空洞卷积（Dilated Convolution）、深度可分离卷积（Depthwise Separable Convolution）等等。\n"
     ]
    }
   ],
   "source": [
    "faq = answer.split(\"\\n\\n\")\n",
    "print(faq)\n",
    "\n",
    "\n",
    "import openai, os\n",
    "from llama_index import Document, VectorStoreIndex, SimpleDirectoryReader\n",
    "\n",
    "openai.api_key = os.environ.get(\"OPENAI_API_KEY\")\n",
    "\n",
    "documents = []\n",
    "for qa in faq:\n",
    "    documents.append(Document(qa))\n",
    "\n",
    "index = VectorStoreIndex.from_documents(documents)\n",
    "\n",
    "query_engine = index.as_query_engine()\n",
    "response = query_engine.query(\"现代CNN架构有哪些？\")\n",
    "print(response)\n"
   ]
  },
  {
   "cell_type": "markdown",
   "metadata": {},
   "source": [
    "### 作业 or 练习题\n",
    "\n",
    "是否可以通过llama-index来实现Self-Ask的功能？"
   ]
  },
  {
   "cell_type": "markdown",
   "metadata": {},
   "source": [
    "## 通过多步骤的LLM和外部工具来解决问题"
   ]
  },
  {
   "cell_type": "markdown",
   "metadata": {},
   "source": [
    "### LLM做数学题"
   ]
  },
  {
   "cell_type": "code",
   "execution_count": 35,
   "metadata": {},
   "outputs": [
    {
     "name": "stdout",
     "output_type": "stream",
     "text": [
      "OpenAI API 说答案是: \n",
      "\n",
      "352 x 493 = 174,336\n",
      "Python 说答案是: 173536\n"
     ]
    }
   ],
   "source": [
    "import openai, os\n",
    "\n",
    "openai.api_key = os.environ.get(\"OPENAI_API_KEY\")\n",
    "\n",
    "from langchain.prompts import PromptTemplate\n",
    "from langchain.llms import OpenAI\n",
    "from langchain.chains import LLMChain\n",
    "\n",
    "\n",
    "llm = OpenAI(model_name=\"text-davinci-003\", max_tokens=2048, temperature=0.5) # type: ignore\n",
    "multiply_prompt = PromptTemplate(template=\"请计算一下{question}是多少?\", input_variables=[\"question\"])\n",
    "math_chain = LLMChain(llm=llm, prompt=multiply_prompt, output_key=\"answer\")\n",
    "answer = math_chain.run({\"question\": \"352乘以493\"})\n",
    "print(\"OpenAI API 说答案是:\", answer)\n",
    "\n",
    "python_answer = 352 * 493\n",
    "print(\"Python 说答案是:\", python_answer)"
   ]
  },
  {
   "cell_type": "code",
   "execution_count": 36,
   "metadata": {},
   "outputs": [
    {
     "name": "stdout",
     "output_type": "stream",
     "text": [
      "\n",
      "\n",
      "print(352 * 493)\n"
     ]
    }
   ],
   "source": [
    "multiply_by_python_prompt = PromptTemplate(template=\"请写一段Python代码，计算{question}?\", input_variables=[\"question\"])\n",
    "math_chain = LLMChain(llm=llm, prompt=multiply_by_python_prompt, output_key=\"answer\")\n",
    "answer = math_chain.run({\"question\": \"352乘以493\"})\n",
    "print(answer)"
   ]
  },
  {
   "cell_type": "code",
   "execution_count": 37,
   "metadata": {},
   "outputs": [
    {
     "name": "stdout",
     "output_type": "stream",
     "text": [
      "173536\n",
      "\n"
     ]
    }
   ],
   "source": [
    "multiply_by_python_prompt = PromptTemplate(template=\"请写一段Python代码，计算{question}?\", input_variables=[\"question\"])\n",
    "math_chain = LLMChain(llm=llm, prompt=multiply_by_python_prompt, output_key=\"answer\")\n",
    "answer_code = math_chain.run({\"question\": \"352乘以493\"})\n",
    "\n",
    "from langchain.utilities import PythonREPL\n",
    "python_repl = PythonREPL()\n",
    "result = python_repl.run(answer_code)\n",
    "print(result)"
   ]
  },
  {
   "cell_type": "code",
   "execution_count": 38,
   "metadata": {},
   "outputs": [
    {
     "name": "stderr",
     "output_type": "stream",
     "text": [
      "/Users/xuwenhao/miniconda3/envs/mactalk/lib/python3.10/site-packages/langchain/chains/llm_math/base.py:50: UserWarning: Directly instantiating an LLMMathChain with an llm is deprecated. Please instantiate with llm_chain argument or using the from_llm class method.\n",
      "  warnings.warn(\n",
      "Error in on_chain_start callback: 'name'\n"
     ]
    },
    {
     "name": "stdout",
     "output_type": "stream",
     "text": [
      "请计算一下352乘以493是多少?\u001b[32;1m\u001b[1;3m```text\n",
      "352 * 493\n",
      "```\n",
      "...numexpr.evaluate(\"352 * 493\")...\n",
      "\u001b[0m\n",
      "Answer: \u001b[33;1m\u001b[1;3m173536\u001b[0m\n",
      "\u001b[1m> Finished chain.\u001b[0m\n",
      "Answer: 173536\n"
     ]
    }
   ],
   "source": [
    "from langchain import LLMMathChain\n",
    "\n",
    "llm_math = LLMMathChain(llm=llm, verbose=True) #type: ignore\n",
    "result = llm_math.run(\"请计算一下352乘以493是多少?\")\n",
    "print(result)"
   ]
  },
  {
   "cell_type": "markdown",
   "metadata": {},
   "source": [
    "### LLM调用搜索引擎"
   ]
  },
  {
   "cell_type": "code",
   "execution_count": 29,
   "metadata": {},
   "outputs": [],
   "source": [
    "from langchain import LLMMathChain, OpenAI, SerpAPIWrapper\n",
    "from langchain.agents import initialize_agent, Tool\n",
    "from langchain.agents import AgentType\n",
    "\n",
    "llm = OpenAI(temperature=0) # type: ignore\n",
    "search = SerpAPIWrapper() # type: ignore\n",
    "llm_math_chain = LLMMathChain.from_llm(llm=llm, verbose=True)\n",
    "tools = [\n",
    "    Tool(\n",
    "        name=\"Search\",\n",
    "        func=search.run,\n",
    "        description=\"useful for when you need to answer questions about current events. You should ask targeted questions\"\n",
    "    ),\n",
    "]"
   ]
  },
  {
   "cell_type": "code",
   "execution_count": 31,
   "metadata": {},
   "outputs": [],
   "source": [
    "agent = initialize_agent(tools, llm, agent=AgentType.ZERO_SHOT_REACT_DESCRIPTION, verbose=True)"
   ]
  },
  {
   "cell_type": "code",
   "execution_count": 34,
   "metadata": {},
   "outputs": [
    {
     "name": "stderr",
     "output_type": "stream",
     "text": [
      "Error in on_chain_start callback: 'name'\n"
     ]
    },
    {
     "name": "stdout",
     "output_type": "stream",
     "text": [
      "\u001b[32;1m\u001b[1;3m I need to find out who will win the NBA championship in 2023\n",
      "Action: Search\n",
      "Action Input: 2023年NBA总冠军\u001b[0m\n",
      "Observation: \u001b[36;1m\u001b[1;3m2023年NBA总决赛（英语：2023 NBA Finals）是2022–23 NBA赛季的冠军系列赛，将由2023年6月1日至6月12日进行，由西部第一种子丹佛掘金对战东部第八种子迈阿密热火，比赛采用七场四胜制2-2-1-1-1的形式，常规赛战绩较佳的丹佛掘金有多一场主场优势。\u001b[0m\n",
      "Thought:\u001b[32;1m\u001b[1;3m It looks like the Denver Nuggets will have home court advantage in the 2023 NBA Finals\n",
      "Final Answer: 2023年NBA总冠军可能是丹佛掘金队。\u001b[0m\n",
      "\n",
      "\u001b[1m> Finished chain.\u001b[0m\n"
     ]
    },
    {
     "data": {
      "text/plain": [
       "'2023年NBA总冠军可能是丹佛掘金队。'"
      ]
     },
     "execution_count": 34,
     "metadata": {},
     "output_type": "execute_result"
    }
   ],
   "source": [
    "agent.run(\"2023年的NBA总冠军是谁？请用中文回答\")"
   ]
  },
  {
   "cell_type": "markdown",
   "metadata": {},
   "source": [
    "## 做选择题的方式来解决问题"
   ]
  },
  {
   "cell_type": "markdown",
   "metadata": {},
   "source": [
    "### Langchain的工具接口"
   ]
  },
  {
   "cell_type": "markdown",
   "metadata": {},
   "source": [
    "#### FAQ"
   ]
  },
  {
   "cell_type": "code",
   "execution_count": 45,
   "metadata": {},
   "outputs": [],
   "source": [
    "from langchain.embeddings.openai import OpenAIEmbeddings\n",
    "from langchain.vectorstores import FAISS\n",
    "from langchain.text_splitter import SpacyTextSplitter\n",
    "from langchain import OpenAI\n",
    "from langchain.chains import RetrievalQA\n",
    "from langchain.document_loaders import TextLoader\n",
    "from langchain.agents import tool\n"
   ]
  },
  {
   "cell_type": "code",
   "execution_count": 47,
   "metadata": {},
   "outputs": [],
   "source": [
    "loader = TextLoader('./data/ecommerce_faq.txt')\n",
    "documents = loader.load()\n",
    "text_splitter = SpacyTextSplitter(chunk_size=256, pipeline=\"zh_core_web_sm\")\n",
    "texts = text_splitter.split_documents(documents)\n",
    "\n",
    "embeddings = OpenAIEmbeddings() # type: ignore\n",
    "docsearch = FAISS.from_documents(texts, embeddings)\n",
    "faq_chain = RetrievalQA.from_chain_type(llm=OpenAI(temperature=0), retriever=docsearch.as_retriever(), verbose=True) # type: ignore\n",
    "\n",
    "@tool(\"FAQ\")\n",
    "def faq(intput: str) -> str:\n",
    "    \"\"\"\"useful for when you need to answer questions about shopping policies, like return policy, shipping policy, etc.\"\"\"\n",
    "    return faq_chain.run(intput)\n"
   ]
  },
  {
   "cell_type": "code",
   "execution_count": 48,
   "metadata": {},
   "outputs": [
    {
     "name": "stderr",
     "output_type": "stream",
     "text": [
      "Error in on_chain_start callback: 'name'\n"
     ]
    },
    {
     "name": "stdout",
     "output_type": "stream",
     "text": [
      "\n",
      "\u001b[1m> Finished chain.\u001b[0m\n",
      " 我们支持全国大部分省份的配送，包括三亚。一般情况下，大部分城市的订单在2-3个工作日内送达，偏远地区可能需要5-7个工作日。\n"
     ]
    }
   ],
   "source": [
    "question = \"请问你们的货，能送到三亚吗？大概需要几天？\"\n",
    "result = faq_chain.run(question)\n",
    "print(result)"
   ]
  },
  {
   "cell_type": "markdown",
   "metadata": {},
   "source": [
    "#### 商品信息"
   ]
  },
  {
   "cell_type": "code",
   "execution_count": 49,
   "metadata": {},
   "outputs": [],
   "source": [
    "from langchain.text_splitter import CharacterTextSplitter\n",
    "from langchain.document_loaders import CSVLoader\n",
    "\n",
    "product_loader = CSVLoader('./data/ecommerce_products.csv')\n",
    "product_documents = product_loader.load()\n",
    "product_text_splitter = CharacterTextSplitter(chunk_size=1024, separator=\"\\n\")\n",
    "product_texts = product_text_splitter.split_documents(product_documents)\n",
    "product_search = FAISS.from_documents(product_texts, embeddings)\n",
    "product_chain = RetrievalQA.from_chain_type(llm=OpenAI(temperature=0), retriever=product_search.as_retriever(), verbose=True)# type: ignore\n",
    "\n",
    "@tool(\"Recommend Product\")\n",
    "def recommend_product(input: str) -> str:\n",
    "    \"\"\"\"useful for when you need to search and recommend products and recommend it to the user\"\"\"\n",
    "    return product_chain.run(input)"
   ]
  },
  {
   "cell_type": "code",
   "execution_count": 51,
   "metadata": {},
   "outputs": [
    {
     "name": "stderr",
     "output_type": "stream",
     "text": [
      "Error in on_chain_start callback: 'name'\n"
     ]
    },
    {
     "name": "stdout",
     "output_type": "stream",
     "text": [
      "\n",
      "\u001b[1m> Finished chain.\u001b[0m\n",
      " 根据您的要求，我推荐您可以买一件毛衣裙，它采用保暖的面料，颜色为米白色，适合春秋季节穿着，搭配一双黑色长靴和小包包非常优雅大方，非常适合您去公园穿着。\n"
     ]
    }
   ],
   "source": [
    "question = \"我想买一件衣服，想要在春天去公园穿，但是不知道哪个款式好看，你能帮我推荐一下吗？\"\n",
    "answer = product_chain.run(question)\n",
    "print(answer)"
   ]
  },
  {
   "cell_type": "markdown",
   "metadata": {},
   "source": [
    "#### 订单查询"
   ]
  },
  {
   "cell_type": "code",
   "execution_count": 52,
   "metadata": {},
   "outputs": [],
   "source": [
    "import re\n",
    "import json\n",
    "\n",
    "ORDER_1 = \"20230101ABC\"\n",
    "ORDER_2 = \"20230101EFG\"\n",
    "\n",
    "ORDER_1_DETAIL = {\n",
    "    \"order_number\": ORDER_1,\n",
    "    \"status\": \"已发货\",\n",
    "    \"shipping_date\" : \"2023-01-03\",\n",
    "    \"estimated_delivered_date\": \"2023-01-05\",\n",
    "} \n",
    "\n",
    "ORDER_2_DETAIL = {\n",
    "    \"order_number\": ORDER_2,\n",
    "    \"status\": \"未发货\",\n",
    "    \"shipping_date\" : None,\n",
    "    \"estimated_delivered_date\": None,\n",
    "}\n",
    "\n",
    "answer_order_info = PromptTemplate(\n",
    "    template=\"请把下面的订单信息回复给用户： \\n\\n {order}?\", input_variables=[\"order\"]\n",
    ")\n",
    "answer_order_llm = LLMChain(llm=OpenAI(temperature=0),  prompt=answer_order_info) # type: ignore\n",
    "\n",
    "\n",
    "@tool(\"Search Order\", return_direct=True)\n",
    "def search_order(input:str)->str:\n",
    "    \"\"\"useful for when you need to answer questions about customers orders\"\"\"\n",
    "    pattern = r\"\\d+[A-Z]+\"\n",
    "    match = re.search(pattern, input)\n",
    "\n",
    "    order_number = input\n",
    "    if match:\n",
    "        order_number = match.group(0)\n",
    "    else:\n",
    "        return \"请问您的订单号是多少？\"\n",
    "    if order_number == ORDER_1:        \n",
    "        return answer_order_llm.run(json.dumps(ORDER_1_DETAIL))\n",
    "    elif order_number == ORDER_2:\n",
    "        return answer_order_llm.run(json.dumps(ORDER_2_DETAIL))\n",
    "    else:\n",
    "        return f\"对不起，根据{input}没有找到您的订单\"\n"
   ]
  },
  {
   "cell_type": "code",
   "execution_count": 57,
   "metadata": {},
   "outputs": [],
   "source": [
    "tools = {\"search_order\" : search_order, \"recommend_product\": recommend_product, \"faq\": faq}\n",
    "\n",
    "\n",
    "choicellm = OpenAI(max_tokens=2048, temperature=0.5) # type: ignore\n",
    "multiple_choice = \"\"\"\n",
    "请针对用户问题，选择一个合适的工具去回答她的问题。只要用A、B、C的选项字母告诉我答案。\n",
    "\n",
    "我们有的工具包括：\n",
    "A. recommend_product[$keywords], 一个能够查询商品信息，为用户进行商品导购的工具。\n",
    "B. search_order[$order_number], 一个能够查询订单信息，获得最新的订单情况的工具\n",
    "C. faq[$question], 一个能够搜索商家的退换货政策、运费、物流时长、支付渠道、覆盖国家的工具\n",
    "\n",
    "\n",
    "返回的结果需要包含函数名称，以及对应的参数，比如：\n",
    "\n",
    "用户问题：我的订单 20220101ABC 的物流信息是什么？\n",
    "返回结果：search_order[20220101ABC]\n",
    "\n",
    "用户问题：{question}\n",
    "返回结果：\n",
    "\"\"\"\n",
    "multiple_choice_prompt = PromptTemplate(template=multiple_choice, input_variables=[\"question\"])\n",
    "choice_chain = LLMChain(llm=choicellm, prompt=multiple_choice_prompt, output_key=\"answer\")"
   ]
  },
  {
   "cell_type": "code",
   "execution_count": 59,
   "metadata": {},
   "outputs": [
    {
     "name": "stdout",
     "output_type": "stream",
     "text": [
      "search_order[2022ABCDE]\n"
     ]
    }
   ],
   "source": [
    "question = \"我有一张订单，订单号是 2022ABCDE，一直没有收到，能麻烦帮我查一下吗？\"\n",
    "result = choice_chain.run(question)\n",
    "print(result) "
   ]
  },
  {
   "cell_type": "code",
   "execution_count": 60,
   "metadata": {},
   "outputs": [
    {
     "name": "stdout",
     "output_type": "stream",
     "text": [
      "('search_order', '2022ABCDE')\n"
     ]
    }
   ],
   "source": [
    "from typing import Tuple\n",
    "\n",
    "def parse_result(result: str) -> Tuple[str, str]:\n",
    "    pattern = r\"(\\w+)\\[(.+)\\]\"\n",
    "    match = re.search(pattern, result)\n",
    "    if match:\n",
    "        return match.group(1), match.group(2)\n",
    "    else:\n",
    "        return \"\", \"\"\n",
    "    \n",
    "\n",
    "print(parse_result(result))"
   ]
  },
  {
   "cell_type": "code",
   "execution_count": 65,
   "metadata": {},
   "outputs": [
    {
     "name": "stdout",
     "output_type": "stream",
     "text": [
      "对不起，根据2022ABCDE没有找到您的订单\n"
     ]
    }
   ],
   "source": [
    "parsed_result = parse_result(result)\n",
    "method = tools.get(parsed_result[0])\n",
    "params = parsed_result[1]\n",
    "\n",
    "\n",
    "answer = method(params) # type: ignore\n",
    "print(answer)"
   ]
  },
  {
   "cell_type": "code",
   "execution_count": 66,
   "metadata": {},
   "outputs": [
    {
     "name": "stdout",
     "output_type": "stream",
     "text": [
      "\n",
      "\n",
      "您的订单号为20230101ABC，状态为已发货，发货日期为2023-01-03，预计到货日期为2023-01-05。\n"
     ]
    }
   ],
   "source": [
    "question = \"我有一张订单，订单号是 20230101ABC，一直没有收到，能麻烦帮我查一下吗？\"\n",
    "\n",
    "result = choice_chain.run(question)\n",
    "parsed_result = parse_result(result)\n",
    "method = tools.get(parsed_result[0])\n",
    "params = parsed_result[1]\n",
    "\n",
    "\n",
    "answer = method(params) # type: ignore\n",
    "print(answer)\n"
   ]
  },
  {
   "cell_type": "markdown",
   "metadata": {},
   "source": [
    "### 作业，通过Langchain实现上面的功能"
   ]
  },
  {
   "cell_type": "markdown",
   "metadata": {},
   "source": [
    "### Langchain的Agent功能"
   ]
  },
  {
   "cell_type": "code",
   "execution_count": 67,
   "metadata": {},
   "outputs": [],
   "source": [
    "agent_tools = [search_order,recommend_product, faq]\n",
    "agent = initialize_agent(agent_tools, OpenAI(temperature=0), agent=AgentType.CHAT_ZERO_SHOT_REACT_DESCRIPTION, verbose=True) #type: ignore"
   ]
  },
  {
   "cell_type": "code",
   "execution_count": 68,
   "metadata": {},
   "outputs": [
    {
     "name": "stderr",
     "output_type": "stream",
     "text": [
      "Error in on_chain_start callback: 'name'\n"
     ]
    },
    {
     "name": "stdout",
     "output_type": "stream",
     "text": [
      "\u001b[32;1m\u001b[1;3m\n",
      "Thought: I need to find out the status of the order\n",
      "Action:\n",
      "```\n",
      "{\n",
      "  \"action\": \"Search Order\",\n",
      "  \"action_input\": \"2022ABCDE\"\n",
      "}\n",
      "```\n",
      "\u001b[0m\n",
      "Observation: \u001b[36;1m\u001b[1;3m对不起，根据2022ABCDE没有找到您的订单\u001b[0m\n",
      "\u001b[32;1m\u001b[1;3m\u001b[0m\n",
      "\n",
      "\u001b[1m> Finished chain.\u001b[0m\n",
      "对不起，根据2022ABCDE没有找到您的订单\n"
     ]
    }
   ],
   "source": [
    "question = \"我有一张订单，订单号是 2022ABCDE，一直没有收到，能麻烦帮我查一下吗？\"\n",
    "answer = agent.run(question)\n",
    "print(answer)"
   ]
  },
  {
   "cell_type": "code",
   "execution_count": 69,
   "metadata": {},
   "outputs": [
    {
     "name": "stderr",
     "output_type": "stream",
     "text": [
      "Error in on_chain_start callback: 'name'\n"
     ]
    },
    {
     "name": "stdout",
     "output_type": "stream",
     "text": [
      "\u001b[32;1m\u001b[1;3m\n",
      "Thought: The customer is asking about an order they have not received.\n",
      "\n",
      "Action:\n",
      "```\n",
      "{\n",
      "  \"action\": \"Search Order\",\n",
      "  \"action_input\": \"20230101ABC\"\n",
      "}\n",
      "```\n",
      "\n",
      "\u001b[0m\n",
      "Observation: \u001b[36;1m\u001b[1;3m\n",
      "\n",
      "您的订单号为20230101ABC，状态为已发货，发货日期为2023-01-03，预计到货日期为2023-01-05。\u001b[0m\n",
      "\u001b[32;1m\u001b[1;3m\u001b[0m\n",
      "\n",
      "\u001b[1m> Finished chain.\u001b[0m\n",
      "\n",
      "\n",
      "您的订单号为20230101ABC，状态为已发货，发货日期为2023-01-03，预计到货日期为2023-01-05。\n"
     ]
    }
   ],
   "source": [
    "question2 = \"我有一张订单，订单号是 20230101ABC 一直没有收到，能麻烦帮我查一下吗？\"\n",
    "answer2 = agent.run(question2)\n",
    "print(answer2)"
   ]
  },
  {
   "cell_type": "code",
   "execution_count": 70,
   "metadata": {},
   "outputs": [
    {
     "name": "stderr",
     "output_type": "stream",
     "text": [
      "Error in on_chain_start callback: 'name'\n",
      "Error in on_chain_start callback: 'name'\n"
     ]
    },
    {
     "name": "stdout",
     "output_type": "stream",
     "text": [
      "\u001b[32;1m\u001b[1;3m\n",
      "Thought: I need to answer a question about the return policy\n",
      "Action:\n",
      "```\n",
      "{\n",
      "  \"action\": \"FAQ\",\n",
      "  \"action_input\": \"return policy\"\n",
      "}\n",
      "```\n",
      "\u001b[0m\n",
      "\u001b[1m> Finished chain.\u001b[0m\n",
      "\n",
      "Observation: \u001b[38;5;200m\u001b[1;3m 自收到商品之日起7天内，如产品未使用、包装完好，您可以申请退货。某些特殊商品可能不支持退货，请在购买前查看商品详情页面的退货政策。\u001b[0m\n",
      "Thought:\u001b[32;1m\u001b[1;3m I now know the final answer\n",
      "Final Answer: 自收到商品之日起7天内，如产品未使用、包装完好，您可以申请退货。某些特殊商品可能不支持退货，请在购买前查看商品详情页面的退货政策。\u001b[0m\n",
      "\n",
      "\u001b[1m> Finished chain.\u001b[0m\n",
      "自收到商品之日起7天内，如产品未使用、包装完好，您可以申请退货。某些特殊商品可能不支持退货，请在购买前查看商品详情页面的退货政策。\n"
     ]
    }
   ],
   "source": [
    "question3 = \"你们的退货政策是怎么样的？\"\n",
    "answer3 = agent.run(question3)\n",
    "print(answer3)"
   ]
  },
  {
   "cell_type": "code",
   "execution_count": 71,
   "metadata": {},
   "outputs": [
    {
     "name": "stderr",
     "output_type": "stream",
     "text": [
      "Error in on_chain_start callback: 'name'\n",
      "Error in on_chain_start callback: 'name'\n"
     ]
    },
    {
     "name": "stdout",
     "output_type": "stream",
     "text": [
      "\u001b[32;1m\u001b[1;3m\n",
      "Thought: I need to recommend a product\n",
      "Action:\n",
      "```\n",
      "{\n",
      "  \"action\": \"Recommend Product\",\n",
      "  \"action_input\": \"Clothing for Spring\"\n",
      "}\n",
      "```\n",
      "\u001b[0m\n",
      "\u001b[1m> Finished chain.\u001b[0m\n",
      "\n",
      "Observation: \u001b[33;1m\u001b[1;3m 毛衣裙、卫衣连衣裙、雪纺连衣裙、长款风衣\u001b[0m\n",
      "Thought:\u001b[32;1m\u001b[1;3m I now know the final answer\n",
      "Final Answer: 毛衣裙、卫衣连衣裙、雪纺连衣裙、长款风衣\u001b[0m\n",
      "\n",
      "\u001b[1m> Finished chain.\u001b[0m\n",
      "毛衣裙、卫衣连衣裙、雪纺连衣裙、长款风衣\n"
     ]
    }
   ],
   "source": [
    "question4 = \"能推荐一件现在适合春天穿的衣服给我么？\"\n",
    "answer4 = agent.run(question4)\n",
    "print(answer4)"
   ]
  }
 ],
 "metadata": {
  "kernelspec": {
   "display_name": "mactalk",
   "language": "python",
   "name": "python3"
  },
  "language_info": {
   "codemirror_mode": {
    "name": "ipython",
    "version": 3
   },
   "file_extension": ".py",
   "mimetype": "text/x-python",
   "name": "python",
   "nbconvert_exporter": "python",
   "pygments_lexer": "ipython3",
   "version": "3.10.12"
  },
  "orig_nbformat": 4
 },
 "nbformat": 4,
 "nbformat_minor": 2
}
